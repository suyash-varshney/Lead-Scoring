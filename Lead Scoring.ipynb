{
 "cells": [
  {
   "cell_type": "markdown",
   "metadata": {},
   "source": [
    "# Case Study : Lead Scoring"
   ]
  },
  {
   "cell_type": "markdown",
   "metadata": {},
   "source": [
    "## Problem Statement"
   ]
  },
  {
   "cell_type": "markdown",
   "metadata": {},
   "source": [
    "An education company named X Education sells online courses to industry professionals. On any given day, many professionals who are interested in the courses land on their website and browse for courses. \n",
    "\n",
    " \n",
    "\n",
    "The company markets its courses on several websites and search engines like Google. Once these people land on the website, they might browse the courses or fill up a form for the course or watch some videos. When these people fill up a form providing their email address or phone number, they are classified to be a lead. Moreover, the company also gets leads through past referrals. Once these leads are acquired, employees from the sales team start making calls, writing emails, etc. Through this process, some of the leads get converted while most do not. The typical lead conversion rate at X education is around 30%. \n",
    "\n",
    " \n",
    "\n",
    "Now, although X Education gets a lot of leads, its lead conversion rate is very poor. For example, if, say, they acquire 100 leads in a day, only about 30 of them are converted. To make this process more efficient, the company wishes to identify the most potential leads, also known as ‘Hot Leads’. If they successfully identify this set of leads, the lead conversion rate should go up as the sales team will now be focusing more on communicating with the potential leads rather than making calls to everyone\n",
    "\n",
    "X Education has appointed you to help them select the most promising leads, i.e. the leads that are most likely to convert into paying customers. The company requires you to build a model wherein you need to assign a lead score to each of the leads such that the customers with higher lead score have a higher conversion chance and the customers with lower lead score have a lower conversion chance. The CEO, in particular, has given a ballpark of the target lead conversion rate to be around 80%."
   ]
  },
  {
   "cell_type": "markdown",
   "metadata": {},
   "source": [
    "### Goals of the Case Study"
   ]
  },
  {
   "cell_type": "markdown",
   "metadata": {},
   "source": [
    "There are quite a few goals for this case study.\n",
    "\n",
    "1. Build a logistic regression model to assign a lead score between 0 and 100 to each of the leads which can be used by the company to target potential leads. A higher score would mean that the lead is hot, i.e. is most likely to convert whereas a lower score would mean that the lead is cold and will mostly not get converted.\n",
    "2. There are some more problems presented by the company which your model should be able to adjust to if the company's requirement changes in the future so you will need to handle these as well. These problems are provided in a separate doc file. Please fill it based on the logistic regression model you got in the first step. Also, make sure you include this in your final PPT where you'll make recommendations."
   ]
  },
  {
   "cell_type": "markdown",
   "metadata": {},
   "source": [
    "### Import Python libraries"
   ]
  },
  {
   "cell_type": "code",
   "execution_count": 176,
   "metadata": {},
   "outputs": [],
   "source": [
    "# Supress Warnings\n",
    "import warnings\n",
    "warnings.filterwarnings('ignore')\n",
    "\n",
    "# Importing Python libraries\n",
    "import numpy as np\n",
    "import pandas as pd\n",
    "import matplotlib.pyplot as plt\n",
    "import seaborn as sns\n",
    "\n",
    "\n",
    "# Statsmodel Package\n",
    "import statsmodels.api as sm\n",
    "from sklearn.preprocessing import StandardScaler\n",
    "from sklearn.model_selection import train_test_split\n",
    "from sklearn.linear_model import LogisticRegression\n",
    "from sklearn.feature_selection import RFE\n",
    "from sklearn import metrics\n",
    "\n",
    "# Statsmodel Package\n",
    "from statsmodels.stats.outliers_influence import variance_inflation_factor\n",
    "from sklearn.metrics import confusion_matrix\n",
    "from sklearn.metrics import precision_score, recall_score\n",
    "from sklearn.metrics import precision_recall_curve"
   ]
  },
  {
   "cell_type": "markdown",
   "metadata": {},
   "source": [
    "### Reading and Understand the Data"
   ]
  },
  {
   "cell_type": "code",
   "execution_count": 177,
   "metadata": {},
   "outputs": [
    {
     "data": {
      "text/html": [
       "<div>\n",
       "<style scoped>\n",
       "    .dataframe tbody tr th:only-of-type {\n",
       "        vertical-align: middle;\n",
       "    }\n",
       "\n",
       "    .dataframe tbody tr th {\n",
       "        vertical-align: top;\n",
       "    }\n",
       "\n",
       "    .dataframe thead th {\n",
       "        text-align: right;\n",
       "    }\n",
       "</style>\n",
       "<table border=\"1\" class=\"dataframe\">\n",
       "  <thead>\n",
       "    <tr style=\"text-align: right;\">\n",
       "      <th></th>\n",
       "      <th>Prospect ID</th>\n",
       "      <th>Lead Number</th>\n",
       "      <th>Lead Origin</th>\n",
       "      <th>Lead Source</th>\n",
       "      <th>Do Not Email</th>\n",
       "      <th>Do Not Call</th>\n",
       "      <th>Converted</th>\n",
       "      <th>TotalVisits</th>\n",
       "      <th>Total Time Spent on Website</th>\n",
       "      <th>Page Views Per Visit</th>\n",
       "      <th>...</th>\n",
       "      <th>Get updates on DM Content</th>\n",
       "      <th>Lead Profile</th>\n",
       "      <th>City</th>\n",
       "      <th>Asymmetrique Activity Index</th>\n",
       "      <th>Asymmetrique Profile Index</th>\n",
       "      <th>Asymmetrique Activity Score</th>\n",
       "      <th>Asymmetrique Profile Score</th>\n",
       "      <th>I agree to pay the amount through cheque</th>\n",
       "      <th>A free copy of Mastering The Interview</th>\n",
       "      <th>Last Notable Activity</th>\n",
       "    </tr>\n",
       "  </thead>\n",
       "  <tbody>\n",
       "    <tr>\n",
       "      <th>0</th>\n",
       "      <td>7927b2df-8bba-4d29-b9a2-b6e0beafe620</td>\n",
       "      <td>660737</td>\n",
       "      <td>API</td>\n",
       "      <td>Olark Chat</td>\n",
       "      <td>No</td>\n",
       "      <td>No</td>\n",
       "      <td>0</td>\n",
       "      <td>0.0</td>\n",
       "      <td>0</td>\n",
       "      <td>0.0</td>\n",
       "      <td>...</td>\n",
       "      <td>No</td>\n",
       "      <td>Select</td>\n",
       "      <td>Select</td>\n",
       "      <td>02.Medium</td>\n",
       "      <td>02.Medium</td>\n",
       "      <td>15.0</td>\n",
       "      <td>15.0</td>\n",
       "      <td>No</td>\n",
       "      <td>No</td>\n",
       "      <td>Modified</td>\n",
       "    </tr>\n",
       "    <tr>\n",
       "      <th>1</th>\n",
       "      <td>2a272436-5132-4136-86fa-dcc88c88f482</td>\n",
       "      <td>660728</td>\n",
       "      <td>API</td>\n",
       "      <td>Organic Search</td>\n",
       "      <td>No</td>\n",
       "      <td>No</td>\n",
       "      <td>0</td>\n",
       "      <td>5.0</td>\n",
       "      <td>674</td>\n",
       "      <td>2.5</td>\n",
       "      <td>...</td>\n",
       "      <td>No</td>\n",
       "      <td>Select</td>\n",
       "      <td>Select</td>\n",
       "      <td>02.Medium</td>\n",
       "      <td>02.Medium</td>\n",
       "      <td>15.0</td>\n",
       "      <td>15.0</td>\n",
       "      <td>No</td>\n",
       "      <td>No</td>\n",
       "      <td>Email Opened</td>\n",
       "    </tr>\n",
       "    <tr>\n",
       "      <th>2</th>\n",
       "      <td>8cc8c611-a219-4f35-ad23-fdfd2656bd8a</td>\n",
       "      <td>660727</td>\n",
       "      <td>Landing Page Submission</td>\n",
       "      <td>Direct Traffic</td>\n",
       "      <td>No</td>\n",
       "      <td>No</td>\n",
       "      <td>1</td>\n",
       "      <td>2.0</td>\n",
       "      <td>1532</td>\n",
       "      <td>2.0</td>\n",
       "      <td>...</td>\n",
       "      <td>No</td>\n",
       "      <td>Potential Lead</td>\n",
       "      <td>Mumbai</td>\n",
       "      <td>02.Medium</td>\n",
       "      <td>01.High</td>\n",
       "      <td>14.0</td>\n",
       "      <td>20.0</td>\n",
       "      <td>No</td>\n",
       "      <td>Yes</td>\n",
       "      <td>Email Opened</td>\n",
       "    </tr>\n",
       "    <tr>\n",
       "      <th>3</th>\n",
       "      <td>0cc2df48-7cf4-4e39-9de9-19797f9b38cc</td>\n",
       "      <td>660719</td>\n",
       "      <td>Landing Page Submission</td>\n",
       "      <td>Direct Traffic</td>\n",
       "      <td>No</td>\n",
       "      <td>No</td>\n",
       "      <td>0</td>\n",
       "      <td>1.0</td>\n",
       "      <td>305</td>\n",
       "      <td>1.0</td>\n",
       "      <td>...</td>\n",
       "      <td>No</td>\n",
       "      <td>Select</td>\n",
       "      <td>Mumbai</td>\n",
       "      <td>02.Medium</td>\n",
       "      <td>01.High</td>\n",
       "      <td>13.0</td>\n",
       "      <td>17.0</td>\n",
       "      <td>No</td>\n",
       "      <td>No</td>\n",
       "      <td>Modified</td>\n",
       "    </tr>\n",
       "    <tr>\n",
       "      <th>4</th>\n",
       "      <td>3256f628-e534-4826-9d63-4a8b88782852</td>\n",
       "      <td>660681</td>\n",
       "      <td>Landing Page Submission</td>\n",
       "      <td>Google</td>\n",
       "      <td>No</td>\n",
       "      <td>No</td>\n",
       "      <td>1</td>\n",
       "      <td>2.0</td>\n",
       "      <td>1428</td>\n",
       "      <td>1.0</td>\n",
       "      <td>...</td>\n",
       "      <td>No</td>\n",
       "      <td>Select</td>\n",
       "      <td>Mumbai</td>\n",
       "      <td>02.Medium</td>\n",
       "      <td>01.High</td>\n",
       "      <td>15.0</td>\n",
       "      <td>18.0</td>\n",
       "      <td>No</td>\n",
       "      <td>No</td>\n",
       "      <td>Modified</td>\n",
       "    </tr>\n",
       "  </tbody>\n",
       "</table>\n",
       "<p>5 rows × 37 columns</p>\n",
       "</div>"
      ],
      "text/plain": [
       "                            Prospect ID  Lead Number              Lead Origin  \\\n",
       "0  7927b2df-8bba-4d29-b9a2-b6e0beafe620       660737                      API   \n",
       "1  2a272436-5132-4136-86fa-dcc88c88f482       660728                      API   \n",
       "2  8cc8c611-a219-4f35-ad23-fdfd2656bd8a       660727  Landing Page Submission   \n",
       "3  0cc2df48-7cf4-4e39-9de9-19797f9b38cc       660719  Landing Page Submission   \n",
       "4  3256f628-e534-4826-9d63-4a8b88782852       660681  Landing Page Submission   \n",
       "\n",
       "      Lead Source Do Not Email Do Not Call  Converted  TotalVisits  \\\n",
       "0      Olark Chat           No          No          0          0.0   \n",
       "1  Organic Search           No          No          0          5.0   \n",
       "2  Direct Traffic           No          No          1          2.0   \n",
       "3  Direct Traffic           No          No          0          1.0   \n",
       "4          Google           No          No          1          2.0   \n",
       "\n",
       "   Total Time Spent on Website  Page Views Per Visit  ...  \\\n",
       "0                            0                   0.0  ...   \n",
       "1                          674                   2.5  ...   \n",
       "2                         1532                   2.0  ...   \n",
       "3                          305                   1.0  ...   \n",
       "4                         1428                   1.0  ...   \n",
       "\n",
       "  Get updates on DM Content    Lead Profile    City  \\\n",
       "0                        No          Select  Select   \n",
       "1                        No          Select  Select   \n",
       "2                        No  Potential Lead  Mumbai   \n",
       "3                        No          Select  Mumbai   \n",
       "4                        No          Select  Mumbai   \n",
       "\n",
       "  Asymmetrique Activity Index Asymmetrique Profile Index  \\\n",
       "0                   02.Medium                  02.Medium   \n",
       "1                   02.Medium                  02.Medium   \n",
       "2                   02.Medium                    01.High   \n",
       "3                   02.Medium                    01.High   \n",
       "4                   02.Medium                    01.High   \n",
       "\n",
       "  Asymmetrique Activity Score Asymmetrique Profile Score  \\\n",
       "0                        15.0                       15.0   \n",
       "1                        15.0                       15.0   \n",
       "2                        14.0                       20.0   \n",
       "3                        13.0                       17.0   \n",
       "4                        15.0                       18.0   \n",
       "\n",
       "  I agree to pay the amount through cheque  \\\n",
       "0                                       No   \n",
       "1                                       No   \n",
       "2                                       No   \n",
       "3                                       No   \n",
       "4                                       No   \n",
       "\n",
       "  A free copy of Mastering The Interview Last Notable Activity  \n",
       "0                                     No              Modified  \n",
       "1                                     No          Email Opened  \n",
       "2                                    Yes          Email Opened  \n",
       "3                                     No              Modified  \n",
       "4                                     No              Modified  \n",
       "\n",
       "[5 rows x 37 columns]"
      ]
     },
     "execution_count": 177,
     "metadata": {},
     "output_type": "execute_result"
    }
   ],
   "source": [
    "# Load Data\n",
    "df_leads = pd.read_csv('Leads.csv')\n",
    "df_leads.head()"
   ]
  },
  {
   "cell_type": "code",
   "execution_count": 178,
   "metadata": {},
   "outputs": [
    {
     "data": {
      "text/plain": [
       "(9240, 37)"
      ]
     },
     "execution_count": 178,
     "metadata": {},
     "output_type": "execute_result"
    }
   ],
   "source": [
    "# Check Rows and Columns\n",
    "df_leads.shape"
   ]
  },
  {
   "cell_type": "code",
   "execution_count": 179,
   "metadata": {},
   "outputs": [
    {
     "name": "stdout",
     "output_type": "stream",
     "text": [
      "<class 'pandas.core.frame.DataFrame'>\n",
      "RangeIndex: 9240 entries, 0 to 9239\n",
      "Data columns (total 37 columns):\n",
      "Prospect ID                                      9240 non-null object\n",
      "Lead Number                                      9240 non-null int64\n",
      "Lead Origin                                      9240 non-null object\n",
      "Lead Source                                      9204 non-null object\n",
      "Do Not Email                                     9240 non-null object\n",
      "Do Not Call                                      9240 non-null object\n",
      "Converted                                        9240 non-null int64\n",
      "TotalVisits                                      9103 non-null float64\n",
      "Total Time Spent on Website                      9240 non-null int64\n",
      "Page Views Per Visit                             9103 non-null float64\n",
      "Last Activity                                    9137 non-null object\n",
      "Country                                          6779 non-null object\n",
      "Specialization                                   7802 non-null object\n",
      "How did you hear about X Education               7033 non-null object\n",
      "What is your current occupation                  6550 non-null object\n",
      "What matters most to you in choosing a course    6531 non-null object\n",
      "Search                                           9240 non-null object\n",
      "Magazine                                         9240 non-null object\n",
      "Newspaper Article                                9240 non-null object\n",
      "X Education Forums                               9240 non-null object\n",
      "Newspaper                                        9240 non-null object\n",
      "Digital Advertisement                            9240 non-null object\n",
      "Through Recommendations                          9240 non-null object\n",
      "Receive More Updates About Our Courses           9240 non-null object\n",
      "Tags                                             5887 non-null object\n",
      "Lead Quality                                     4473 non-null object\n",
      "Update me on Supply Chain Content                9240 non-null object\n",
      "Get updates on DM Content                        9240 non-null object\n",
      "Lead Profile                                     6531 non-null object\n",
      "City                                             7820 non-null object\n",
      "Asymmetrique Activity Index                      5022 non-null object\n",
      "Asymmetrique Profile Index                       5022 non-null object\n",
      "Asymmetrique Activity Score                      5022 non-null float64\n",
      "Asymmetrique Profile Score                       5022 non-null float64\n",
      "I agree to pay the amount through cheque         9240 non-null object\n",
      "A free copy of Mastering The Interview           9240 non-null object\n",
      "Last Notable Activity                            9240 non-null object\n",
      "dtypes: float64(4), int64(3), object(30)\n",
      "memory usage: 2.6+ MB\n"
     ]
    }
   ],
   "source": [
    "# Check Columns/Features details\n",
    "df_leads.info()"
   ]
  },
  {
   "cell_type": "code",
   "execution_count": 180,
   "metadata": {},
   "outputs": [
    {
     "data": {
      "text/html": [
       "<div>\n",
       "<style scoped>\n",
       "    .dataframe tbody tr th:only-of-type {\n",
       "        vertical-align: middle;\n",
       "    }\n",
       "\n",
       "    .dataframe tbody tr th {\n",
       "        vertical-align: top;\n",
       "    }\n",
       "\n",
       "    .dataframe thead th {\n",
       "        text-align: right;\n",
       "    }\n",
       "</style>\n",
       "<table border=\"1\" class=\"dataframe\">\n",
       "  <thead>\n",
       "    <tr style=\"text-align: right;\">\n",
       "      <th></th>\n",
       "      <th>Lead Number</th>\n",
       "      <th>Converted</th>\n",
       "      <th>TotalVisits</th>\n",
       "      <th>Total Time Spent on Website</th>\n",
       "      <th>Page Views Per Visit</th>\n",
       "      <th>Asymmetrique Activity Score</th>\n",
       "      <th>Asymmetrique Profile Score</th>\n",
       "    </tr>\n",
       "  </thead>\n",
       "  <tbody>\n",
       "    <tr>\n",
       "      <th>count</th>\n",
       "      <td>9240.000000</td>\n",
       "      <td>9240.000000</td>\n",
       "      <td>9103.000000</td>\n",
       "      <td>9240.000000</td>\n",
       "      <td>9103.000000</td>\n",
       "      <td>5022.000000</td>\n",
       "      <td>5022.000000</td>\n",
       "    </tr>\n",
       "    <tr>\n",
       "      <th>mean</th>\n",
       "      <td>617188.435606</td>\n",
       "      <td>0.385390</td>\n",
       "      <td>3.445238</td>\n",
       "      <td>487.698268</td>\n",
       "      <td>2.362820</td>\n",
       "      <td>14.306252</td>\n",
       "      <td>16.344883</td>\n",
       "    </tr>\n",
       "    <tr>\n",
       "      <th>std</th>\n",
       "      <td>23405.995698</td>\n",
       "      <td>0.486714</td>\n",
       "      <td>4.854853</td>\n",
       "      <td>548.021466</td>\n",
       "      <td>2.161418</td>\n",
       "      <td>1.386694</td>\n",
       "      <td>1.811395</td>\n",
       "    </tr>\n",
       "    <tr>\n",
       "      <th>min</th>\n",
       "      <td>579533.000000</td>\n",
       "      <td>0.000000</td>\n",
       "      <td>0.000000</td>\n",
       "      <td>0.000000</td>\n",
       "      <td>0.000000</td>\n",
       "      <td>7.000000</td>\n",
       "      <td>11.000000</td>\n",
       "    </tr>\n",
       "    <tr>\n",
       "      <th>25%</th>\n",
       "      <td>596484.500000</td>\n",
       "      <td>0.000000</td>\n",
       "      <td>1.000000</td>\n",
       "      <td>12.000000</td>\n",
       "      <td>1.000000</td>\n",
       "      <td>14.000000</td>\n",
       "      <td>15.000000</td>\n",
       "    </tr>\n",
       "    <tr>\n",
       "      <th>50%</th>\n",
       "      <td>615479.000000</td>\n",
       "      <td>0.000000</td>\n",
       "      <td>3.000000</td>\n",
       "      <td>248.000000</td>\n",
       "      <td>2.000000</td>\n",
       "      <td>14.000000</td>\n",
       "      <td>16.000000</td>\n",
       "    </tr>\n",
       "    <tr>\n",
       "      <th>75%</th>\n",
       "      <td>637387.250000</td>\n",
       "      <td>1.000000</td>\n",
       "      <td>5.000000</td>\n",
       "      <td>936.000000</td>\n",
       "      <td>3.000000</td>\n",
       "      <td>15.000000</td>\n",
       "      <td>18.000000</td>\n",
       "    </tr>\n",
       "    <tr>\n",
       "      <th>max</th>\n",
       "      <td>660737.000000</td>\n",
       "      <td>1.000000</td>\n",
       "      <td>251.000000</td>\n",
       "      <td>2272.000000</td>\n",
       "      <td>55.000000</td>\n",
       "      <td>18.000000</td>\n",
       "      <td>20.000000</td>\n",
       "    </tr>\n",
       "  </tbody>\n",
       "</table>\n",
       "</div>"
      ],
      "text/plain": [
       "         Lead Number    Converted  TotalVisits  Total Time Spent on Website  \\\n",
       "count    9240.000000  9240.000000  9103.000000                  9240.000000   \n",
       "mean   617188.435606     0.385390     3.445238                   487.698268   \n",
       "std     23405.995698     0.486714     4.854853                   548.021466   \n",
       "min    579533.000000     0.000000     0.000000                     0.000000   \n",
       "25%    596484.500000     0.000000     1.000000                    12.000000   \n",
       "50%    615479.000000     0.000000     3.000000                   248.000000   \n",
       "75%    637387.250000     1.000000     5.000000                   936.000000   \n",
       "max    660737.000000     1.000000   251.000000                  2272.000000   \n",
       "\n",
       "       Page Views Per Visit  Asymmetrique Activity Score  \\\n",
       "count           9103.000000                  5022.000000   \n",
       "mean               2.362820                    14.306252   \n",
       "std                2.161418                     1.386694   \n",
       "min                0.000000                     7.000000   \n",
       "25%                1.000000                    14.000000   \n",
       "50%                2.000000                    14.000000   \n",
       "75%                3.000000                    15.000000   \n",
       "max               55.000000                    18.000000   \n",
       "\n",
       "       Asymmetrique Profile Score  \n",
       "count                 5022.000000  \n",
       "mean                    16.344883  \n",
       "std                      1.811395  \n",
       "min                     11.000000  \n",
       "25%                     15.000000  \n",
       "50%                     16.000000  \n",
       "75%                     18.000000  \n",
       "max                     20.000000  "
      ]
     },
     "execution_count": 180,
     "metadata": {},
     "output_type": "execute_result"
    }
   ],
   "source": [
    "# Chcek All numeric Columns/Features\n",
    "df_leads.describe()"
   ]
  },
  {
   "cell_type": "code",
   "execution_count": 181,
   "metadata": {},
   "outputs": [
    {
     "data": {
      "text/plain": [
       "Prospect ID                                       0.00\n",
       "Lead Number                                       0.00\n",
       "Lead Origin                                       0.00\n",
       "Lead Source                                       0.39\n",
       "Do Not Email                                      0.00\n",
       "Do Not Call                                       0.00\n",
       "Converted                                         0.00\n",
       "TotalVisits                                       1.48\n",
       "Total Time Spent on Website                       0.00\n",
       "Page Views Per Visit                              1.48\n",
       "Last Activity                                     1.11\n",
       "Country                                          26.63\n",
       "Specialization                                   15.56\n",
       "How did you hear about X Education               23.89\n",
       "What is your current occupation                  29.11\n",
       "What matters most to you in choosing a course    29.32\n",
       "Search                                            0.00\n",
       "Magazine                                          0.00\n",
       "Newspaper Article                                 0.00\n",
       "X Education Forums                                0.00\n",
       "Newspaper                                         0.00\n",
       "Digital Advertisement                             0.00\n",
       "Through Recommendations                           0.00\n",
       "Receive More Updates About Our Courses            0.00\n",
       "Tags                                             36.29\n",
       "Lead Quality                                     51.59\n",
       "Update me on Supply Chain Content                 0.00\n",
       "Get updates on DM Content                         0.00\n",
       "Lead Profile                                     29.32\n",
       "City                                             15.37\n",
       "Asymmetrique Activity Index                      45.65\n",
       "Asymmetrique Profile Index                       45.65\n",
       "Asymmetrique Activity Score                      45.65\n",
       "Asymmetrique Profile Score                       45.65\n",
       "I agree to pay the amount through cheque          0.00\n",
       "A free copy of Mastering The Interview            0.00\n",
       "Last Notable Activity                             0.00\n",
       "dtype: float64"
      ]
     },
     "execution_count": 181,
     "metadata": {},
     "output_type": "execute_result"
    }
   ],
   "source": [
    "# Chcek Missing value for all the Columns/Features\n",
    "round(df_leads.isnull().sum()/len(df_leads.index)*100,2)"
   ]
  },
  {
   "cell_type": "code",
   "execution_count": 182,
   "metadata": {},
   "outputs": [
    {
     "data": {
      "text/html": [
       "<div>\n",
       "<style scoped>\n",
       "    .dataframe tbody tr th:only-of-type {\n",
       "        vertical-align: middle;\n",
       "    }\n",
       "\n",
       "    .dataframe tbody tr th {\n",
       "        vertical-align: top;\n",
       "    }\n",
       "\n",
       "    .dataframe thead th {\n",
       "        text-align: right;\n",
       "    }\n",
       "</style>\n",
       "<table border=\"1\" class=\"dataframe\">\n",
       "  <thead>\n",
       "    <tr style=\"text-align: right;\">\n",
       "      <th></th>\n",
       "      <th>Prospect ID</th>\n",
       "      <th>Lead Number</th>\n",
       "      <th>Lead Origin</th>\n",
       "      <th>Lead Source</th>\n",
       "      <th>Do Not Email</th>\n",
       "      <th>Do Not Call</th>\n",
       "      <th>Converted</th>\n",
       "      <th>TotalVisits</th>\n",
       "      <th>Total Time Spent on Website</th>\n",
       "      <th>Page Views Per Visit</th>\n",
       "      <th>...</th>\n",
       "      <th>Get updates on DM Content</th>\n",
       "      <th>Lead Profile</th>\n",
       "      <th>City</th>\n",
       "      <th>Asymmetrique Activity Index</th>\n",
       "      <th>Asymmetrique Profile Index</th>\n",
       "      <th>Asymmetrique Activity Score</th>\n",
       "      <th>Asymmetrique Profile Score</th>\n",
       "      <th>I agree to pay the amount through cheque</th>\n",
       "      <th>A free copy of Mastering The Interview</th>\n",
       "      <th>Last Notable Activity</th>\n",
       "    </tr>\n",
       "  </thead>\n",
       "  <tbody>\n",
       "    <tr>\n",
       "      <th>0</th>\n",
       "      <td>7927b2df-8bba-4d29-b9a2-b6e0beafe620</td>\n",
       "      <td>660737</td>\n",
       "      <td>API</td>\n",
       "      <td>Olark Chat</td>\n",
       "      <td>No</td>\n",
       "      <td>No</td>\n",
       "      <td>0</td>\n",
       "      <td>0.0</td>\n",
       "      <td>0</td>\n",
       "      <td>0.0</td>\n",
       "      <td>...</td>\n",
       "      <td>No</td>\n",
       "      <td>Select</td>\n",
       "      <td>Select</td>\n",
       "      <td>02.Medium</td>\n",
       "      <td>02.Medium</td>\n",
       "      <td>15.0</td>\n",
       "      <td>15.0</td>\n",
       "      <td>No</td>\n",
       "      <td>No</td>\n",
       "      <td>Modified</td>\n",
       "    </tr>\n",
       "    <tr>\n",
       "      <th>1</th>\n",
       "      <td>2a272436-5132-4136-86fa-dcc88c88f482</td>\n",
       "      <td>660728</td>\n",
       "      <td>API</td>\n",
       "      <td>Organic Search</td>\n",
       "      <td>No</td>\n",
       "      <td>No</td>\n",
       "      <td>0</td>\n",
       "      <td>5.0</td>\n",
       "      <td>674</td>\n",
       "      <td>2.5</td>\n",
       "      <td>...</td>\n",
       "      <td>No</td>\n",
       "      <td>Select</td>\n",
       "      <td>Select</td>\n",
       "      <td>02.Medium</td>\n",
       "      <td>02.Medium</td>\n",
       "      <td>15.0</td>\n",
       "      <td>15.0</td>\n",
       "      <td>No</td>\n",
       "      <td>No</td>\n",
       "      <td>Email Opened</td>\n",
       "    </tr>\n",
       "    <tr>\n",
       "      <th>2</th>\n",
       "      <td>8cc8c611-a219-4f35-ad23-fdfd2656bd8a</td>\n",
       "      <td>660727</td>\n",
       "      <td>Landing Page Submission</td>\n",
       "      <td>Direct Traffic</td>\n",
       "      <td>No</td>\n",
       "      <td>No</td>\n",
       "      <td>1</td>\n",
       "      <td>2.0</td>\n",
       "      <td>1532</td>\n",
       "      <td>2.0</td>\n",
       "      <td>...</td>\n",
       "      <td>No</td>\n",
       "      <td>Potential Lead</td>\n",
       "      <td>Mumbai</td>\n",
       "      <td>02.Medium</td>\n",
       "      <td>01.High</td>\n",
       "      <td>14.0</td>\n",
       "      <td>20.0</td>\n",
       "      <td>No</td>\n",
       "      <td>Yes</td>\n",
       "      <td>Email Opened</td>\n",
       "    </tr>\n",
       "    <tr>\n",
       "      <th>3</th>\n",
       "      <td>0cc2df48-7cf4-4e39-9de9-19797f9b38cc</td>\n",
       "      <td>660719</td>\n",
       "      <td>Landing Page Submission</td>\n",
       "      <td>Direct Traffic</td>\n",
       "      <td>No</td>\n",
       "      <td>No</td>\n",
       "      <td>0</td>\n",
       "      <td>1.0</td>\n",
       "      <td>305</td>\n",
       "      <td>1.0</td>\n",
       "      <td>...</td>\n",
       "      <td>No</td>\n",
       "      <td>Select</td>\n",
       "      <td>Mumbai</td>\n",
       "      <td>02.Medium</td>\n",
       "      <td>01.High</td>\n",
       "      <td>13.0</td>\n",
       "      <td>17.0</td>\n",
       "      <td>No</td>\n",
       "      <td>No</td>\n",
       "      <td>Modified</td>\n",
       "    </tr>\n",
       "    <tr>\n",
       "      <th>4</th>\n",
       "      <td>3256f628-e534-4826-9d63-4a8b88782852</td>\n",
       "      <td>660681</td>\n",
       "      <td>Landing Page Submission</td>\n",
       "      <td>Google</td>\n",
       "      <td>No</td>\n",
       "      <td>No</td>\n",
       "      <td>1</td>\n",
       "      <td>2.0</td>\n",
       "      <td>1428</td>\n",
       "      <td>1.0</td>\n",
       "      <td>...</td>\n",
       "      <td>No</td>\n",
       "      <td>Select</td>\n",
       "      <td>Mumbai</td>\n",
       "      <td>02.Medium</td>\n",
       "      <td>01.High</td>\n",
       "      <td>15.0</td>\n",
       "      <td>18.0</td>\n",
       "      <td>No</td>\n",
       "      <td>No</td>\n",
       "      <td>Modified</td>\n",
       "    </tr>\n",
       "    <tr>\n",
       "      <th>5</th>\n",
       "      <td>2058ef08-2858-443e-a01f-a9237db2f5ce</td>\n",
       "      <td>660680</td>\n",
       "      <td>API</td>\n",
       "      <td>Olark Chat</td>\n",
       "      <td>No</td>\n",
       "      <td>No</td>\n",
       "      <td>0</td>\n",
       "      <td>0.0</td>\n",
       "      <td>0</td>\n",
       "      <td>0.0</td>\n",
       "      <td>...</td>\n",
       "      <td>No</td>\n",
       "      <td>NaN</td>\n",
       "      <td>NaN</td>\n",
       "      <td>01.High</td>\n",
       "      <td>02.Medium</td>\n",
       "      <td>17.0</td>\n",
       "      <td>15.0</td>\n",
       "      <td>No</td>\n",
       "      <td>No</td>\n",
       "      <td>Modified</td>\n",
       "    </tr>\n",
       "    <tr>\n",
       "      <th>6</th>\n",
       "      <td>9fae7df4-169d-489b-afe4-0f3d752542ed</td>\n",
       "      <td>660673</td>\n",
       "      <td>Landing Page Submission</td>\n",
       "      <td>Google</td>\n",
       "      <td>No</td>\n",
       "      <td>No</td>\n",
       "      <td>1</td>\n",
       "      <td>2.0</td>\n",
       "      <td>1640</td>\n",
       "      <td>2.0</td>\n",
       "      <td>...</td>\n",
       "      <td>No</td>\n",
       "      <td>Potential Lead</td>\n",
       "      <td>Mumbai</td>\n",
       "      <td>02.Medium</td>\n",
       "      <td>01.High</td>\n",
       "      <td>14.0</td>\n",
       "      <td>20.0</td>\n",
       "      <td>No</td>\n",
       "      <td>No</td>\n",
       "      <td>Modified</td>\n",
       "    </tr>\n",
       "    <tr>\n",
       "      <th>7</th>\n",
       "      <td>20ef72a2-fb3b-45e0-924e-551c5fa59095</td>\n",
       "      <td>660664</td>\n",
       "      <td>API</td>\n",
       "      <td>Olark Chat</td>\n",
       "      <td>No</td>\n",
       "      <td>No</td>\n",
       "      <td>0</td>\n",
       "      <td>0.0</td>\n",
       "      <td>0</td>\n",
       "      <td>0.0</td>\n",
       "      <td>...</td>\n",
       "      <td>No</td>\n",
       "      <td>NaN</td>\n",
       "      <td>NaN</td>\n",
       "      <td>02.Medium</td>\n",
       "      <td>02.Medium</td>\n",
       "      <td>15.0</td>\n",
       "      <td>15.0</td>\n",
       "      <td>No</td>\n",
       "      <td>No</td>\n",
       "      <td>Modified</td>\n",
       "    </tr>\n",
       "    <tr>\n",
       "      <th>8</th>\n",
       "      <td>cfa0128c-a0da-4656-9d47-0aa4e67bf690</td>\n",
       "      <td>660624</td>\n",
       "      <td>Landing Page Submission</td>\n",
       "      <td>Direct Traffic</td>\n",
       "      <td>No</td>\n",
       "      <td>No</td>\n",
       "      <td>0</td>\n",
       "      <td>2.0</td>\n",
       "      <td>71</td>\n",
       "      <td>2.0</td>\n",
       "      <td>...</td>\n",
       "      <td>No</td>\n",
       "      <td>NaN</td>\n",
       "      <td>Thane &amp; Outskirts</td>\n",
       "      <td>02.Medium</td>\n",
       "      <td>02.Medium</td>\n",
       "      <td>14.0</td>\n",
       "      <td>14.0</td>\n",
       "      <td>No</td>\n",
       "      <td>Yes</td>\n",
       "      <td>Email Opened</td>\n",
       "    </tr>\n",
       "    <tr>\n",
       "      <th>9</th>\n",
       "      <td>af465dfc-7204-4130-9e05-33231863c4b5</td>\n",
       "      <td>660616</td>\n",
       "      <td>API</td>\n",
       "      <td>Google</td>\n",
       "      <td>No</td>\n",
       "      <td>No</td>\n",
       "      <td>0</td>\n",
       "      <td>4.0</td>\n",
       "      <td>58</td>\n",
       "      <td>4.0</td>\n",
       "      <td>...</td>\n",
       "      <td>No</td>\n",
       "      <td>NaN</td>\n",
       "      <td>Mumbai</td>\n",
       "      <td>02.Medium</td>\n",
       "      <td>02.Medium</td>\n",
       "      <td>13.0</td>\n",
       "      <td>16.0</td>\n",
       "      <td>No</td>\n",
       "      <td>No</td>\n",
       "      <td>Email Opened</td>\n",
       "    </tr>\n",
       "  </tbody>\n",
       "</table>\n",
       "<p>10 rows × 37 columns</p>\n",
       "</div>"
      ],
      "text/plain": [
       "                            Prospect ID  Lead Number              Lead Origin  \\\n",
       "0  7927b2df-8bba-4d29-b9a2-b6e0beafe620       660737                      API   \n",
       "1  2a272436-5132-4136-86fa-dcc88c88f482       660728                      API   \n",
       "2  8cc8c611-a219-4f35-ad23-fdfd2656bd8a       660727  Landing Page Submission   \n",
       "3  0cc2df48-7cf4-4e39-9de9-19797f9b38cc       660719  Landing Page Submission   \n",
       "4  3256f628-e534-4826-9d63-4a8b88782852       660681  Landing Page Submission   \n",
       "5  2058ef08-2858-443e-a01f-a9237db2f5ce       660680                      API   \n",
       "6  9fae7df4-169d-489b-afe4-0f3d752542ed       660673  Landing Page Submission   \n",
       "7  20ef72a2-fb3b-45e0-924e-551c5fa59095       660664                      API   \n",
       "8  cfa0128c-a0da-4656-9d47-0aa4e67bf690       660624  Landing Page Submission   \n",
       "9  af465dfc-7204-4130-9e05-33231863c4b5       660616                      API   \n",
       "\n",
       "      Lead Source Do Not Email Do Not Call  Converted  TotalVisits  \\\n",
       "0      Olark Chat           No          No          0          0.0   \n",
       "1  Organic Search           No          No          0          5.0   \n",
       "2  Direct Traffic           No          No          1          2.0   \n",
       "3  Direct Traffic           No          No          0          1.0   \n",
       "4          Google           No          No          1          2.0   \n",
       "5      Olark Chat           No          No          0          0.0   \n",
       "6          Google           No          No          1          2.0   \n",
       "7      Olark Chat           No          No          0          0.0   \n",
       "8  Direct Traffic           No          No          0          2.0   \n",
       "9          Google           No          No          0          4.0   \n",
       "\n",
       "   Total Time Spent on Website  Page Views Per Visit  ...  \\\n",
       "0                            0                   0.0  ...   \n",
       "1                          674                   2.5  ...   \n",
       "2                         1532                   2.0  ...   \n",
       "3                          305                   1.0  ...   \n",
       "4                         1428                   1.0  ...   \n",
       "5                            0                   0.0  ...   \n",
       "6                         1640                   2.0  ...   \n",
       "7                            0                   0.0  ...   \n",
       "8                           71                   2.0  ...   \n",
       "9                           58                   4.0  ...   \n",
       "\n",
       "  Get updates on DM Content    Lead Profile               City  \\\n",
       "0                        No          Select             Select   \n",
       "1                        No          Select             Select   \n",
       "2                        No  Potential Lead             Mumbai   \n",
       "3                        No          Select             Mumbai   \n",
       "4                        No          Select             Mumbai   \n",
       "5                        No             NaN                NaN   \n",
       "6                        No  Potential Lead             Mumbai   \n",
       "7                        No             NaN                NaN   \n",
       "8                        No             NaN  Thane & Outskirts   \n",
       "9                        No             NaN             Mumbai   \n",
       "\n",
       "  Asymmetrique Activity Index Asymmetrique Profile Index  \\\n",
       "0                   02.Medium                  02.Medium   \n",
       "1                   02.Medium                  02.Medium   \n",
       "2                   02.Medium                    01.High   \n",
       "3                   02.Medium                    01.High   \n",
       "4                   02.Medium                    01.High   \n",
       "5                     01.High                  02.Medium   \n",
       "6                   02.Medium                    01.High   \n",
       "7                   02.Medium                  02.Medium   \n",
       "8                   02.Medium                  02.Medium   \n",
       "9                   02.Medium                  02.Medium   \n",
       "\n",
       "  Asymmetrique Activity Score Asymmetrique Profile Score  \\\n",
       "0                        15.0                       15.0   \n",
       "1                        15.0                       15.0   \n",
       "2                        14.0                       20.0   \n",
       "3                        13.0                       17.0   \n",
       "4                        15.0                       18.0   \n",
       "5                        17.0                       15.0   \n",
       "6                        14.0                       20.0   \n",
       "7                        15.0                       15.0   \n",
       "8                        14.0                       14.0   \n",
       "9                        13.0                       16.0   \n",
       "\n",
       "  I agree to pay the amount through cheque  \\\n",
       "0                                       No   \n",
       "1                                       No   \n",
       "2                                       No   \n",
       "3                                       No   \n",
       "4                                       No   \n",
       "5                                       No   \n",
       "6                                       No   \n",
       "7                                       No   \n",
       "8                                       No   \n",
       "9                                       No   \n",
       "\n",
       "  A free copy of Mastering The Interview Last Notable Activity  \n",
       "0                                     No              Modified  \n",
       "1                                     No          Email Opened  \n",
       "2                                    Yes          Email Opened  \n",
       "3                                     No              Modified  \n",
       "4                                     No              Modified  \n",
       "5                                     No              Modified  \n",
       "6                                     No              Modified  \n",
       "7                                     No              Modified  \n",
       "8                                    Yes          Email Opened  \n",
       "9                                     No          Email Opened  \n",
       "\n",
       "[10 rows x 37 columns]"
      ]
     },
     "execution_count": 182,
     "metadata": {},
     "output_type": "execute_result"
    }
   ],
   "source": [
    "# Check Values\n",
    "df_leads.head(10)"
   ]
  },
  {
   "cell_type": "markdown",
   "metadata": {},
   "source": [
    "###### Selected value Treatment\n",
    "As we can observe that there are **select** values for many column. Customer might have not select any option from the list, hence it shows select. \n",
    "- Select values are as good as NULL."
   ]
  },
  {
   "cell_type": "code",
   "execution_count": 183,
   "metadata": {},
   "outputs": [],
   "source": [
    "# Converting 'Select' values to NaN.\n",
    "df_leads = df_leads.replace('Select', np.nan)"
   ]
  },
  {
   "cell_type": "code",
   "execution_count": 184,
   "metadata": {},
   "outputs": [
    {
     "data": {
      "text/plain": [
       "Prospect ID                                       0.00\n",
       "Lead Number                                       0.00\n",
       "Lead Origin                                       0.00\n",
       "Lead Source                                       0.39\n",
       "Do Not Email                                      0.00\n",
       "Do Not Call                                       0.00\n",
       "Converted                                         0.00\n",
       "TotalVisits                                       1.48\n",
       "Total Time Spent on Website                       0.00\n",
       "Page Views Per Visit                              1.48\n",
       "Last Activity                                     1.11\n",
       "Country                                          26.63\n",
       "Specialization                                   36.58\n",
       "How did you hear about X Education               78.46\n",
       "What is your current occupation                  29.11\n",
       "What matters most to you in choosing a course    29.32\n",
       "Search                                            0.00\n",
       "Magazine                                          0.00\n",
       "Newspaper Article                                 0.00\n",
       "X Education Forums                                0.00\n",
       "Newspaper                                         0.00\n",
       "Digital Advertisement                             0.00\n",
       "Through Recommendations                           0.00\n",
       "Receive More Updates About Our Courses            0.00\n",
       "Tags                                             36.29\n",
       "Lead Quality                                     51.59\n",
       "Update me on Supply Chain Content                 0.00\n",
       "Get updates on DM Content                         0.00\n",
       "Lead Profile                                     74.19\n",
       "City                                             39.71\n",
       "Asymmetrique Activity Index                      45.65\n",
       "Asymmetrique Profile Index                       45.65\n",
       "Asymmetrique Activity Score                      45.65\n",
       "Asymmetrique Profile Score                       45.65\n",
       "I agree to pay the amount through cheque          0.00\n",
       "A free copy of Mastering The Interview            0.00\n",
       "Last Notable Activity                             0.00\n",
       "dtype: float64"
      ]
     },
     "execution_count": 184,
     "metadata": {},
     "output_type": "execute_result"
    }
   ],
   "source": [
    "#check percentage of missing values\n",
    "round(100*(df_leads.isnull().sum()/len(df_leads.index)), 2)"
   ]
  },
  {
   "cell_type": "markdown",
   "metadata": {},
   "source": [
    "### Missing Value Treatment\n",
    "##### Selected Below features for treatment:\n",
    "- Lead Source : 0.39%\n",
    "- TotalVisits : 1.48%\n",
    "- Page Views Per Visit : 1.48%\n",
    "- Last Activity : 1.11%\n",
    "- Country : 26.63%\n",
    "- Specialization : 36.58%\n",
    "- How did you hear about X Education : 78.46%\n",
    "- What is your current occupation : 29.11%\n",
    "- What matters most to you in choosing a course : 29.32%\n",
    "- Tags : 36.29%\n",
    "- Lead Quality : 51.59%\n",
    "- Lead Profile : 74.19%\n",
    "- City : 39.71%\n",
    "- Asymmetrique Activity Index : 45.65%\n",
    "- Asymmetrique Profile Index : 45.65%\n",
    "- Asymmetrique Activity Score : 45.65%\n",
    "- Asymmetrique Profile Score : 45.65%"
   ]
  },
  {
   "cell_type": "raw",
   "metadata": {},
   "source": [
    "# Asymmetrique Activity Index  |\n",
    "# Asymmetrique Profile Index   \\   An index and score assigned to each customer\n",
    "# Asymmetrique Activity Score  |    based on their activity and their profile\n",
    "# Asymmetrique Profile Score   \\\n",
    "We should drop these columns as they have high missing values and created by Sales Team."
   ]
  },
  {
   "cell_type": "code",
   "execution_count": 185,
   "metadata": {},
   "outputs": [
    {
     "data": {
      "text/plain": [
       "True"
      ]
     },
     "execution_count": 185,
     "metadata": {},
     "output_type": "execute_result"
    }
   ],
   "source": [
    "# Check Columns 'Lead Number' for Duplicate values\n",
    "sum(df_leads['Lead Number'].duplicated()) == 0"
   ]
  },
  {
   "cell_type": "code",
   "execution_count": 186,
   "metadata": {},
   "outputs": [
    {
     "data": {
      "text/plain": [
       "True"
      ]
     },
     "execution_count": 186,
     "metadata": {},
     "output_type": "execute_result"
    }
   ],
   "source": [
    "# Check Columns 'Prospect ID' for Duplicate values\n",
    "sum(df_leads['Prospect ID'].duplicated()) == 0"
   ]
  },
  {
   "cell_type": "markdown",
   "metadata": {},
   "source": [
    "- Both **'Lead Number'** and **'Prospect ID'** have all unique values we can dorp any one of them."
   ]
  },
  {
   "cell_type": "code",
   "execution_count": 187,
   "metadata": {},
   "outputs": [
    {
     "data": {
      "text/plain": [
       "(9240, 36)"
      ]
     },
     "execution_count": 187,
     "metadata": {},
     "output_type": "execute_result"
    }
   ],
   "source": [
    "# Drop Column 'Lead Number'\n",
    "df_leads.drop('Lead Number', axis=1, inplace = True)\n",
    "df_leads.shape"
   ]
  },
  {
   "cell_type": "code",
   "execution_count": 188,
   "metadata": {},
   "outputs": [
    {
     "data": {
      "image/png": "[encoded data removed]",
      "text/plain": [
       "<Figure size 504x360 with 1 Axes>"
      ]
     },
     "metadata": {
      "needs_background": "light"
     },
     "output_type": "display_data"
    }
   ],
   "source": [
    "# Check Other features\n",
    "feature = ['What matters most to you in choosing a course', 'What is your current occupation']\n",
    "plt.figure(figsize = (7, 5))\n",
    "sns.countplot('What is your current occupation', data = df_leads)\n",
    "plt.xticks(rotation = 30)\n",
    "plt.show()"
   ]
  },
  {
   "cell_type": "code",
   "execution_count": 189,
   "metadata": {},
   "outputs": [
    {
     "data": {
      "text/plain": [
       "Unemployed              85.50\n",
       "Working Professional    10.78\n",
       "Student                  3.21\n",
       "Other                    0.24\n",
       "Housewife                0.15\n",
       "Businessman              0.12\n",
       "Name: What is your current occupation, dtype: float64"
      ]
     },
     "execution_count": 189,
     "metadata": {},
     "output_type": "execute_result"
    }
   ],
   "source": [
    "#check percentage of missing values\n",
    "round(df_leads['What is your current occupation'].value_counts(normalize=True)*100,2)"
   ]
  },
  {
   "cell_type": "markdown",
   "metadata": {},
   "source": [
    "###### Feature 'What is your current occupation'\n",
    "- Above 85% entries are of Unemployed so we can impute \"Unemployed\" in the null columns, so we can definitely impute mising values as \"Unemployed\""
   ]
  },
  {
   "cell_type": "code",
   "execution_count": 190,
   "metadata": {},
   "outputs": [],
   "source": [
    "# Impute Missing Values\n",
    "df_leads['What is your current occupation'] = df_leads['What is your current occupation'].replace(np.nan, 'Unemployed')"
   ]
  },
  {
   "cell_type": "code",
   "execution_count": 191,
   "metadata": {},
   "outputs": [
    {
     "data": {
      "image/png": "[encoded data removed]",
      "text/plain": [
       "<Figure size 504x360 with 1 Axes>"
      ]
     },
     "metadata": {
      "needs_background": "light"
     },
     "output_type": "display_data"
    }
   ],
   "source": [
    "plt.figure(figsize = (7, 5))\n",
    "sns.countplot('What matters most to you in choosing a course', data = df_leads)\n",
    "plt.xticks(rotation = 30)\n",
    "plt.show()"
   ]
  },
  {
   "cell_type": "code",
   "execution_count": 192,
   "metadata": {},
   "outputs": [
    {
     "data": {
      "text/plain": [
       "Better Career Prospects      99.95\n",
       "Flexibility & Convenience     0.03\n",
       "Other                         0.02\n",
       "Name: What matters most to you in choosing a course, dtype: float64"
      ]
     },
     "execution_count": 192,
     "metadata": {},
     "output_type": "execute_result"
    }
   ],
   "source": [
    "#check percentage of missing values\n",
    "round(df_leads['What matters most to you in choosing a course'].value_counts(normalize=True)*100,2)"
   ]
  },
  {
   "cell_type": "markdown",
   "metadata": {},
   "source": [
    "###### What matters most to you in choosing this course\n",
    "- We can see that more than 99% percentage of them has filled as **Better Career Prospects**\n",
    "- Column **Better Career Prospects** is highly skewed, we can drop this column"
   ]
  },
  {
   "cell_type": "code",
   "execution_count": 193,
   "metadata": {},
   "outputs": [],
   "source": [
    "df_leads.drop('What matters most to you in choosing a course', axis=1, inplace = True)"
   ]
  },
  {
   "cell_type": "markdown",
   "metadata": {},
   "source": [
    "###### Tags\n",
    "- Tags assigned to customers indicating the current status of the lead.\n",
    "- Null Value percentage: 36.29%\n",
    "- Since it is score variable, We can drop this column"
   ]
  },
  {
   "cell_type": "code",
   "execution_count": 194,
   "metadata": {},
   "outputs": [],
   "source": [
    "df_leads.drop('Tags', axis=1, inplace = True)"
   ]
  },
  {
   "cell_type": "code",
   "execution_count": 195,
   "metadata": {},
   "outputs": [
    {
     "data": {
      "text/plain": [
       "(9240, 27)"
      ]
     },
     "execution_count": 195,
     "metadata": {},
     "output_type": "execute_result"
    }
   ],
   "source": [
    "#Dropping all columns with more than 45 % it will include columns which we want remove\n",
    "df_leads.drop(df_leads.columns[df_leads.isnull().sum()/df_leads.shape[0]>0.45].tolist(), axis=1, inplace = True)\n",
    "df_leads.shape"
   ]
  },
  {
   "cell_type": "code",
   "execution_count": 196,
   "metadata": {},
   "outputs": [
    {
     "data": {
      "text/plain": [
       "Prospect ID                                  0.00\n",
       "Lead Origin                                  0.00\n",
       "Lead Source                                  0.39\n",
       "Do Not Email                                 0.00\n",
       "Do Not Call                                  0.00\n",
       "Converted                                    0.00\n",
       "TotalVisits                                  1.48\n",
       "Total Time Spent on Website                  0.00\n",
       "Page Views Per Visit                         1.48\n",
       "Last Activity                                1.11\n",
       "Country                                     26.63\n",
       "Specialization                              36.58\n",
       "What is your current occupation              0.00\n",
       "Search                                       0.00\n",
       "Magazine                                     0.00\n",
       "Newspaper Article                            0.00\n",
       "X Education Forums                           0.00\n",
       "Newspaper                                    0.00\n",
       "Digital Advertisement                        0.00\n",
       "Through Recommendations                      0.00\n",
       "Receive More Updates About Our Courses       0.00\n",
       "Update me on Supply Chain Content            0.00\n",
       "Get updates on DM Content                    0.00\n",
       "City                                        39.71\n",
       "I agree to pay the amount through cheque     0.00\n",
       "A free copy of Mastering The Interview       0.00\n",
       "Last Notable Activity                        0.00\n",
       "dtype: float64"
      ]
     },
     "execution_count": 196,
     "metadata": {},
     "output_type": "execute_result"
    }
   ],
   "source": [
    "#check percentage of missing values\n",
    "round(100*(df_leads.isnull().sum()/len(df_leads.index)), 2)"
   ]
  },
  {
   "cell_type": "code",
   "execution_count": 197,
   "metadata": {},
   "outputs": [
    {
     "data": {
      "image/png": "[encoded data removed]",
      "text/plain": [
       "<Figure size 1080x864 with 2 Axes>"
      ]
     },
     "metadata": {
      "needs_background": "light"
     },
     "output_type": "display_data"
    }
   ],
   "source": [
    "feature =  ['Specialization', 'City']\n",
    "plt.figure(figsize = (15, 12))\n",
    "for i in enumerate(feature):\n",
    "    plt.subplot(2, 2,i[0]+1)\n",
    "    sns.countplot(i[1], data = df_leads)\n",
    "    plt.xticks(rotation = 90)"
   ]
  },
  {
   "cell_type": "code",
   "execution_count": 198,
   "metadata": {},
   "outputs": [
    {
     "data": {
      "text/plain": [
       "Mumbai                         57.84\n",
       "Thane & Outskirts              13.50\n",
       "Other Cities                   12.31\n",
       "Other Cities of Maharashtra     8.20\n",
       "Other Metro Cities              6.82\n",
       "Tier II Cities                  1.33\n",
       "Name: City, dtype: float64"
      ]
     },
     "execution_count": 198,
     "metadata": {},
     "output_type": "execute_result"
    }
   ],
   "source": [
    "#Get value counts\n",
    "round(df_leads.City.value_counts(normalize=True)*100,2)"
   ]
  },
  {
   "cell_type": "markdown",
   "metadata": {},
   "source": [
    "#### Feature Analysis:\n",
    "##### Specialization\n",
    "- Look like customer does not find any specific specialization in the selection and left the field blanks. Let's make a category \"Not Specified\" for missing values.\n",
    "- Specialization as Management have higher number of leads. This feature should not be dropped \n",
    "- We can combine Management Specializations because they show similar trends\n",
    "- we can replace specialization with low frequency with \"Other Specialization\"\n",
    "\n",
    "##### City\n",
    "- Around 75% of the data is Mumbai so we can impute Mumbai in the missing values."
   ]
  },
  {
   "cell_type": "code",
   "execution_count": 199,
   "metadata": {},
   "outputs": [],
   "source": [
    "# Replace Missing values with Mumbai for column City\n",
    "df_leads.City = df_leads.City.replace(np.nan, 'Mumbai')"
   ]
  },
  {
   "cell_type": "code",
   "execution_count": 200,
   "metadata": {},
   "outputs": [],
   "source": [
    "# Replace Missing values with Others for column Specialization\n",
    "df_leads.Specialization = df_leads.Specialization.replace(np.nan, 'Not Specified')"
   ]
  },
  {
   "cell_type": "code",
   "execution_count": 201,
   "metadata": {},
   "outputs": [],
   "source": [
    "# Group All Management Specializations \n",
    "df_leads.Specialization = df_leads.Specialization.replace(['Finance Management','Human Resource Management',\n",
    "                                                           'Marketing Management','Operations Management',\n",
    "                                                           'IT Projects Management','Supply Chain Management',\n",
    "                                                           'Healthcare Management','Hospitality Management',\n",
    "                                                           'Retail Management'] ,'Management_Specializations')"
   ]
  },
  {
   "cell_type": "code",
   "execution_count": 202,
   "metadata": {},
   "outputs": [],
   "source": [
    "# Replace Specialization with low frequency with \"Other Specialization\"\n",
    "df_leads.Specialization = df_leads.Specialization.replace(['Services Excellence','E-Business',\n",
    "                                                           'Rural and Agribusiness','E-COMMERCE',] ,'Other Specilization')"
   ]
  },
  {
   "cell_type": "code",
   "execution_count": 203,
   "metadata": {},
   "outputs": [
    {
     "data": {
      "image/png": "[encoded data removed]",
      "text/plain": [
       "<Figure size 1080x864 with 2 Axes>"
      ]
     },
     "metadata": {
      "needs_background": "light"
     },
     "output_type": "display_data"
    }
   ],
   "source": [
    "feature =  ['Specialization', 'City']\n",
    "plt.figure(figsize = (15, 12))\n",
    "for i in enumerate(feature):\n",
    "    plt.subplot(2, 2,i[0]+1)\n",
    "    sns.countplot(i[1], data = df_leads)\n",
    "    plt.xticks(rotation = 90)"
   ]
  },
  {
   "cell_type": "code",
   "execution_count": 204,
   "metadata": {},
   "outputs": [
    {
     "data": {
      "text/plain": [
       "Management_Specializations           46.03\n",
       "Not Specified                        36.58\n",
       "Business Administration               4.36\n",
       "Banking, Investment And Insurance     3.66\n",
       "Other Specilization                   3.05\n",
       "Media and Advertising                 2.20\n",
       "Travel and Tourism                    2.20\n",
       "International Business                1.93\n",
       "Name: Specialization, dtype: float64"
      ]
     },
     "execution_count": 204,
     "metadata": {},
     "output_type": "execute_result"
    }
   ],
   "source": [
    "#Get value counts\n",
    "round(df_leads.Specialization.value_counts(normalize=True)*100,2)"
   ]
  },
  {
   "cell_type": "code",
   "execution_count": 205,
   "metadata": {
    "scrolled": true
   },
   "outputs": [
    {
     "data": {
      "image/png": "[encoded data removed]",
      "text/plain": [
       "<Figure size 1080x288 with 1 Axes>"
      ]
     },
     "metadata": {
      "needs_background": "light"
     },
     "output_type": "display_data"
    }
   ],
   "source": [
    "plt.figure(figsize =(15,4))\n",
    "sns.countplot(df_leads.Country,palette=\"Set2\")\n",
    "plt.xticks(rotation = 90)\n",
    "plt.show()"
   ]
  },
  {
   "cell_type": "code",
   "execution_count": 206,
   "metadata": {},
   "outputs": [
    {
     "data": {
      "text/plain": [
       "India                   95.77\n",
       "United States            1.02\n",
       "United Arab Emirates     0.78\n",
       "Singapore                0.35\n",
       "Saudi Arabia             0.31\n",
       "United Kingdom           0.22\n",
       "Australia                0.19\n",
       "Qatar                    0.15\n",
       "Bahrain                  0.10\n",
       "Hong Kong                0.10\n",
       "France                   0.09\n",
       "Oman                     0.09\n",
       "unknown                  0.07\n",
       "Kuwait                   0.06\n",
       "Nigeria                  0.06\n",
       "Canada                   0.06\n",
       "Germany                  0.06\n",
       "South Africa             0.06\n",
       "Sweden                   0.04\n",
       "Philippines              0.03\n",
       "Ghana                    0.03\n",
       "Italy                    0.03\n",
       "China                    0.03\n",
       "Bangladesh               0.03\n",
       "Belgium                  0.03\n",
       "Asia/Pacific Region      0.03\n",
       "Uganda                   0.03\n",
       "Netherlands              0.03\n",
       "Kenya                    0.01\n",
       "Switzerland              0.01\n",
       "Indonesia                0.01\n",
       "Sri Lanka                0.01\n",
       "Liberia                  0.01\n",
       "Denmark                  0.01\n",
       "Russia                   0.01\n",
       "Malaysia                 0.01\n",
       "Tanzania                 0.01\n",
       "Vietnam                  0.01\n",
       "Name: Country, dtype: float64"
      ]
     },
     "execution_count": 206,
     "metadata": {},
     "output_type": "execute_result"
    }
   ],
   "source": [
    "#Get value counts\n",
    "round(df_leads.Country.value_counts(normalize=True)*100,2)"
   ]
  },
  {
   "cell_type": "markdown",
   "metadata": {},
   "source": [
    "#### Country\n",
    "- 95 % of the country is India.\n",
    "- Column is highly skewed , we can drop this column"
   ]
  },
  {
   "cell_type": "code",
   "execution_count": 207,
   "metadata": {},
   "outputs": [
    {
     "data": {
      "text/plain": [
       "(9240, 26)"
      ]
     },
     "execution_count": 207,
     "metadata": {},
     "output_type": "execute_result"
    }
   ],
   "source": [
    "df_leads.drop('Country', axis=1, inplace = True)\n",
    "df_leads.shape"
   ]
  },
  {
   "cell_type": "code",
   "execution_count": 208,
   "metadata": {},
   "outputs": [
    {
     "data": {
      "text/plain": [
       "Prospect ID                                 0.00\n",
       "Lead Origin                                 0.00\n",
       "Lead Source                                 0.39\n",
       "Do Not Email                                0.00\n",
       "Do Not Call                                 0.00\n",
       "Converted                                   0.00\n",
       "TotalVisits                                 1.48\n",
       "Total Time Spent on Website                 0.00\n",
       "Page Views Per Visit                        1.48\n",
       "Last Activity                               1.11\n",
       "Specialization                              0.00\n",
       "What is your current occupation             0.00\n",
       "Search                                      0.00\n",
       "Magazine                                    0.00\n",
       "Newspaper Article                           0.00\n",
       "X Education Forums                          0.00\n",
       "Newspaper                                   0.00\n",
       "Digital Advertisement                       0.00\n",
       "Through Recommendations                     0.00\n",
       "Receive More Updates About Our Courses      0.00\n",
       "Update me on Supply Chain Content           0.00\n",
       "Get updates on DM Content                   0.00\n",
       "City                                        0.00\n",
       "I agree to pay the amount through cheque    0.00\n",
       "A free copy of Mastering The Interview      0.00\n",
       "Last Notable Activity                       0.00\n",
       "dtype: float64"
      ]
     },
     "execution_count": 208,
     "metadata": {},
     "output_type": "execute_result"
    }
   ],
   "source": [
    "#check percentage of missing values\n",
    "round(100*(df_leads.isnull().sum()/len(df_leads.index)), 2)"
   ]
  },
  {
   "cell_type": "markdown",
   "metadata": {},
   "source": [
    "###### Lead Source, TotalVisits, Page Views Per Visit, Last Activity\n",
    "Rest of the columns have missing values under 2%, so we can drop these rows.\n",
    "- Lead Source : 0.39%\n",
    "- TotalVisits : 1.48%\n",
    "- Page Views Per Visit : 1.48%\n",
    "- Last Activity : 1.11%"
   ]
  },
  {
   "cell_type": "code",
   "execution_count": 209,
   "metadata": {},
   "outputs": [],
   "source": [
    "# drop rows containing missing values\n",
    "df_leads.dropna(inplace = True)"
   ]
  },
  {
   "cell_type": "code",
   "execution_count": 210,
   "metadata": {},
   "outputs": [
    {
     "data": {
      "text/plain": [
       "Prospect ID                                 0.0\n",
       "Lead Origin                                 0.0\n",
       "Lead Source                                 0.0\n",
       "Do Not Email                                0.0\n",
       "Do Not Call                                 0.0\n",
       "Converted                                   0.0\n",
       "TotalVisits                                 0.0\n",
       "Total Time Spent on Website                 0.0\n",
       "Page Views Per Visit                        0.0\n",
       "Last Activity                               0.0\n",
       "Specialization                              0.0\n",
       "What is your current occupation             0.0\n",
       "Search                                      0.0\n",
       "Magazine                                    0.0\n",
       "Newspaper Article                           0.0\n",
       "X Education Forums                          0.0\n",
       "Newspaper                                   0.0\n",
       "Digital Advertisement                       0.0\n",
       "Through Recommendations                     0.0\n",
       "Receive More Updates About Our Courses      0.0\n",
       "Update me on Supply Chain Content           0.0\n",
       "Get updates on DM Content                   0.0\n",
       "City                                        0.0\n",
       "I agree to pay the amount through cheque    0.0\n",
       "A free copy of Mastering The Interview      0.0\n",
       "Last Notable Activity                       0.0\n",
       "dtype: float64"
      ]
     },
     "execution_count": 210,
     "metadata": {},
     "output_type": "execute_result"
    }
   ],
   "source": [
    "#check percentage of missing values\n",
    "round(100*(df_leads.isnull().sum()/len(df_leads.index)), 2)"
   ]
  },
  {
   "cell_type": "markdown",
   "metadata": {},
   "source": [
    "#### Now there no missing values"
   ]
  },
  {
   "cell_type": "code",
   "execution_count": 211,
   "metadata": {},
   "outputs": [
    {
     "name": "stdout",
     "output_type": "stream",
     "text": [
      "<class 'pandas.core.frame.DataFrame'>\n",
      "Int64Index: 9074 entries, 0 to 9239\n",
      "Data columns (total 26 columns):\n",
      "Prospect ID                                 9074 non-null object\n",
      "Lead Origin                                 9074 non-null object\n",
      "Lead Source                                 9074 non-null object\n",
      "Do Not Email                                9074 non-null object\n",
      "Do Not Call                                 9074 non-null object\n",
      "Converted                                   9074 non-null int64\n",
      "TotalVisits                                 9074 non-null float64\n",
      "Total Time Spent on Website                 9074 non-null int64\n",
      "Page Views Per Visit                        9074 non-null float64\n",
      "Last Activity                               9074 non-null object\n",
      "Specialization                              9074 non-null object\n",
      "What is your current occupation             9074 non-null object\n",
      "Search                                      9074 non-null object\n",
      "Magazine                                    9074 non-null object\n",
      "Newspaper Article                           9074 non-null object\n",
      "X Education Forums                          9074 non-null object\n",
      "Newspaper                                   9074 non-null object\n",
      "Digital Advertisement                       9074 non-null object\n",
      "Through Recommendations                     9074 non-null object\n",
      "Receive More Updates About Our Courses      9074 non-null object\n",
      "Update me on Supply Chain Content           9074 non-null object\n",
      "Get updates on DM Content                   9074 non-null object\n",
      "City                                        9074 non-null object\n",
      "I agree to pay the amount through cheque    9074 non-null object\n",
      "A free copy of Mastering The Interview      9074 non-null object\n",
      "Last Notable Activity                       9074 non-null object\n",
      "dtypes: float64(2), int64(2), object(22)\n",
      "memory usage: 1.9+ MB\n"
     ]
    }
   ],
   "source": [
    "df_leads.info()"
   ]
  },
  {
   "cell_type": "markdown",
   "metadata": {},
   "source": [
    "#### Changing data type of feature\n",
    "- **Converted**"
   ]
  },
  {
   "cell_type": "code",
   "execution_count": 212,
   "metadata": {},
   "outputs": [],
   "source": [
    "# Converting datatype of target variable 'Converted' as categorical\n",
    "df_leads.Converted = df_leads.Converted.astype(object)"
   ]
  },
  {
   "cell_type": "markdown",
   "metadata": {},
   "source": [
    "# Exploratory Data Analytics\n",
    "- Univariate Analysis\n",
    "- Bivariate Analysis\n",
    "- Multivariate Analysis"
   ]
  },
  {
   "cell_type": "markdown",
   "metadata": {},
   "source": [
    "## Univariate Analysis\n"
   ]
  },
  {
   "cell_type": "markdown",
   "metadata": {},
   "source": [
    "### Box Plot for each Numerical Variables"
   ]
  },
  {
   "cell_type": "code",
   "execution_count": 213,
   "metadata": {},
   "outputs": [
    {
     "data": {
      "image/png": "[encoded data removed]",
      "text/plain": [
       "<Figure size 1080x360 with 3 Axes>"
      ]
     },
     "metadata": {
      "needs_background": "light"
     },
     "output_type": "display_data"
    }
   ],
   "source": [
    "# Check outliers for numerical columns\n",
    "n_features = ['TotalVisits', 'Total Time Spent on Website', 'Page Views Per Visit']\n",
    "plt.figure(figsize =(15,5))\n",
    "for i in enumerate(n_features):\n",
    "    plt.subplot(1,3, i[0]+1)\n",
    "    sns.boxplot(x= i[1], data = df_leads ,palette=\"Set2\" ,orient = 'v')"
   ]
  },
  {
   "cell_type": "code",
   "execution_count": 214,
   "metadata": {},
   "outputs": [
    {
     "data": {
      "text/html": [
       "<div>\n",
       "<style scoped>\n",
       "    .dataframe tbody tr th:only-of-type {\n",
       "        vertical-align: middle;\n",
       "    }\n",
       "\n",
       "    .dataframe tbody tr th {\n",
       "        vertical-align: top;\n",
       "    }\n",
       "\n",
       "    .dataframe thead th {\n",
       "        text-align: right;\n",
       "    }\n",
       "</style>\n",
       "<table border=\"1\" class=\"dataframe\">\n",
       "  <thead>\n",
       "    <tr style=\"text-align: right;\">\n",
       "      <th></th>\n",
       "      <th>TotalVisits</th>\n",
       "      <th>Total Time Spent on Website</th>\n",
       "      <th>Page Views Per Visit</th>\n",
       "    </tr>\n",
       "  </thead>\n",
       "  <tbody>\n",
       "    <tr>\n",
       "      <th>count</th>\n",
       "      <td>9074.000000</td>\n",
       "      <td>9074.000000</td>\n",
       "      <td>9074.000000</td>\n",
       "    </tr>\n",
       "    <tr>\n",
       "      <th>mean</th>\n",
       "      <td>3.456028</td>\n",
       "      <td>482.887481</td>\n",
       "      <td>2.370151</td>\n",
       "    </tr>\n",
       "    <tr>\n",
       "      <th>std</th>\n",
       "      <td>4.858802</td>\n",
       "      <td>545.256560</td>\n",
       "      <td>2.160871</td>\n",
       "    </tr>\n",
       "    <tr>\n",
       "      <th>min</th>\n",
       "      <td>0.000000</td>\n",
       "      <td>0.000000</td>\n",
       "      <td>0.000000</td>\n",
       "    </tr>\n",
       "    <tr>\n",
       "      <th>1%</th>\n",
       "      <td>0.000000</td>\n",
       "      <td>0.000000</td>\n",
       "      <td>0.000000</td>\n",
       "    </tr>\n",
       "    <tr>\n",
       "      <th>5%</th>\n",
       "      <td>0.000000</td>\n",
       "      <td>0.000000</td>\n",
       "      <td>0.000000</td>\n",
       "    </tr>\n",
       "    <tr>\n",
       "      <th>10%</th>\n",
       "      <td>0.000000</td>\n",
       "      <td>0.000000</td>\n",
       "      <td>0.000000</td>\n",
       "    </tr>\n",
       "    <tr>\n",
       "      <th>25%</th>\n",
       "      <td>1.000000</td>\n",
       "      <td>11.000000</td>\n",
       "      <td>1.000000</td>\n",
       "    </tr>\n",
       "    <tr>\n",
       "      <th>50%</th>\n",
       "      <td>3.000000</td>\n",
       "      <td>246.000000</td>\n",
       "      <td>2.000000</td>\n",
       "    </tr>\n",
       "    <tr>\n",
       "      <th>75%</th>\n",
       "      <td>5.000000</td>\n",
       "      <td>922.750000</td>\n",
       "      <td>3.200000</td>\n",
       "    </tr>\n",
       "    <tr>\n",
       "      <th>90%</th>\n",
       "      <td>7.000000</td>\n",
       "      <td>1373.000000</td>\n",
       "      <td>5.000000</td>\n",
       "    </tr>\n",
       "    <tr>\n",
       "      <th>95%</th>\n",
       "      <td>10.000000</td>\n",
       "      <td>1557.000000</td>\n",
       "      <td>6.000000</td>\n",
       "    </tr>\n",
       "    <tr>\n",
       "      <th>99%</th>\n",
       "      <td>17.000000</td>\n",
       "      <td>1839.000000</td>\n",
       "      <td>9.000000</td>\n",
       "    </tr>\n",
       "    <tr>\n",
       "      <th>max</th>\n",
       "      <td>251.000000</td>\n",
       "      <td>2272.000000</td>\n",
       "      <td>55.000000</td>\n",
       "    </tr>\n",
       "  </tbody>\n",
       "</table>\n",
       "</div>"
      ],
      "text/plain": [
       "       TotalVisits  Total Time Spent on Website  Page Views Per Visit\n",
       "count  9074.000000                  9074.000000           9074.000000\n",
       "mean      3.456028                   482.887481              2.370151\n",
       "std       4.858802                   545.256560              2.160871\n",
       "min       0.000000                     0.000000              0.000000\n",
       "1%        0.000000                     0.000000              0.000000\n",
       "5%        0.000000                     0.000000              0.000000\n",
       "10%       0.000000                     0.000000              0.000000\n",
       "25%       1.000000                    11.000000              1.000000\n",
       "50%       3.000000                   246.000000              2.000000\n",
       "75%       5.000000                   922.750000              3.200000\n",
       "90%       7.000000                  1373.000000              5.000000\n",
       "95%      10.000000                  1557.000000              6.000000\n",
       "99%      17.000000                  1839.000000              9.000000\n",
       "max     251.000000                  2272.000000             55.000000"
      ]
     },
     "execution_count": 214,
     "metadata": {},
     "output_type": "execute_result"
    }
   ],
   "source": [
    "df_leads.describe(percentiles=[.01,.05,.1,.25,.5,.75,.90,.95,.99])"
   ]
  },
  {
   "cell_type": "markdown",
   "metadata": {},
   "source": [
    "###### We can see outliers in the all numeric columns. We can cap higher outliers."
   ]
  },
  {
   "cell_type": "code",
   "execution_count": 215,
   "metadata": {},
   "outputs": [],
   "source": [
    "# Cap the Outliers value \n",
    "TV_Q4 = df_leads['TotalVisits'].quantile(0.99)\n",
    "TS_Q4 = df_leads['Total Time Spent on Website'].quantile(0.99)\n",
    "PV_Q4 = df_leads['Page Views Per Visit'].quantile(0.99)\n",
    "\n",
    "df_leads['TotalVisits'][df_leads['TotalVisits']>= TV_Q4] = TV_Q4\n",
    "df_leads['Total Time Spent on Website'][df_leads['Total Time Spent on Website']>= TS_Q4] = TS_Q4\n",
    "df_leads['Page Views Per Visit'][df_leads['Page Views Per Visit']>= PV_Q4] = PV_Q4"
   ]
  },
  {
   "cell_type": "markdown",
   "metadata": {},
   "source": [
    "#### Categorical Varaible 'Converted'"
   ]
  },
  {
   "cell_type": "code",
   "execution_count": 216,
   "metadata": {},
   "outputs": [
    {
     "data": {
      "image/png": "[encoded data removed]",
      "text/plain": [
       "<Figure size 1080x360 with 2 Axes>"
      ]
     },
     "metadata": {
      "needs_background": "light"
     },
     "output_type": "display_data"
    }
   ],
   "source": [
    "# Countplot for Converted\n",
    "plt.figure(figsize=(15,5))\n",
    "plt.title('Converted Leads')\n",
    "plt.subplot(121)\n",
    "plt.title('Number of Converted Leads')\n",
    "sns.countplot(df_leads.Converted,palette=\"Set2\")\n",
    "plt.xticks([0,1],('No','Yes'))\n",
    "plt.subplot(122)\n",
    "plt.title('Distribution of Converted Leads')\n",
    "df_leads.Converted.value_counts().plot(kind='pie', labels = ['No','Yes'])\n",
    "plt.show()"
   ]
  },
  {
   "cell_type": "code",
   "execution_count": 217,
   "metadata": {},
   "outputs": [
    {
     "name": "stdout",
     "output_type": "stream",
     "text": [
      "Percentage of Leads Converted - 37.86 %\n"
     ]
    }
   ],
   "source": [
    "print('Percentage of Leads Converted -', round(df_leads.Converted.value_counts(normalize=True)*100,2)[1], '%')"
   ]
  },
  {
   "cell_type": "markdown",
   "metadata": {},
   "source": [
    "### Coversion rate of leads is around 37 % "
   ]
  },
  {
   "cell_type": "code",
   "execution_count": 218,
   "metadata": {},
   "outputs": [
    {
     "data": {
      "image/png": "[encoded data removed]",
      "text/plain": [
       "<Figure size 1080x576 with 8 Axes>"
      ]
     },
     "metadata": {
      "needs_background": "light"
     },
     "output_type": "display_data"
    }
   ],
   "source": [
    "c_features = [\"Newspaper Article\",\"X Education Forums\",\"Newspaper\", \"Search\",\n",
    "\"Digital Advertisement\",\"Through Recommendations\",\"Do Not Email\",\"Do Not Call\"] \n",
    "plt.figure(figsize =(15,8))\n",
    "for i in enumerate(c_features):\n",
    "    plt.subplot(2, 4,i[0]+1)\n",
    "    sns.countplot(i[1], data = df_leads)"
   ]
  },
  {
   "cell_type": "markdown",
   "metadata": {},
   "source": [
    "#### Insights:\n",
    "- All above **Features** are highly Skewed and does not tell much. We can drop these columns."
   ]
  },
  {
   "cell_type": "code",
   "execution_count": 219,
   "metadata": {},
   "outputs": [
    {
     "data": {
      "image/png": "[encoded data removed]",
      "text/plain": [
       "<Figure size 1440x288 with 5 Axes>"
      ]
     },
     "metadata": {
      "needs_background": "light"
     },
     "output_type": "display_data"
    }
   ],
   "source": [
    "c_features = [ \"I agree to pay the amount through cheque\",\n",
    "            \"Get updates on DM Content\",\"Magazine\",\n",
    "            \"Update me on Supply Chain Content\",\n",
    "            \"Receive More Updates About Our Courses\"] \n",
    "plt.figure(figsize =(20,4))\n",
    "for i in enumerate(c_features):\n",
    "    plt.subplot(1, 5,i[0]+1)\n",
    "    sns.countplot(i[1], data = df_leads)"
   ]
  },
  {
   "cell_type": "markdown",
   "metadata": {},
   "source": [
    "#### Insights:\n",
    "- All above **Features** are 100% No. We can drop these columns."
   ]
  },
  {
   "cell_type": "code",
   "execution_count": 220,
   "metadata": {},
   "outputs": [
    {
     "name": "stdout",
     "output_type": "stream",
     "text": [
      "Column \"Lead Origin\" values percentage\n",
      "Landing Page Submission    53.84\n",
      "API                        39.43\n",
      "Lead Add Form               6.40\n",
      "Lead Import                 0.33\n",
      "Name: Lead Origin, dtype: float64\n",
      "\n",
      "\n",
      "Column \"What is your current occupation\" values percentage\n",
      "Unemployed              89.92\n",
      "Working Professional     7.46\n",
      "Student                  2.27\n",
      "Other                    0.17\n",
      "Housewife                0.10\n",
      "Businessman              0.09\n",
      "Name: What is your current occupation, dtype: float64\n",
      "\n",
      "\n",
      "Column \"City\" values percentage\n",
      "Mumbai                         74.41\n",
      "Thane & Outskirts               8.21\n",
      "Other Cities                    7.49\n",
      "Other Cities of Maharashtra     4.92\n",
      "Other Metro Cities              4.15\n",
      "Tier II Cities                  0.82\n",
      "Name: City, dtype: float64\n",
      "\n",
      "\n",
      "Column \"A free copy of Mastering The Interview\" values percentage\n",
      "No     68.17\n",
      "Yes    31.83\n",
      "Name: A free copy of Mastering The Interview, dtype: float64\n",
      "\n",
      "\n"
     ]
    }
   ],
   "source": [
    "#Print Value counts for features,\n",
    "features = df_leads[[\"Lead Origin\",\"What is your current occupation\",\"City\",\n",
    "                     \"A free copy of Mastering The Interview\"]]\n",
    "for i in features:\n",
    "    print('Column \"{0}\" values percentage'.format(i))\n",
    "    print(round(df_leads[i].value_counts(normalize=True)*100,2))\n",
    "    print('\\n')"
   ]
  },
  {
   "cell_type": "code",
   "execution_count": 221,
   "metadata": {},
   "outputs": [
    {
     "data": {
      "image/png": "[encoded data removed]",
      "text/plain": [
       "<Figure size 1080x360 with 2 Axes>"
      ]
     },
     "metadata": {
      "needs_background": "light"
     },
     "output_type": "display_data"
    }
   ],
   "source": [
    "categorical = [\"Lead Origin\",\"What is your current occupation\"]\n",
    "plt.figure(figsize =(15,5))\n",
    "for i in enumerate(categorical):\n",
    "    plt.subplot(1, 2,i[0]+1)\n",
    "    sns.countplot(i[1], data = df_leads)\n",
    "    plt.xticks(rotation = 90)"
   ]
  },
  {
   "cell_type": "code",
   "execution_count": 222,
   "metadata": {},
   "outputs": [
    {
     "data": {
      "image/png": "[encoded data removed]",
      "text/plain": [
       "<Figure size 1080x360 with 2 Axes>"
      ]
     },
     "metadata": {
      "needs_background": "light"
     },
     "output_type": "display_data"
    }
   ],
   "source": [
    "categorical = [\"City\",\"A free copy of Mastering The Interview\"]\n",
    "plt.figure(figsize =(15,5))\n",
    "for i in enumerate(categorical):\n",
    "    plt.subplot(1, 2,i[0]+1)\n",
    "    sns.countplot(i[1], data = df_leads)\n",
    "    plt.xticks(rotation = 90)"
   ]
  },
  {
   "cell_type": "markdown",
   "metadata": {},
   "source": [
    "#### These Colums looks usefull \n",
    "\n",
    "- \"City\"\n",
    "- \"Lead Origin\",\n",
    "- \"What is your current occupation\",,\n",
    "- \"A free copy of Mastering The Interview\""
   ]
  },
  {
   "cell_type": "code",
   "execution_count": 223,
   "metadata": {},
   "outputs": [
    {
     "data": {
      "text/plain": [
       "Google               31.61\n",
       "Direct Traffic       28.03\n",
       "Olark Chat           19.32\n",
       "Organic Search       12.72\n",
       "Reference             4.88\n",
       "Welingak Website      1.42\n",
       "Referral Sites        1.38\n",
       "Facebook              0.34\n",
       "bing                  0.07\n",
       "google                0.06\n",
       "Click2call            0.04\n",
       "Social Media          0.02\n",
       "Live Chat             0.02\n",
       "Press_Release         0.02\n",
       "blog                  0.01\n",
       "Pay per Click Ads     0.01\n",
       "NC_EDM                0.01\n",
       "testone               0.01\n",
       "welearnblog_Home      0.01\n",
       "WeLearn               0.01\n",
       "youtubechannel        0.01\n",
       "Name: Lead Source, dtype: float64"
      ]
     },
     "execution_count": 223,
     "metadata": {},
     "output_type": "execute_result"
    }
   ],
   "source": [
    "# Check Column Values Percent\n",
    "round(100*df_leads[\"Lead Source\"].value_counts(normalize=True),2)"
   ]
  },
  {
   "cell_type": "markdown",
   "metadata": {},
   "source": [
    "#### Lead Source\n",
    "- We can group some of the lower frequency occuring labels under a common label 'Others'\n",
    "- We can combine columns 'google' and 'Google'"
   ]
  },
  {
   "cell_type": "code",
   "execution_count": 224,
   "metadata": {},
   "outputs": [],
   "source": [
    "#replacing 'google' with 'Google' and combining low frequency values\n",
    "df_leads['Lead Source'] = df_leads['Lead Source'].replace('google','Google')\n",
    "df_leads['Lead Source'] = df_leads['Lead Source'].replace(['Welingak Website', 'Referral Sites', 'Facebook',\n",
    "                                                           'bing','Click2call','Social Media','Press_Release',\n",
    "                                                           'Live Chat','WeLearn','testone','NC_EDM','welearnblog_Home',\n",
    "                                                           'blog','youtubechannel','Pay per Click Ads'] ,'Others')    "
   ]
  },
  {
   "cell_type": "code",
   "execution_count": 225,
   "metadata": {},
   "outputs": [
    {
     "data": {
      "text/plain": [
       "Modified                        36.00\n",
       "Email Opened                    31.11\n",
       "SMS Sent                        23.72\n",
       "Page Visited on Website          3.50\n",
       "Olark Chat Conversation          2.02\n",
       "Email Link Clicked               1.91\n",
       "Email Bounced                    0.66\n",
       "Unsubscribed                     0.50\n",
       "Unreachable                      0.35\n",
       "Had a Phone Conversation         0.15\n",
       "Email Marked Spam                0.02\n",
       "Resubscribed to emails           0.01\n",
       "Email Received                   0.01\n",
       "Approached upfront               0.01\n",
       "View in browser link Clicked     0.01\n",
       "Form Submitted on Website        0.01\n",
       "Name: Last Notable Activity, dtype: float64"
      ]
     },
     "execution_count": 225,
     "metadata": {},
     "output_type": "execute_result"
    }
   ],
   "source": [
    "# Check Column Values Percent\n",
    "round(100*df_leads[\"Last Notable Activity\"].value_counts(normalize=True),2)"
   ]
  },
  {
   "cell_type": "markdown",
   "metadata": {},
   "source": [
    "#### Last Notable Activity\n",
    "- We can group some of the lower frequency occuring labels under a common label 'Other Notable Activity'"
   ]
  },
  {
   "cell_type": "code",
   "execution_count": 226,
   "metadata": {},
   "outputs": [],
   "source": [
    "df_leads['Last Notable Activity'] = df_leads['Last Notable Activity'].replace(['View in browser link Clicked', \n",
    "                                                                               'Approached upfront', 'Resubscribed to emails',\n",
    "                                                                               'Email Received','Form Submitted on Website',\n",
    "                                                                              'Email Marked Spam','Had a Phone Conversation',\n",
    "                                                                              'Unreachable','Unsubscribed',\n",
    "                                                                              'Email Bounced','Email Link Clicked'] ,'Other Notable Activity')                                                   "
   ]
  },
  {
   "cell_type": "code",
   "execution_count": 227,
   "metadata": {},
   "outputs": [
    {
     "data": {
      "image/png": "[encoded data removed]",
      "text/plain": [
       "<Figure size 1440x360 with 2 Axes>"
      ]
     },
     "metadata": {
      "needs_background": "light"
     },
     "output_type": "display_data"
    }
   ],
   "source": [
    "plt.figure(figsize=(20,5))\n",
    "plt.subplot(121)\n",
    "sns.countplot(df_leads[\"Lead Source\"])\n",
    "plt.xticks(rotation = 30)\n",
    "plt.subplot(122)\n",
    "sns.countplot(df_leads[\"Last Notable Activity\"])\n",
    "plt.xticks(rotation = 45)\n",
    "plt.show()"
   ]
  },
  {
   "cell_type": "markdown",
   "metadata": {},
   "source": [
    "- **Lead Source** : This variable looks useful\n",
    "- **Last Notable Activity** : This variable looks useful"
   ]
  },
  {
   "cell_type": "code",
   "execution_count": 228,
   "metadata": {},
   "outputs": [
    {
     "data": {
      "text/plain": [
       "Modified                   36.00\n",
       "Email Opened               31.11\n",
       "SMS Sent                   23.72\n",
       "Other Notable Activity      3.65\n",
       "Page Visited on Website     3.50\n",
       "Olark Chat Conversation     2.02\n",
       "Name: Last Notable Activity, dtype: float64"
      ]
     },
     "execution_count": 228,
     "metadata": {},
     "output_type": "execute_result"
    }
   ],
   "source": [
    "# Check Column Values Percent\n",
    "round(100*df_leads[\"Last Notable Activity\"].value_counts(normalize=True),2)"
   ]
  },
  {
   "cell_type": "code",
   "execution_count": 229,
   "metadata": {},
   "outputs": [
    {
     "data": {
      "text/plain": [
       "Email Opened                    37.82\n",
       "SMS Sent                        29.93\n",
       "Olark Chat Conversation         10.71\n",
       "Page Visited on Website          7.05\n",
       "Converted to Lead                4.72\n",
       "Email Bounced                    3.44\n",
       "Email Link Clicked               2.94\n",
       "Form Submitted on Website        1.28\n",
       "Unreachable                      0.99\n",
       "Unsubscribed                     0.65\n",
       "Had a Phone Conversation         0.28\n",
       "View in browser link Clicked     0.07\n",
       "Approached upfront               0.06\n",
       "Email Marked Spam                0.02\n",
       "Email Received                   0.02\n",
       "Visited Booth in Tradeshow       0.01\n",
       "Resubscribed to emails           0.01\n",
       "Name: Last Activity, dtype: float64"
      ]
     },
     "execution_count": 229,
     "metadata": {},
     "output_type": "execute_result"
    }
   ],
   "source": [
    "# Check Column Values Percent\n",
    "round(100*df_leads[\"Last Activity\"].value_counts(normalize=True),2)"
   ]
  },
  {
   "cell_type": "markdown",
   "metadata": {},
   "source": [
    "- **Last Activity** : Last activity when the lead was closed by the sales team. We can drop this column"
   ]
  },
  {
   "cell_type": "markdown",
   "metadata": {},
   "source": [
    "### Dropping Columns"
   ]
  },
  {
   "cell_type": "code",
   "execution_count": 230,
   "metadata": {},
   "outputs": [],
   "source": [
    "df_leads.drop([ \"Newspaper Article\",\"X Education Forums\",\"Newspaper\", \"Search\",\"Digital Advertisement\",\"Through Recommendations\",\n",
    "                \"Do Not Email\", \"Do Not Call\",\"I agree to pay the amount through cheque\",\"Get updates on DM Content\",\"Magazine\",\n",
    "                \"Last Activity\",\"Update me on Supply Chain Content\",\"Receive More Updates About Our Courses\"],\n",
    "                axis =1, inplace= True)"
   ]
  },
  {
   "cell_type": "code",
   "execution_count": 231,
   "metadata": {},
   "outputs": [
    {
     "data": {
      "text/plain": [
       "(9074, 12)"
      ]
     },
     "execution_count": 231,
     "metadata": {},
     "output_type": "execute_result"
    }
   ],
   "source": [
    "df_leads.shape"
   ]
  },
  {
   "cell_type": "code",
   "execution_count": 232,
   "metadata": {},
   "outputs": [
    {
     "data": {
      "text/html": [
       "<div>\n",
       "<style scoped>\n",
       "    .dataframe tbody tr th:only-of-type {\n",
       "        vertical-align: middle;\n",
       "    }\n",
       "\n",
       "    .dataframe tbody tr th {\n",
       "        vertical-align: top;\n",
       "    }\n",
       "\n",
       "    .dataframe thead th {\n",
       "        text-align: right;\n",
       "    }\n",
       "</style>\n",
       "<table border=\"1\" class=\"dataframe\">\n",
       "  <thead>\n",
       "    <tr style=\"text-align: right;\">\n",
       "      <th></th>\n",
       "      <th>Prospect ID</th>\n",
       "      <th>Lead Origin</th>\n",
       "      <th>Lead Source</th>\n",
       "      <th>Converted</th>\n",
       "      <th>TotalVisits</th>\n",
       "      <th>Total Time Spent on Website</th>\n",
       "      <th>Page Views Per Visit</th>\n",
       "      <th>Specialization</th>\n",
       "      <th>What is your current occupation</th>\n",
       "      <th>City</th>\n",
       "      <th>A free copy of Mastering The Interview</th>\n",
       "      <th>Last Notable Activity</th>\n",
       "    </tr>\n",
       "  </thead>\n",
       "  <tbody>\n",
       "    <tr>\n",
       "      <th>0</th>\n",
       "      <td>7927b2df-8bba-4d29-b9a2-b6e0beafe620</td>\n",
       "      <td>API</td>\n",
       "      <td>Olark Chat</td>\n",
       "      <td>0</td>\n",
       "      <td>0.0</td>\n",
       "      <td>0</td>\n",
       "      <td>0.0</td>\n",
       "      <td>Not Specified</td>\n",
       "      <td>Unemployed</td>\n",
       "      <td>Mumbai</td>\n",
       "      <td>No</td>\n",
       "      <td>Modified</td>\n",
       "    </tr>\n",
       "    <tr>\n",
       "      <th>1</th>\n",
       "      <td>2a272436-5132-4136-86fa-dcc88c88f482</td>\n",
       "      <td>API</td>\n",
       "      <td>Organic Search</td>\n",
       "      <td>0</td>\n",
       "      <td>5.0</td>\n",
       "      <td>674</td>\n",
       "      <td>2.5</td>\n",
       "      <td>Not Specified</td>\n",
       "      <td>Unemployed</td>\n",
       "      <td>Mumbai</td>\n",
       "      <td>No</td>\n",
       "      <td>Email Opened</td>\n",
       "    </tr>\n",
       "    <tr>\n",
       "      <th>2</th>\n",
       "      <td>8cc8c611-a219-4f35-ad23-fdfd2656bd8a</td>\n",
       "      <td>Landing Page Submission</td>\n",
       "      <td>Direct Traffic</td>\n",
       "      <td>1</td>\n",
       "      <td>2.0</td>\n",
       "      <td>1532</td>\n",
       "      <td>2.0</td>\n",
       "      <td>Business Administration</td>\n",
       "      <td>Student</td>\n",
       "      <td>Mumbai</td>\n",
       "      <td>Yes</td>\n",
       "      <td>Email Opened</td>\n",
       "    </tr>\n",
       "    <tr>\n",
       "      <th>3</th>\n",
       "      <td>0cc2df48-7cf4-4e39-9de9-19797f9b38cc</td>\n",
       "      <td>Landing Page Submission</td>\n",
       "      <td>Direct Traffic</td>\n",
       "      <td>0</td>\n",
       "      <td>1.0</td>\n",
       "      <td>305</td>\n",
       "      <td>1.0</td>\n",
       "      <td>Media and Advertising</td>\n",
       "      <td>Unemployed</td>\n",
       "      <td>Mumbai</td>\n",
       "      <td>No</td>\n",
       "      <td>Modified</td>\n",
       "    </tr>\n",
       "    <tr>\n",
       "      <th>4</th>\n",
       "      <td>3256f628-e534-4826-9d63-4a8b88782852</td>\n",
       "      <td>Landing Page Submission</td>\n",
       "      <td>Google</td>\n",
       "      <td>1</td>\n",
       "      <td>2.0</td>\n",
       "      <td>1428</td>\n",
       "      <td>1.0</td>\n",
       "      <td>Not Specified</td>\n",
       "      <td>Unemployed</td>\n",
       "      <td>Mumbai</td>\n",
       "      <td>No</td>\n",
       "      <td>Modified</td>\n",
       "    </tr>\n",
       "  </tbody>\n",
       "</table>\n",
       "</div>"
      ],
      "text/plain": [
       "                            Prospect ID              Lead Origin  \\\n",
       "0  7927b2df-8bba-4d29-b9a2-b6e0beafe620                      API   \n",
       "1  2a272436-5132-4136-86fa-dcc88c88f482                      API   \n",
       "2  8cc8c611-a219-4f35-ad23-fdfd2656bd8a  Landing Page Submission   \n",
       "3  0cc2df48-7cf4-4e39-9de9-19797f9b38cc  Landing Page Submission   \n",
       "4  3256f628-e534-4826-9d63-4a8b88782852  Landing Page Submission   \n",
       "\n",
       "      Lead Source Converted  TotalVisits  Total Time Spent on Website  \\\n",
       "0      Olark Chat         0          0.0                            0   \n",
       "1  Organic Search         0          5.0                          674   \n",
       "2  Direct Traffic         1          2.0                         1532   \n",
       "3  Direct Traffic         0          1.0                          305   \n",
       "4          Google         1          2.0                         1428   \n",
       "\n",
       "   Page Views Per Visit           Specialization  \\\n",
       "0                   0.0            Not Specified   \n",
       "1                   2.5            Not Specified   \n",
       "2                   2.0  Business Administration   \n",
       "3                   1.0    Media and Advertising   \n",
       "4                   1.0            Not Specified   \n",
       "\n",
       "  What is your current occupation    City  \\\n",
       "0                      Unemployed  Mumbai   \n",
       "1                      Unemployed  Mumbai   \n",
       "2                         Student  Mumbai   \n",
       "3                      Unemployed  Mumbai   \n",
       "4                      Unemployed  Mumbai   \n",
       "\n",
       "  A free copy of Mastering The Interview Last Notable Activity  \n",
       "0                                     No              Modified  \n",
       "1                                     No          Email Opened  \n",
       "2                                    Yes          Email Opened  \n",
       "3                                     No              Modified  \n",
       "4                                     No              Modified  "
      ]
     },
     "execution_count": 232,
     "metadata": {},
     "output_type": "execute_result"
    }
   ],
   "source": [
    "df_leads.head()"
   ]
  },
  {
   "cell_type": "markdown",
   "metadata": {},
   "source": [
    "## Bivariate Analysis"
   ]
  },
  {
   "cell_type": "code",
   "execution_count": 233,
   "metadata": {},
   "outputs": [
    {
     "data": {
      "image/png": "[encoded data removed]",
      "text/plain": [
       "<Figure size 1224x360 with 3 Axes>"
      ]
     },
     "metadata": {
      "needs_background": "light"
     },
     "output_type": "display_data"
    }
   ],
   "source": [
    "# Box Plot\n",
    "plt.figure(figsize=(17,5))\n",
    "plt.subplot(131)\n",
    "sns.boxplot(x='Converted', y='TotalVisits', data=df_leads, palette=\"Set2\")\n",
    "plt.subplot(132)\n",
    "sns.boxplot(x='Converted', y='Total Time Spent on Website', data=df_leads, palette=\"Set2\")\n",
    "plt.subplot(133)\n",
    "sns.boxplot(x='Converted', y='Page Views Per Visit', data=df_leads, palette=\"Set2\")\n",
    "plt.show()"
   ]
  },
  {
   "cell_type": "code",
   "execution_count": 234,
   "metadata": {},
   "outputs": [
    {
     "data": {
      "image/png": "[encoded data removed]",
      "text/plain": [
       "<Figure size 864x360 with 1 Axes>"
      ]
     },
     "metadata": {
      "needs_background": "light"
     },
     "output_type": "display_data"
    }
   ],
   "source": [
    "# 'Lead Source', 'Converted',\n",
    "plt.figure(figsize=(12,5))\n",
    "sns.countplot(\"Lead Origin\", hue = \"Converted\" , data = df_leads)\n",
    "plt.xticks(rotation = 30)\n",
    "plt.show()"
   ]
  },
  {
   "cell_type": "code",
   "execution_count": 235,
   "metadata": {},
   "outputs": [
    {
     "data": {
      "image/png": "[encoded data removed]",
      "text/plain": [
       "<Figure size 864x360 with 1 Axes>"
      ]
     },
     "metadata": {
      "needs_background": "light"
     },
     "output_type": "display_data"
    }
   ],
   "source": [
    "plt.figure(figsize=(12,5))\n",
    "sns.countplot(x = \"Lead Source\", hue = \"Converted\" , data = df_leads)\n",
    "plt.show()"
   ]
  },
  {
   "cell_type": "code",
   "execution_count": 236,
   "metadata": {},
   "outputs": [
    {
     "data": {
      "image/png": "[encoded data removed]",
      "text/plain": [
       "<Figure size 864x360 with 1 Axes>"
      ]
     },
     "metadata": {
      "needs_background": "light"
     },
     "output_type": "display_data"
    }
   ],
   "source": [
    "plt.figure(figsize=(12,5))\n",
    "sns.countplot(\"Specialization\", hue = \"Converted\" , data = df_leads)\n",
    "plt.xticks(rotation = 75)\n",
    "plt.show()"
   ]
  },
  {
   "cell_type": "code",
   "execution_count": 237,
   "metadata": {},
   "outputs": [
    {
     "data": {
      "image/png": "[encoded data removed]",
      "text/plain": [
       "<Figure size 864x360 with 1 Axes>"
      ]
     },
     "metadata": {
      "needs_background": "light"
     },
     "output_type": "display_data"
    }
   ],
   "source": [
    "plt.figure(figsize=(12,5))\n",
    "sns.countplot(\"What is your current occupation\", hue = \"Converted\" , data = df_leads)\n",
    "plt.xticks(rotation = 60)\n",
    "plt.show()"
   ]
  },
  {
   "cell_type": "code",
   "execution_count": 238,
   "metadata": {},
   "outputs": [
    {
     "data": {
      "image/png": "[encoded data removed]",
      "text/plain": [
       "<Figure size 864x360 with 1 Axes>"
      ]
     },
     "metadata": {
      "needs_background": "light"
     },
     "output_type": "display_data"
    }
   ],
   "source": [
    "plt.figure(figsize=(12,5))\n",
    "sns.countplot(\"City\", hue = \"Converted\" , data = df_leads)\n",
    "plt.xticks(rotation = 60)\n",
    "plt.show()"
   ]
  },
  {
   "cell_type": "code",
   "execution_count": 239,
   "metadata": {},
   "outputs": [
    {
     "data": {
      "image/png": "[encoded data removed]",
      "text/plain": [
       "<Figure size 864x360 with 1 Axes>"
      ]
     },
     "metadata": {
      "needs_background": "light"
     },
     "output_type": "display_data"
    }
   ],
   "source": [
    "plt.figure(figsize=(12,5))\n",
    "sns.countplot(\"Last Notable Activity\", hue = \"Converted\" , data = df_leads)\n",
    "plt.xticks(rotation = 60)\n",
    "plt.show()"
   ]
  },
  {
   "cell_type": "code",
   "execution_count": 240,
   "metadata": {},
   "outputs": [
    {
     "data": {
      "image/png": "[encoded data removed]",
      "text/plain": [
       "<Figure size 864x360 with 1 Axes>"
      ]
     },
     "metadata": {
      "needs_background": "light"
     },
     "output_type": "display_data"
    }
   ],
   "source": [
    "plt.figure(figsize=(12,5))\n",
    "sns.countplot(\"A free copy of Mastering The Interview\", hue = \"Converted\" , data = df_leads)\n",
    "plt.show()"
   ]
  },
  {
   "cell_type": "markdown",
   "metadata": {},
   "source": [
    "# Modelling"
   ]
  },
  {
   "cell_type": "markdown",
   "metadata": {},
   "source": [
    "## Data Preparation\n",
    "####  Converting some binary variables (Yes/No) to 1/0"
   ]
  },
  {
   "cell_type": "code",
   "execution_count": 241,
   "metadata": {},
   "outputs": [],
   "source": [
    "def binary_map(x):\n",
    "    return x.map({'Yes': 1, \"No\": 0})\n",
    "free_copy = [\"A free copy of Mastering The Interview\"]\n",
    "df_leads[free_copy] = df_leads[free_copy].apply(binary_map).astype('object')"
   ]
  },
  {
   "cell_type": "code",
   "execution_count": 242,
   "metadata": {
    "scrolled": true
   },
   "outputs": [
    {
     "data": {
      "text/html": [
       "<div>\n",
       "<style scoped>\n",
       "    .dataframe tbody tr th:only-of-type {\n",
       "        vertical-align: middle;\n",
       "    }\n",
       "\n",
       "    .dataframe tbody tr th {\n",
       "        vertical-align: top;\n",
       "    }\n",
       "\n",
       "    .dataframe thead th {\n",
       "        text-align: right;\n",
       "    }\n",
       "</style>\n",
       "<table border=\"1\" class=\"dataframe\">\n",
       "  <thead>\n",
       "    <tr style=\"text-align: right;\">\n",
       "      <th></th>\n",
       "      <th>Prospect ID</th>\n",
       "      <th>Lead Origin</th>\n",
       "      <th>Lead Source</th>\n",
       "      <th>Converted</th>\n",
       "      <th>TotalVisits</th>\n",
       "      <th>Total Time Spent on Website</th>\n",
       "      <th>Page Views Per Visit</th>\n",
       "      <th>Specialization</th>\n",
       "      <th>What is your current occupation</th>\n",
       "      <th>City</th>\n",
       "      <th>A free copy of Mastering The Interview</th>\n",
       "      <th>Last Notable Activity</th>\n",
       "    </tr>\n",
       "  </thead>\n",
       "  <tbody>\n",
       "    <tr>\n",
       "      <th>0</th>\n",
       "      <td>7927b2df-8bba-4d29-b9a2-b6e0beafe620</td>\n",
       "      <td>API</td>\n",
       "      <td>Olark Chat</td>\n",
       "      <td>0</td>\n",
       "      <td>0.0</td>\n",
       "      <td>0</td>\n",
       "      <td>0.0</td>\n",
       "      <td>Not Specified</td>\n",
       "      <td>Unemployed</td>\n",
       "      <td>Mumbai</td>\n",
       "      <td>0</td>\n",
       "      <td>Modified</td>\n",
       "    </tr>\n",
       "    <tr>\n",
       "      <th>1</th>\n",
       "      <td>2a272436-5132-4136-86fa-dcc88c88f482</td>\n",
       "      <td>API</td>\n",
       "      <td>Organic Search</td>\n",
       "      <td>0</td>\n",
       "      <td>5.0</td>\n",
       "      <td>674</td>\n",
       "      <td>2.5</td>\n",
       "      <td>Not Specified</td>\n",
       "      <td>Unemployed</td>\n",
       "      <td>Mumbai</td>\n",
       "      <td>0</td>\n",
       "      <td>Email Opened</td>\n",
       "    </tr>\n",
       "    <tr>\n",
       "      <th>2</th>\n",
       "      <td>8cc8c611-a219-4f35-ad23-fdfd2656bd8a</td>\n",
       "      <td>Landing Page Submission</td>\n",
       "      <td>Direct Traffic</td>\n",
       "      <td>1</td>\n",
       "      <td>2.0</td>\n",
       "      <td>1532</td>\n",
       "      <td>2.0</td>\n",
       "      <td>Business Administration</td>\n",
       "      <td>Student</td>\n",
       "      <td>Mumbai</td>\n",
       "      <td>1</td>\n",
       "      <td>Email Opened</td>\n",
       "    </tr>\n",
       "    <tr>\n",
       "      <th>3</th>\n",
       "      <td>0cc2df48-7cf4-4e39-9de9-19797f9b38cc</td>\n",
       "      <td>Landing Page Submission</td>\n",
       "      <td>Direct Traffic</td>\n",
       "      <td>0</td>\n",
       "      <td>1.0</td>\n",
       "      <td>305</td>\n",
       "      <td>1.0</td>\n",
       "      <td>Media and Advertising</td>\n",
       "      <td>Unemployed</td>\n",
       "      <td>Mumbai</td>\n",
       "      <td>0</td>\n",
       "      <td>Modified</td>\n",
       "    </tr>\n",
       "    <tr>\n",
       "      <th>4</th>\n",
       "      <td>3256f628-e534-4826-9d63-4a8b88782852</td>\n",
       "      <td>Landing Page Submission</td>\n",
       "      <td>Google</td>\n",
       "      <td>1</td>\n",
       "      <td>2.0</td>\n",
       "      <td>1428</td>\n",
       "      <td>1.0</td>\n",
       "      <td>Not Specified</td>\n",
       "      <td>Unemployed</td>\n",
       "      <td>Mumbai</td>\n",
       "      <td>0</td>\n",
       "      <td>Modified</td>\n",
       "    </tr>\n",
       "  </tbody>\n",
       "</table>\n",
       "</div>"
      ],
      "text/plain": [
       "                            Prospect ID              Lead Origin  \\\n",
       "0  7927b2df-8bba-4d29-b9a2-b6e0beafe620                      API   \n",
       "1  2a272436-5132-4136-86fa-dcc88c88f482                      API   \n",
       "2  8cc8c611-a219-4f35-ad23-fdfd2656bd8a  Landing Page Submission   \n",
       "3  0cc2df48-7cf4-4e39-9de9-19797f9b38cc  Landing Page Submission   \n",
       "4  3256f628-e534-4826-9d63-4a8b88782852  Landing Page Submission   \n",
       "\n",
       "      Lead Source Converted  TotalVisits  Total Time Spent on Website  \\\n",
       "0      Olark Chat         0          0.0                            0   \n",
       "1  Organic Search         0          5.0                          674   \n",
       "2  Direct Traffic         1          2.0                         1532   \n",
       "3  Direct Traffic         0          1.0                          305   \n",
       "4          Google         1          2.0                         1428   \n",
       "\n",
       "   Page Views Per Visit           Specialization  \\\n",
       "0                   0.0            Not Specified   \n",
       "1                   2.5            Not Specified   \n",
       "2                   2.0  Business Administration   \n",
       "3                   1.0    Media and Advertising   \n",
       "4                   1.0            Not Specified   \n",
       "\n",
       "  What is your current occupation    City  \\\n",
       "0                      Unemployed  Mumbai   \n",
       "1                      Unemployed  Mumbai   \n",
       "2                         Student  Mumbai   \n",
       "3                      Unemployed  Mumbai   \n",
       "4                      Unemployed  Mumbai   \n",
       "\n",
       "  A free copy of Mastering The Interview Last Notable Activity  \n",
       "0                                      0              Modified  \n",
       "1                                      0          Email Opened  \n",
       "2                                      1          Email Opened  \n",
       "3                                      0              Modified  \n",
       "4                                      0              Modified  "
      ]
     },
     "execution_count": 242,
     "metadata": {},
     "output_type": "execute_result"
    }
   ],
   "source": [
    "df_leads.head()"
   ]
  },
  {
   "cell_type": "markdown",
   "metadata": {},
   "source": [
    "#### Create dummy features for categorical features with multiple levels"
   ]
  },
  {
   "cell_type": "code",
   "execution_count": 243,
   "metadata": {},
   "outputs": [
    {
     "data": {
      "text/html": [
       "<div>\n",
       "<style scoped>\n",
       "    .dataframe tbody tr th:only-of-type {\n",
       "        vertical-align: middle;\n",
       "    }\n",
       "\n",
       "    .dataframe tbody tr th {\n",
       "        vertical-align: top;\n",
       "    }\n",
       "\n",
       "    .dataframe thead th {\n",
       "        text-align: right;\n",
       "    }\n",
       "</style>\n",
       "<table border=\"1\" class=\"dataframe\">\n",
       "  <thead>\n",
       "    <tr style=\"text-align: right;\">\n",
       "      <th></th>\n",
       "      <th>Prospect ID</th>\n",
       "      <th>Converted</th>\n",
       "      <th>TotalVisits</th>\n",
       "      <th>Total Time Spent on Website</th>\n",
       "      <th>Page Views Per Visit</th>\n",
       "      <th>A free copy of Mastering The Interview</th>\n",
       "      <th>City_Mumbai</th>\n",
       "      <th>City_Other Cities</th>\n",
       "      <th>City_Other Cities of Maharashtra</th>\n",
       "      <th>City_Other Metro Cities</th>\n",
       "      <th>...</th>\n",
       "      <th>Last Notable Activity_Olark Chat Conversation</th>\n",
       "      <th>Last Notable Activity_Other Notable Activity</th>\n",
       "      <th>Last Notable Activity_Page Visited on Website</th>\n",
       "      <th>Last Notable Activity_SMS Sent</th>\n",
       "      <th>Current_Ocupation_Businessman</th>\n",
       "      <th>Current_Ocupation_Housewife</th>\n",
       "      <th>Current_Ocupation_Other</th>\n",
       "      <th>Current_Ocupation_Student</th>\n",
       "      <th>Current_Ocupation_Unemployed</th>\n",
       "      <th>Current_Ocupation_Working Professional</th>\n",
       "    </tr>\n",
       "  </thead>\n",
       "  <tbody>\n",
       "    <tr>\n",
       "      <th>0</th>\n",
       "      <td>7927b2df-8bba-4d29-b9a2-b6e0beafe620</td>\n",
       "      <td>0</td>\n",
       "      <td>0.0</td>\n",
       "      <td>0</td>\n",
       "      <td>0.0</td>\n",
       "      <td>0</td>\n",
       "      <td>1</td>\n",
       "      <td>0</td>\n",
       "      <td>0</td>\n",
       "      <td>0</td>\n",
       "      <td>...</td>\n",
       "      <td>0</td>\n",
       "      <td>0</td>\n",
       "      <td>0</td>\n",
       "      <td>0</td>\n",
       "      <td>0</td>\n",
       "      <td>0</td>\n",
       "      <td>0</td>\n",
       "      <td>0</td>\n",
       "      <td>1</td>\n",
       "      <td>0</td>\n",
       "    </tr>\n",
       "    <tr>\n",
       "      <th>1</th>\n",
       "      <td>2a272436-5132-4136-86fa-dcc88c88f482</td>\n",
       "      <td>0</td>\n",
       "      <td>5.0</td>\n",
       "      <td>674</td>\n",
       "      <td>2.5</td>\n",
       "      <td>0</td>\n",
       "      <td>1</td>\n",
       "      <td>0</td>\n",
       "      <td>0</td>\n",
       "      <td>0</td>\n",
       "      <td>...</td>\n",
       "      <td>0</td>\n",
       "      <td>0</td>\n",
       "      <td>0</td>\n",
       "      <td>0</td>\n",
       "      <td>0</td>\n",
       "      <td>0</td>\n",
       "      <td>0</td>\n",
       "      <td>0</td>\n",
       "      <td>1</td>\n",
       "      <td>0</td>\n",
       "    </tr>\n",
       "    <tr>\n",
       "      <th>2</th>\n",
       "      <td>8cc8c611-a219-4f35-ad23-fdfd2656bd8a</td>\n",
       "      <td>1</td>\n",
       "      <td>2.0</td>\n",
       "      <td>1532</td>\n",
       "      <td>2.0</td>\n",
       "      <td>1</td>\n",
       "      <td>1</td>\n",
       "      <td>0</td>\n",
       "      <td>0</td>\n",
       "      <td>0</td>\n",
       "      <td>...</td>\n",
       "      <td>0</td>\n",
       "      <td>0</td>\n",
       "      <td>0</td>\n",
       "      <td>0</td>\n",
       "      <td>0</td>\n",
       "      <td>0</td>\n",
       "      <td>0</td>\n",
       "      <td>1</td>\n",
       "      <td>0</td>\n",
       "      <td>0</td>\n",
       "    </tr>\n",
       "    <tr>\n",
       "      <th>3</th>\n",
       "      <td>0cc2df48-7cf4-4e39-9de9-19797f9b38cc</td>\n",
       "      <td>0</td>\n",
       "      <td>1.0</td>\n",
       "      <td>305</td>\n",
       "      <td>1.0</td>\n",
       "      <td>0</td>\n",
       "      <td>1</td>\n",
       "      <td>0</td>\n",
       "      <td>0</td>\n",
       "      <td>0</td>\n",
       "      <td>...</td>\n",
       "      <td>0</td>\n",
       "      <td>0</td>\n",
       "      <td>0</td>\n",
       "      <td>0</td>\n",
       "      <td>0</td>\n",
       "      <td>0</td>\n",
       "      <td>0</td>\n",
       "      <td>0</td>\n",
       "      <td>1</td>\n",
       "      <td>0</td>\n",
       "    </tr>\n",
       "    <tr>\n",
       "      <th>4</th>\n",
       "      <td>3256f628-e534-4826-9d63-4a8b88782852</td>\n",
       "      <td>1</td>\n",
       "      <td>2.0</td>\n",
       "      <td>1428</td>\n",
       "      <td>1.0</td>\n",
       "      <td>0</td>\n",
       "      <td>1</td>\n",
       "      <td>0</td>\n",
       "      <td>0</td>\n",
       "      <td>0</td>\n",
       "      <td>...</td>\n",
       "      <td>0</td>\n",
       "      <td>0</td>\n",
       "      <td>0</td>\n",
       "      <td>0</td>\n",
       "      <td>0</td>\n",
       "      <td>0</td>\n",
       "      <td>0</td>\n",
       "      <td>0</td>\n",
       "      <td>1</td>\n",
       "      <td>0</td>\n",
       "    </tr>\n",
       "  </tbody>\n",
       "</table>\n",
       "<p>5 rows × 42 columns</p>\n",
       "</div>"
      ],
      "text/plain": [
       "                            Prospect ID Converted  TotalVisits  \\\n",
       "0  7927b2df-8bba-4d29-b9a2-b6e0beafe620         0          0.0   \n",
       "1  2a272436-5132-4136-86fa-dcc88c88f482         0          5.0   \n",
       "2  8cc8c611-a219-4f35-ad23-fdfd2656bd8a         1          2.0   \n",
       "3  0cc2df48-7cf4-4e39-9de9-19797f9b38cc         0          1.0   \n",
       "4  3256f628-e534-4826-9d63-4a8b88782852         1          2.0   \n",
       "\n",
       "   Total Time Spent on Website  Page Views Per Visit  \\\n",
       "0                            0                   0.0   \n",
       "1                          674                   2.5   \n",
       "2                         1532                   2.0   \n",
       "3                          305                   1.0   \n",
       "4                         1428                   1.0   \n",
       "\n",
       "  A free copy of Mastering The Interview  City_Mumbai  City_Other Cities  \\\n",
       "0                                      0            1                  0   \n",
       "1                                      0            1                  0   \n",
       "2                                      1            1                  0   \n",
       "3                                      0            1                  0   \n",
       "4                                      0            1                  0   \n",
       "\n",
       "   City_Other Cities of Maharashtra  City_Other Metro Cities  ...  \\\n",
       "0                                 0                        0  ...   \n",
       "1                                 0                        0  ...   \n",
       "2                                 0                        0  ...   \n",
       "3                                 0                        0  ...   \n",
       "4                                 0                        0  ...   \n",
       "\n",
       "   Last Notable Activity_Olark Chat Conversation  \\\n",
       "0                                              0   \n",
       "1                                              0   \n",
       "2                                              0   \n",
       "3                                              0   \n",
       "4                                              0   \n",
       "\n",
       "   Last Notable Activity_Other Notable Activity  \\\n",
       "0                                             0   \n",
       "1                                             0   \n",
       "2                                             0   \n",
       "3                                             0   \n",
       "4                                             0   \n",
       "\n",
       "   Last Notable Activity_Page Visited on Website  \\\n",
       "0                                              0   \n",
       "1                                              0   \n",
       "2                                              0   \n",
       "3                                              0   \n",
       "4                                              0   \n",
       "\n",
       "   Last Notable Activity_SMS Sent  Current_Ocupation_Businessman  \\\n",
       "0                               0                              0   \n",
       "1                               0                              0   \n",
       "2                               0                              0   \n",
       "3                               0                              0   \n",
       "4                               0                              0   \n",
       "\n",
       "   Current_Ocupation_Housewife  Current_Ocupation_Other  \\\n",
       "0                            0                        0   \n",
       "1                            0                        0   \n",
       "2                            0                        0   \n",
       "3                            0                        0   \n",
       "4                            0                        0   \n",
       "\n",
       "   Current_Ocupation_Student  Current_Ocupation_Unemployed  \\\n",
       "0                          0                             1   \n",
       "1                          0                             1   \n",
       "2                          1                             0   \n",
       "3                          0                             1   \n",
       "4                          0                             1   \n",
       "\n",
       "   Current_Ocupation_Working Professional  \n",
       "0                                       0  \n",
       "1                                       0  \n",
       "2                                       0  \n",
       "3                                       0  \n",
       "4                                       0  \n",
       "\n",
       "[5 rows x 42 columns]"
      ]
     },
     "execution_count": 243,
     "metadata": {},
     "output_type": "execute_result"
    }
   ],
   "source": [
    "df_leads_new = pd.get_dummies(data = df_leads , columns=['City', 'Lead Origin', 'Lead Source', 'Specialization',\n",
    "                                                         'Last Notable Activity', 'What is your current occupation'],\n",
    "                                                        prefix = ['City', 'Lead_Origin', 'Lead_Source', 'Specialization',\n",
    "                                                                 'Last Notable Activity', 'Current_Ocupation' ])\n",
    "df_leads_new.head()"
   ]
  },
  {
   "cell_type": "code",
   "execution_count": 244,
   "metadata": {},
   "outputs": [],
   "source": [
    "# Drop any 1 dummy created column for variables from features selected\n",
    "df_leads_new.drop(['City_Tier II Cities', 'Lead_Origin_Lead Import', \"Specialization_International Business\",\n",
    "                   'Last Notable Activity_Olark Chat Conversation', 'Current_Ocupation_Businessman'],\n",
    "                axis =1, inplace= True)"
   ]
  },
  {
   "cell_type": "code",
   "execution_count": 245,
   "metadata": {},
   "outputs": [
    {
     "name": "stdout",
     "output_type": "stream",
     "text": [
      "<class 'pandas.core.frame.DataFrame'>\n",
      "Int64Index: 9074 entries, 0 to 9239\n",
      "Data columns (total 37 columns):\n",
      "Prospect ID                                         9074 non-null object\n",
      "Converted                                           9074 non-null object\n",
      "TotalVisits                                         9074 non-null float64\n",
      "Total Time Spent on Website                         9074 non-null int64\n",
      "Page Views Per Visit                                9074 non-null float64\n",
      "A free copy of Mastering The Interview              9074 non-null object\n",
      "City_Mumbai                                         9074 non-null uint8\n",
      "City_Other Cities                                   9074 non-null uint8\n",
      "City_Other Cities of Maharashtra                    9074 non-null uint8\n",
      "City_Other Metro Cities                             9074 non-null uint8\n",
      "City_Thane & Outskirts                              9074 non-null uint8\n",
      "Lead_Origin_API                                     9074 non-null uint8\n",
      "Lead_Origin_Landing Page Submission                 9074 non-null uint8\n",
      "Lead_Origin_Lead Add Form                           9074 non-null uint8\n",
      "Lead_Source_Direct Traffic                          9074 non-null uint8\n",
      "Lead_Source_Google                                  9074 non-null uint8\n",
      "Lead_Source_Olark Chat                              9074 non-null uint8\n",
      "Lead_Source_Organic Search                          9074 non-null uint8\n",
      "Lead_Source_Others                                  9074 non-null uint8\n",
      "Lead_Source_Reference                               9074 non-null uint8\n",
      "Specialization_Banking, Investment And Insurance    9074 non-null uint8\n",
      "Specialization_Business Administration              9074 non-null uint8\n",
      "Specialization_Management_Specializations           9074 non-null uint8\n",
      "Specialization_Media and Advertising                9074 non-null uint8\n",
      "Specialization_Not Specified                        9074 non-null uint8\n",
      "Specialization_Other Specilization                  9074 non-null uint8\n",
      "Specialization_Travel and Tourism                   9074 non-null uint8\n",
      "Last Notable Activity_Email Opened                  9074 non-null uint8\n",
      "Last Notable Activity_Modified                      9074 non-null uint8\n",
      "Last Notable Activity_Other Notable Activity        9074 non-null uint8\n",
      "Last Notable Activity_Page Visited on Website       9074 non-null uint8\n",
      "Last Notable Activity_SMS Sent                      9074 non-null uint8\n",
      "Current_Ocupation_Housewife                         9074 non-null uint8\n",
      "Current_Ocupation_Other                             9074 non-null uint8\n",
      "Current_Ocupation_Student                           9074 non-null uint8\n",
      "Current_Ocupation_Unemployed                        9074 non-null uint8\n",
      "Current_Ocupation_Working Professional              9074 non-null uint8\n",
      "dtypes: float64(2), int64(1), object(3), uint8(31)\n",
      "memory usage: 1.1+ MB\n"
     ]
    }
   ],
   "source": [
    "df_leads_new.info()"
   ]
  },
  {
   "cell_type": "code",
   "execution_count": 246,
   "metadata": {},
   "outputs": [
    {
     "data": {
      "text/plain": [
       "(9074, 37)"
      ]
     },
     "execution_count": 246,
     "metadata": {},
     "output_type": "execute_result"
    }
   ],
   "source": [
    "df_leads_new.shape"
   ]
  },
  {
   "cell_type": "code",
   "execution_count": 247,
   "metadata": {},
   "outputs": [],
   "source": [
    "df_leads_new = df_leads_new.set_index('Prospect ID')"
   ]
  },
  {
   "cell_type": "code",
   "execution_count": 248,
   "metadata": {},
   "outputs": [],
   "source": [
    "# Putting feature variable to X\n",
    "X = df_leads_new.drop(['Converted'], axis=1)"
   ]
  },
  {
   "cell_type": "code",
   "execution_count": 249,
   "metadata": {},
   "outputs": [
    {
     "data": {
      "text/html": [
       "<div>\n",
       "<style scoped>\n",
       "    .dataframe tbody tr th:only-of-type {\n",
       "        vertical-align: middle;\n",
       "    }\n",
       "\n",
       "    .dataframe tbody tr th {\n",
       "        vertical-align: top;\n",
       "    }\n",
       "\n",
       "    .dataframe thead th {\n",
       "        text-align: right;\n",
       "    }\n",
       "</style>\n",
       "<table border=\"1\" class=\"dataframe\">\n",
       "  <thead>\n",
       "    <tr style=\"text-align: right;\">\n",
       "      <th></th>\n",
       "      <th>TotalVisits</th>\n",
       "      <th>Total Time Spent on Website</th>\n",
       "      <th>Page Views Per Visit</th>\n",
       "      <th>A free copy of Mastering The Interview</th>\n",
       "      <th>City_Mumbai</th>\n",
       "      <th>City_Other Cities</th>\n",
       "      <th>City_Other Cities of Maharashtra</th>\n",
       "      <th>City_Other Metro Cities</th>\n",
       "      <th>City_Thane &amp; Outskirts</th>\n",
       "      <th>Lead_Origin_API</th>\n",
       "      <th>...</th>\n",
       "      <th>Last Notable Activity_Email Opened</th>\n",
       "      <th>Last Notable Activity_Modified</th>\n",
       "      <th>Last Notable Activity_Other Notable Activity</th>\n",
       "      <th>Last Notable Activity_Page Visited on Website</th>\n",
       "      <th>Last Notable Activity_SMS Sent</th>\n",
       "      <th>Current_Ocupation_Housewife</th>\n",
       "      <th>Current_Ocupation_Other</th>\n",
       "      <th>Current_Ocupation_Student</th>\n",
       "      <th>Current_Ocupation_Unemployed</th>\n",
       "      <th>Current_Ocupation_Working Professional</th>\n",
       "    </tr>\n",
       "    <tr>\n",
       "      <th>Prospect ID</th>\n",
       "      <th></th>\n",
       "      <th></th>\n",
       "      <th></th>\n",
       "      <th></th>\n",
       "      <th></th>\n",
       "      <th></th>\n",
       "      <th></th>\n",
       "      <th></th>\n",
       "      <th></th>\n",
       "      <th></th>\n",
       "      <th></th>\n",
       "      <th></th>\n",
       "      <th></th>\n",
       "      <th></th>\n",
       "      <th></th>\n",
       "      <th></th>\n",
       "      <th></th>\n",
       "      <th></th>\n",
       "      <th></th>\n",
       "      <th></th>\n",
       "      <th></th>\n",
       "    </tr>\n",
       "  </thead>\n",
       "  <tbody>\n",
       "    <tr>\n",
       "      <th>7927b2df-8bba-4d29-b9a2-b6e0beafe620</th>\n",
       "      <td>0.0</td>\n",
       "      <td>0</td>\n",
       "      <td>0.0</td>\n",
       "      <td>0</td>\n",
       "      <td>1</td>\n",
       "      <td>0</td>\n",
       "      <td>0</td>\n",
       "      <td>0</td>\n",
       "      <td>0</td>\n",
       "      <td>1</td>\n",
       "      <td>...</td>\n",
       "      <td>0</td>\n",
       "      <td>1</td>\n",
       "      <td>0</td>\n",
       "      <td>0</td>\n",
       "      <td>0</td>\n",
       "      <td>0</td>\n",
       "      <td>0</td>\n",
       "      <td>0</td>\n",
       "      <td>1</td>\n",
       "      <td>0</td>\n",
       "    </tr>\n",
       "    <tr>\n",
       "      <th>2a272436-5132-4136-86fa-dcc88c88f482</th>\n",
       "      <td>5.0</td>\n",
       "      <td>674</td>\n",
       "      <td>2.5</td>\n",
       "      <td>0</td>\n",
       "      <td>1</td>\n",
       "      <td>0</td>\n",
       "      <td>0</td>\n",
       "      <td>0</td>\n",
       "      <td>0</td>\n",
       "      <td>1</td>\n",
       "      <td>...</td>\n",
       "      <td>1</td>\n",
       "      <td>0</td>\n",
       "      <td>0</td>\n",
       "      <td>0</td>\n",
       "      <td>0</td>\n",
       "      <td>0</td>\n",
       "      <td>0</td>\n",
       "      <td>0</td>\n",
       "      <td>1</td>\n",
       "      <td>0</td>\n",
       "    </tr>\n",
       "    <tr>\n",
       "      <th>8cc8c611-a219-4f35-ad23-fdfd2656bd8a</th>\n",
       "      <td>2.0</td>\n",
       "      <td>1532</td>\n",
       "      <td>2.0</td>\n",
       "      <td>1</td>\n",
       "      <td>1</td>\n",
       "      <td>0</td>\n",
       "      <td>0</td>\n",
       "      <td>0</td>\n",
       "      <td>0</td>\n",
       "      <td>0</td>\n",
       "      <td>...</td>\n",
       "      <td>1</td>\n",
       "      <td>0</td>\n",
       "      <td>0</td>\n",
       "      <td>0</td>\n",
       "      <td>0</td>\n",
       "      <td>0</td>\n",
       "      <td>0</td>\n",
       "      <td>1</td>\n",
       "      <td>0</td>\n",
       "      <td>0</td>\n",
       "    </tr>\n",
       "    <tr>\n",
       "      <th>0cc2df48-7cf4-4e39-9de9-19797f9b38cc</th>\n",
       "      <td>1.0</td>\n",
       "      <td>305</td>\n",
       "      <td>1.0</td>\n",
       "      <td>0</td>\n",
       "      <td>1</td>\n",
       "      <td>0</td>\n",
       "      <td>0</td>\n",
       "      <td>0</td>\n",
       "      <td>0</td>\n",
       "      <td>0</td>\n",
       "      <td>...</td>\n",
       "      <td>0</td>\n",
       "      <td>1</td>\n",
       "      <td>0</td>\n",
       "      <td>0</td>\n",
       "      <td>0</td>\n",
       "      <td>0</td>\n",
       "      <td>0</td>\n",
       "      <td>0</td>\n",
       "      <td>1</td>\n",
       "      <td>0</td>\n",
       "    </tr>\n",
       "    <tr>\n",
       "      <th>3256f628-e534-4826-9d63-4a8b88782852</th>\n",
       "      <td>2.0</td>\n",
       "      <td>1428</td>\n",
       "      <td>1.0</td>\n",
       "      <td>0</td>\n",
       "      <td>1</td>\n",
       "      <td>0</td>\n",
       "      <td>0</td>\n",
       "      <td>0</td>\n",
       "      <td>0</td>\n",
       "      <td>0</td>\n",
       "      <td>...</td>\n",
       "      <td>0</td>\n",
       "      <td>1</td>\n",
       "      <td>0</td>\n",
       "      <td>0</td>\n",
       "      <td>0</td>\n",
       "      <td>0</td>\n",
       "      <td>0</td>\n",
       "      <td>0</td>\n",
       "      <td>1</td>\n",
       "      <td>0</td>\n",
       "    </tr>\n",
       "  </tbody>\n",
       "</table>\n",
       "<p>5 rows × 35 columns</p>\n",
       "</div>"
      ],
      "text/plain": [
       "                                      TotalVisits  \\\n",
       "Prospect ID                                         \n",
       "7927b2df-8bba-4d29-b9a2-b6e0beafe620          0.0   \n",
       "2a272436-5132-4136-86fa-dcc88c88f482          5.0   \n",
       "8cc8c611-a219-4f35-ad23-fdfd2656bd8a          2.0   \n",
       "0cc2df48-7cf4-4e39-9de9-19797f9b38cc          1.0   \n",
       "3256f628-e534-4826-9d63-4a8b88782852          2.0   \n",
       "\n",
       "                                      Total Time Spent on Website  \\\n",
       "Prospect ID                                                         \n",
       "7927b2df-8bba-4d29-b9a2-b6e0beafe620                            0   \n",
       "2a272436-5132-4136-86fa-dcc88c88f482                          674   \n",
       "8cc8c611-a219-4f35-ad23-fdfd2656bd8a                         1532   \n",
       "0cc2df48-7cf4-4e39-9de9-19797f9b38cc                          305   \n",
       "3256f628-e534-4826-9d63-4a8b88782852                         1428   \n",
       "\n",
       "                                      Page Views Per Visit  \\\n",
       "Prospect ID                                                  \n",
       "7927b2df-8bba-4d29-b9a2-b6e0beafe620                   0.0   \n",
       "2a272436-5132-4136-86fa-dcc88c88f482                   2.5   \n",
       "8cc8c611-a219-4f35-ad23-fdfd2656bd8a                   2.0   \n",
       "0cc2df48-7cf4-4e39-9de9-19797f9b38cc                   1.0   \n",
       "3256f628-e534-4826-9d63-4a8b88782852                   1.0   \n",
       "\n",
       "                                     A free copy of Mastering The Interview  \\\n",
       "Prospect ID                                                                   \n",
       "7927b2df-8bba-4d29-b9a2-b6e0beafe620                                      0   \n",
       "2a272436-5132-4136-86fa-dcc88c88f482                                      0   \n",
       "8cc8c611-a219-4f35-ad23-fdfd2656bd8a                                      1   \n",
       "0cc2df48-7cf4-4e39-9de9-19797f9b38cc                                      0   \n",
       "3256f628-e534-4826-9d63-4a8b88782852                                      0   \n",
       "\n",
       "                                      City_Mumbai  City_Other Cities  \\\n",
       "Prospect ID                                                            \n",
       "7927b2df-8bba-4d29-b9a2-b6e0beafe620            1                  0   \n",
       "2a272436-5132-4136-86fa-dcc88c88f482            1                  0   \n",
       "8cc8c611-a219-4f35-ad23-fdfd2656bd8a            1                  0   \n",
       "0cc2df48-7cf4-4e39-9de9-19797f9b38cc            1                  0   \n",
       "3256f628-e534-4826-9d63-4a8b88782852            1                  0   \n",
       "\n",
       "                                      City_Other Cities of Maharashtra  \\\n",
       "Prospect ID                                                              \n",
       "7927b2df-8bba-4d29-b9a2-b6e0beafe620                                 0   \n",
       "2a272436-5132-4136-86fa-dcc88c88f482                                 0   \n",
       "8cc8c611-a219-4f35-ad23-fdfd2656bd8a                                 0   \n",
       "0cc2df48-7cf4-4e39-9de9-19797f9b38cc                                 0   \n",
       "3256f628-e534-4826-9d63-4a8b88782852                                 0   \n",
       "\n",
       "                                      City_Other Metro Cities  \\\n",
       "Prospect ID                                                     \n",
       "7927b2df-8bba-4d29-b9a2-b6e0beafe620                        0   \n",
       "2a272436-5132-4136-86fa-dcc88c88f482                        0   \n",
       "8cc8c611-a219-4f35-ad23-fdfd2656bd8a                        0   \n",
       "0cc2df48-7cf4-4e39-9de9-19797f9b38cc                        0   \n",
       "3256f628-e534-4826-9d63-4a8b88782852                        0   \n",
       "\n",
       "                                      City_Thane & Outskirts  Lead_Origin_API  \\\n",
       "Prospect ID                                                                     \n",
       "7927b2df-8bba-4d29-b9a2-b6e0beafe620                       0                1   \n",
       "2a272436-5132-4136-86fa-dcc88c88f482                       0                1   \n",
       "8cc8c611-a219-4f35-ad23-fdfd2656bd8a                       0                0   \n",
       "0cc2df48-7cf4-4e39-9de9-19797f9b38cc                       0                0   \n",
       "3256f628-e534-4826-9d63-4a8b88782852                       0                0   \n",
       "\n",
       "                                      ...  Last Notable Activity_Email Opened  \\\n",
       "Prospect ID                           ...                                       \n",
       "7927b2df-8bba-4d29-b9a2-b6e0beafe620  ...                                   0   \n",
       "2a272436-5132-4136-86fa-dcc88c88f482  ...                                   1   \n",
       "8cc8c611-a219-4f35-ad23-fdfd2656bd8a  ...                                   1   \n",
       "0cc2df48-7cf4-4e39-9de9-19797f9b38cc  ...                                   0   \n",
       "3256f628-e534-4826-9d63-4a8b88782852  ...                                   0   \n",
       "\n",
       "                                      Last Notable Activity_Modified  \\\n",
       "Prospect ID                                                            \n",
       "7927b2df-8bba-4d29-b9a2-b6e0beafe620                               1   \n",
       "2a272436-5132-4136-86fa-dcc88c88f482                               0   \n",
       "8cc8c611-a219-4f35-ad23-fdfd2656bd8a                               0   \n",
       "0cc2df48-7cf4-4e39-9de9-19797f9b38cc                               1   \n",
       "3256f628-e534-4826-9d63-4a8b88782852                               1   \n",
       "\n",
       "                                      Last Notable Activity_Other Notable Activity  \\\n",
       "Prospect ID                                                                          \n",
       "7927b2df-8bba-4d29-b9a2-b6e0beafe620                                             0   \n",
       "2a272436-5132-4136-86fa-dcc88c88f482                                             0   \n",
       "8cc8c611-a219-4f35-ad23-fdfd2656bd8a                                             0   \n",
       "0cc2df48-7cf4-4e39-9de9-19797f9b38cc                                             0   \n",
       "3256f628-e534-4826-9d63-4a8b88782852                                             0   \n",
       "\n",
       "                                      Last Notable Activity_Page Visited on Website  \\\n",
       "Prospect ID                                                                           \n",
       "7927b2df-8bba-4d29-b9a2-b6e0beafe620                                              0   \n",
       "2a272436-5132-4136-86fa-dcc88c88f482                                              0   \n",
       "8cc8c611-a219-4f35-ad23-fdfd2656bd8a                                              0   \n",
       "0cc2df48-7cf4-4e39-9de9-19797f9b38cc                                              0   \n",
       "3256f628-e534-4826-9d63-4a8b88782852                                              0   \n",
       "\n",
       "                                      Last Notable Activity_SMS Sent  \\\n",
       "Prospect ID                                                            \n",
       "7927b2df-8bba-4d29-b9a2-b6e0beafe620                               0   \n",
       "2a272436-5132-4136-86fa-dcc88c88f482                               0   \n",
       "8cc8c611-a219-4f35-ad23-fdfd2656bd8a                               0   \n",
       "0cc2df48-7cf4-4e39-9de9-19797f9b38cc                               0   \n",
       "3256f628-e534-4826-9d63-4a8b88782852                               0   \n",
       "\n",
       "                                      Current_Ocupation_Housewife  \\\n",
       "Prospect ID                                                         \n",
       "7927b2df-8bba-4d29-b9a2-b6e0beafe620                            0   \n",
       "2a272436-5132-4136-86fa-dcc88c88f482                            0   \n",
       "8cc8c611-a219-4f35-ad23-fdfd2656bd8a                            0   \n",
       "0cc2df48-7cf4-4e39-9de9-19797f9b38cc                            0   \n",
       "3256f628-e534-4826-9d63-4a8b88782852                            0   \n",
       "\n",
       "                                      Current_Ocupation_Other  \\\n",
       "Prospect ID                                                     \n",
       "7927b2df-8bba-4d29-b9a2-b6e0beafe620                        0   \n",
       "2a272436-5132-4136-86fa-dcc88c88f482                        0   \n",
       "8cc8c611-a219-4f35-ad23-fdfd2656bd8a                        0   \n",
       "0cc2df48-7cf4-4e39-9de9-19797f9b38cc                        0   \n",
       "3256f628-e534-4826-9d63-4a8b88782852                        0   \n",
       "\n",
       "                                      Current_Ocupation_Student  \\\n",
       "Prospect ID                                                       \n",
       "7927b2df-8bba-4d29-b9a2-b6e0beafe620                          0   \n",
       "2a272436-5132-4136-86fa-dcc88c88f482                          0   \n",
       "8cc8c611-a219-4f35-ad23-fdfd2656bd8a                          1   \n",
       "0cc2df48-7cf4-4e39-9de9-19797f9b38cc                          0   \n",
       "3256f628-e534-4826-9d63-4a8b88782852                          0   \n",
       "\n",
       "                                      Current_Ocupation_Unemployed  \\\n",
       "Prospect ID                                                          \n",
       "7927b2df-8bba-4d29-b9a2-b6e0beafe620                             1   \n",
       "2a272436-5132-4136-86fa-dcc88c88f482                             1   \n",
       "8cc8c611-a219-4f35-ad23-fdfd2656bd8a                             0   \n",
       "0cc2df48-7cf4-4e39-9de9-19797f9b38cc                             1   \n",
       "3256f628-e534-4826-9d63-4a8b88782852                             1   \n",
       "\n",
       "                                      Current_Ocupation_Working Professional  \n",
       "Prospect ID                                                                   \n",
       "7927b2df-8bba-4d29-b9a2-b6e0beafe620                                       0  \n",
       "2a272436-5132-4136-86fa-dcc88c88f482                                       0  \n",
       "8cc8c611-a219-4f35-ad23-fdfd2656bd8a                                       0  \n",
       "0cc2df48-7cf4-4e39-9de9-19797f9b38cc                                       0  \n",
       "3256f628-e534-4826-9d63-4a8b88782852                                       0  \n",
       "\n",
       "[5 rows x 35 columns]"
      ]
     },
     "execution_count": 249,
     "metadata": {},
     "output_type": "execute_result"
    }
   ],
   "source": [
    "X.head()"
   ]
  },
  {
   "cell_type": "code",
   "execution_count": 250,
   "metadata": {},
   "outputs": [
    {
     "data": {
      "text/plain": [
       "Prospect ID\n",
       "7927b2df-8bba-4d29-b9a2-b6e0beafe620    0\n",
       "2a272436-5132-4136-86fa-dcc88c88f482    0\n",
       "8cc8c611-a219-4f35-ad23-fdfd2656bd8a    1\n",
       "0cc2df48-7cf4-4e39-9de9-19797f9b38cc    0\n",
       "3256f628-e534-4826-9d63-4a8b88782852    1\n",
       "Name: Converted, dtype: object"
      ]
     },
     "execution_count": 250,
     "metadata": {},
     "output_type": "execute_result"
    }
   ],
   "source": [
    "# Putting response variable to y\n",
    "y = df_leads_new['Converted']\n",
    "y.head()"
   ]
  },
  {
   "cell_type": "code",
   "execution_count": 251,
   "metadata": {},
   "outputs": [],
   "source": [
    "# Splitting the data into train and test\n",
    "X_train, X_test, y_train, y_test = train_test_split(X, y, train_size=0.7, test_size=0.3, random_state=333)"
   ]
  },
  {
   "cell_type": "code",
   "execution_count": 252,
   "metadata": {},
   "outputs": [
    {
     "name": "stdout",
     "output_type": "stream",
     "text": [
      "<class 'pandas.core.frame.DataFrame'>\n",
      "Index: 6351 entries, 22b1f1dc-97ad-4477-b123-579e9194a128 to 560c7507-31eb-48d7-bd65-86c5d58fe163\n",
      "Data columns (total 35 columns):\n",
      "TotalVisits                                         6351 non-null float64\n",
      "Total Time Spent on Website                         6351 non-null int64\n",
      "Page Views Per Visit                                6351 non-null float64\n",
      "A free copy of Mastering The Interview              6351 non-null object\n",
      "City_Mumbai                                         6351 non-null uint8\n",
      "City_Other Cities                                   6351 non-null uint8\n",
      "City_Other Cities of Maharashtra                    6351 non-null uint8\n",
      "City_Other Metro Cities                             6351 non-null uint8\n",
      "City_Thane & Outskirts                              6351 non-null uint8\n",
      "Lead_Origin_API                                     6351 non-null uint8\n",
      "Lead_Origin_Landing Page Submission                 6351 non-null uint8\n",
      "Lead_Origin_Lead Add Form                           6351 non-null uint8\n",
      "Lead_Source_Direct Traffic                          6351 non-null uint8\n",
      "Lead_Source_Google                                  6351 non-null uint8\n",
      "Lead_Source_Olark Chat                              6351 non-null uint8\n",
      "Lead_Source_Organic Search                          6351 non-null uint8\n",
      "Lead_Source_Others                                  6351 non-null uint8\n",
      "Lead_Source_Reference                               6351 non-null uint8\n",
      "Specialization_Banking, Investment And Insurance    6351 non-null uint8\n",
      "Specialization_Business Administration              6351 non-null uint8\n",
      "Specialization_Management_Specializations           6351 non-null uint8\n",
      "Specialization_Media and Advertising                6351 non-null uint8\n",
      "Specialization_Not Specified                        6351 non-null uint8\n",
      "Specialization_Other Specilization                  6351 non-null uint8\n",
      "Specialization_Travel and Tourism                   6351 non-null uint8\n",
      "Last Notable Activity_Email Opened                  6351 non-null uint8\n",
      "Last Notable Activity_Modified                      6351 non-null uint8\n",
      "Last Notable Activity_Other Notable Activity        6351 non-null uint8\n",
      "Last Notable Activity_Page Visited on Website       6351 non-null uint8\n",
      "Last Notable Activity_SMS Sent                      6351 non-null uint8\n",
      "Current_Ocupation_Housewife                         6351 non-null uint8\n",
      "Current_Ocupation_Other                             6351 non-null uint8\n",
      "Current_Ocupation_Student                           6351 non-null uint8\n",
      "Current_Ocupation_Unemployed                        6351 non-null uint8\n",
      "Current_Ocupation_Working Professional              6351 non-null uint8\n",
      "dtypes: float64(2), int64(1), object(1), uint8(31)\n",
      "memory usage: 440.4+ KB\n"
     ]
    }
   ],
   "source": [
    "X_train.info()"
   ]
  },
  {
   "cell_type": "code",
   "execution_count": 253,
   "metadata": {},
   "outputs": [
    {
     "name": "stdout",
     "output_type": "stream",
     "text": [
      "<class 'pandas.core.frame.DataFrame'>\n",
      "Index: 2723 entries, 2f3b20c1-fdd4-4455-95de-55e455d25413 to d77b2eae-2c7b-4605-9498-acf46abcac26\n",
      "Data columns (total 35 columns):\n",
      "TotalVisits                                         2723 non-null float64\n",
      "Total Time Spent on Website                         2723 non-null int64\n",
      "Page Views Per Visit                                2723 non-null float64\n",
      "A free copy of Mastering The Interview              2723 non-null object\n",
      "City_Mumbai                                         2723 non-null uint8\n",
      "City_Other Cities                                   2723 non-null uint8\n",
      "City_Other Cities of Maharashtra                    2723 non-null uint8\n",
      "City_Other Metro Cities                             2723 non-null uint8\n",
      "City_Thane & Outskirts                              2723 non-null uint8\n",
      "Lead_Origin_API                                     2723 non-null uint8\n",
      "Lead_Origin_Landing Page Submission                 2723 non-null uint8\n",
      "Lead_Origin_Lead Add Form                           2723 non-null uint8\n",
      "Lead_Source_Direct Traffic                          2723 non-null uint8\n",
      "Lead_Source_Google                                  2723 non-null uint8\n",
      "Lead_Source_Olark Chat                              2723 non-null uint8\n",
      "Lead_Source_Organic Search                          2723 non-null uint8\n",
      "Lead_Source_Others                                  2723 non-null uint8\n",
      "Lead_Source_Reference                               2723 non-null uint8\n",
      "Specialization_Banking, Investment And Insurance    2723 non-null uint8\n",
      "Specialization_Business Administration              2723 non-null uint8\n",
      "Specialization_Management_Specializations           2723 non-null uint8\n",
      "Specialization_Media and Advertising                2723 non-null uint8\n",
      "Specialization_Not Specified                        2723 non-null uint8\n",
      "Specialization_Other Specilization                  2723 non-null uint8\n",
      "Specialization_Travel and Tourism                   2723 non-null uint8\n",
      "Last Notable Activity_Email Opened                  2723 non-null uint8\n",
      "Last Notable Activity_Modified                      2723 non-null uint8\n",
      "Last Notable Activity_Other Notable Activity        2723 non-null uint8\n",
      "Last Notable Activity_Page Visited on Website       2723 non-null uint8\n",
      "Last Notable Activity_SMS Sent                      2723 non-null uint8\n",
      "Current_Ocupation_Housewife                         2723 non-null uint8\n",
      "Current_Ocupation_Other                             2723 non-null uint8\n",
      "Current_Ocupation_Student                           2723 non-null uint8\n",
      "Current_Ocupation_Unemployed                        2723 non-null uint8\n",
      "Current_Ocupation_Working Professional              2723 non-null uint8\n",
      "dtypes: float64(2), int64(1), object(1), uint8(31)\n",
      "memory usage: 188.8+ KB\n"
     ]
    }
   ],
   "source": [
    "X_test.info()"
   ]
  },
  {
   "cell_type": "code",
   "execution_count": 254,
   "metadata": {},
   "outputs": [],
   "source": [
    "y_train = y_train.astype(float)\n",
    "y_test = y_test.astype(float)"
   ]
  },
  {
   "cell_type": "markdown",
   "metadata": {},
   "source": [
    "###  Feature Scaling"
   ]
  },
  {
   "cell_type": "code",
   "execution_count": 255,
   "metadata": {},
   "outputs": [
    {
     "data": {
      "text/html": [
       "<div>\n",
       "<style scoped>\n",
       "    .dataframe tbody tr th:only-of-type {\n",
       "        vertical-align: middle;\n",
       "    }\n",
       "\n",
       "    .dataframe tbody tr th {\n",
       "        vertical-align: top;\n",
       "    }\n",
       "\n",
       "    .dataframe thead th {\n",
       "        text-align: right;\n",
       "    }\n",
       "</style>\n",
       "<table border=\"1\" class=\"dataframe\">\n",
       "  <thead>\n",
       "    <tr style=\"text-align: right;\">\n",
       "      <th></th>\n",
       "      <th>TotalVisits</th>\n",
       "      <th>Total Time Spent on Website</th>\n",
       "      <th>Page Views Per Visit</th>\n",
       "      <th>A free copy of Mastering The Interview</th>\n",
       "      <th>City_Mumbai</th>\n",
       "      <th>City_Other Cities</th>\n",
       "      <th>City_Other Cities of Maharashtra</th>\n",
       "      <th>City_Other Metro Cities</th>\n",
       "      <th>City_Thane &amp; Outskirts</th>\n",
       "      <th>Lead_Origin_API</th>\n",
       "      <th>...</th>\n",
       "      <th>Last Notable Activity_Email Opened</th>\n",
       "      <th>Last Notable Activity_Modified</th>\n",
       "      <th>Last Notable Activity_Other Notable Activity</th>\n",
       "      <th>Last Notable Activity_Page Visited on Website</th>\n",
       "      <th>Last Notable Activity_SMS Sent</th>\n",
       "      <th>Current_Ocupation_Housewife</th>\n",
       "      <th>Current_Ocupation_Other</th>\n",
       "      <th>Current_Ocupation_Student</th>\n",
       "      <th>Current_Ocupation_Unemployed</th>\n",
       "      <th>Current_Ocupation_Working Professional</th>\n",
       "    </tr>\n",
       "    <tr>\n",
       "      <th>Prospect ID</th>\n",
       "      <th></th>\n",
       "      <th></th>\n",
       "      <th></th>\n",
       "      <th></th>\n",
       "      <th></th>\n",
       "      <th></th>\n",
       "      <th></th>\n",
       "      <th></th>\n",
       "      <th></th>\n",
       "      <th></th>\n",
       "      <th></th>\n",
       "      <th></th>\n",
       "      <th></th>\n",
       "      <th></th>\n",
       "      <th></th>\n",
       "      <th></th>\n",
       "      <th></th>\n",
       "      <th></th>\n",
       "      <th></th>\n",
       "      <th></th>\n",
       "      <th></th>\n",
       "    </tr>\n",
       "  </thead>\n",
       "  <tbody>\n",
       "    <tr>\n",
       "      <th>22b1f1dc-97ad-4477-b123-579e9194a128</th>\n",
       "      <td>-0.718659</td>\n",
       "      <td>-0.257083</td>\n",
       "      <td>-0.670063</td>\n",
       "      <td>1</td>\n",
       "      <td>0</td>\n",
       "      <td>0</td>\n",
       "      <td>0</td>\n",
       "      <td>0</td>\n",
       "      <td>1</td>\n",
       "      <td>0</td>\n",
       "      <td>...</td>\n",
       "      <td>0</td>\n",
       "      <td>1</td>\n",
       "      <td>0</td>\n",
       "      <td>0</td>\n",
       "      <td>0</td>\n",
       "      <td>0</td>\n",
       "      <td>0</td>\n",
       "      <td>0</td>\n",
       "      <td>1</td>\n",
       "      <td>0</td>\n",
       "    </tr>\n",
       "    <tr>\n",
       "      <th>525bc35d-8098-42fb-836b-4389cef11f14</th>\n",
       "      <td>-0.100413</td>\n",
       "      <td>0.288874</td>\n",
       "      <td>-0.418740</td>\n",
       "      <td>0</td>\n",
       "      <td>1</td>\n",
       "      <td>0</td>\n",
       "      <td>0</td>\n",
       "      <td>0</td>\n",
       "      <td>0</td>\n",
       "      <td>1</td>\n",
       "      <td>...</td>\n",
       "      <td>1</td>\n",
       "      <td>0</td>\n",
       "      <td>0</td>\n",
       "      <td>0</td>\n",
       "      <td>0</td>\n",
       "      <td>0</td>\n",
       "      <td>0</td>\n",
       "      <td>0</td>\n",
       "      <td>1</td>\n",
       "      <td>0</td>\n",
       "    </tr>\n",
       "    <tr>\n",
       "      <th>0f468d47-c064-455e-b8bc-74843b6a2c6a</th>\n",
       "      <td>-0.100413</td>\n",
       "      <td>-0.175928</td>\n",
       "      <td>0.335231</td>\n",
       "      <td>1</td>\n",
       "      <td>0</td>\n",
       "      <td>0</td>\n",
       "      <td>1</td>\n",
       "      <td>0</td>\n",
       "      <td>0</td>\n",
       "      <td>0</td>\n",
       "      <td>...</td>\n",
       "      <td>0</td>\n",
       "      <td>0</td>\n",
       "      <td>0</td>\n",
       "      <td>0</td>\n",
       "      <td>1</td>\n",
       "      <td>0</td>\n",
       "      <td>0</td>\n",
       "      <td>0</td>\n",
       "      <td>1</td>\n",
       "      <td>0</td>\n",
       "    </tr>\n",
       "    <tr>\n",
       "      <th>9b6d6cb4-d943-47cd-b708-e09083a76f94</th>\n",
       "      <td>2.372572</td>\n",
       "      <td>0.954720</td>\n",
       "      <td>0.672004</td>\n",
       "      <td>1</td>\n",
       "      <td>1</td>\n",
       "      <td>0</td>\n",
       "      <td>0</td>\n",
       "      <td>0</td>\n",
       "      <td>0</td>\n",
       "      <td>0</td>\n",
       "      <td>...</td>\n",
       "      <td>0</td>\n",
       "      <td>0</td>\n",
       "      <td>1</td>\n",
       "      <td>0</td>\n",
       "      <td>0</td>\n",
       "      <td>0</td>\n",
       "      <td>0</td>\n",
       "      <td>0</td>\n",
       "      <td>1</td>\n",
       "      <td>0</td>\n",
       "    </tr>\n",
       "    <tr>\n",
       "      <th>493597b0-14bf-446b-b11b-3f0e38c424ae</th>\n",
       "      <td>3.299942</td>\n",
       "      <td>-0.336395</td>\n",
       "      <td>0.586554</td>\n",
       "      <td>1</td>\n",
       "      <td>1</td>\n",
       "      <td>0</td>\n",
       "      <td>0</td>\n",
       "      <td>0</td>\n",
       "      <td>0</td>\n",
       "      <td>0</td>\n",
       "      <td>...</td>\n",
       "      <td>0</td>\n",
       "      <td>0</td>\n",
       "      <td>0</td>\n",
       "      <td>0</td>\n",
       "      <td>1</td>\n",
       "      <td>0</td>\n",
       "      <td>0</td>\n",
       "      <td>0</td>\n",
       "      <td>1</td>\n",
       "      <td>0</td>\n",
       "    </tr>\n",
       "  </tbody>\n",
       "</table>\n",
       "<p>5 rows × 35 columns</p>\n",
       "</div>"
      ],
      "text/plain": [
       "                                      TotalVisits  \\\n",
       "Prospect ID                                         \n",
       "22b1f1dc-97ad-4477-b123-579e9194a128    -0.718659   \n",
       "525bc35d-8098-42fb-836b-4389cef11f14    -0.100413   \n",
       "0f468d47-c064-455e-b8bc-74843b6a2c6a    -0.100413   \n",
       "9b6d6cb4-d943-47cd-b708-e09083a76f94     2.372572   \n",
       "493597b0-14bf-446b-b11b-3f0e38c424ae     3.299942   \n",
       "\n",
       "                                      Total Time Spent on Website  \\\n",
       "Prospect ID                                                         \n",
       "22b1f1dc-97ad-4477-b123-579e9194a128                    -0.257083   \n",
       "525bc35d-8098-42fb-836b-4389cef11f14                     0.288874   \n",
       "0f468d47-c064-455e-b8bc-74843b6a2c6a                    -0.175928   \n",
       "9b6d6cb4-d943-47cd-b708-e09083a76f94                     0.954720   \n",
       "493597b0-14bf-446b-b11b-3f0e38c424ae                    -0.336395   \n",
       "\n",
       "                                      Page Views Per Visit  \\\n",
       "Prospect ID                                                  \n",
       "22b1f1dc-97ad-4477-b123-579e9194a128             -0.670063   \n",
       "525bc35d-8098-42fb-836b-4389cef11f14             -0.418740   \n",
       "0f468d47-c064-455e-b8bc-74843b6a2c6a              0.335231   \n",
       "9b6d6cb4-d943-47cd-b708-e09083a76f94              0.672004   \n",
       "493597b0-14bf-446b-b11b-3f0e38c424ae              0.586554   \n",
       "\n",
       "                                     A free copy of Mastering The Interview  \\\n",
       "Prospect ID                                                                   \n",
       "22b1f1dc-97ad-4477-b123-579e9194a128                                      1   \n",
       "525bc35d-8098-42fb-836b-4389cef11f14                                      0   \n",
       "0f468d47-c064-455e-b8bc-74843b6a2c6a                                      1   \n",
       "9b6d6cb4-d943-47cd-b708-e09083a76f94                                      1   \n",
       "493597b0-14bf-446b-b11b-3f0e38c424ae                                      1   \n",
       "\n",
       "                                      City_Mumbai  City_Other Cities  \\\n",
       "Prospect ID                                                            \n",
       "22b1f1dc-97ad-4477-b123-579e9194a128            0                  0   \n",
       "525bc35d-8098-42fb-836b-4389cef11f14            1                  0   \n",
       "0f468d47-c064-455e-b8bc-74843b6a2c6a            0                  0   \n",
       "9b6d6cb4-d943-47cd-b708-e09083a76f94            1                  0   \n",
       "493597b0-14bf-446b-b11b-3f0e38c424ae            1                  0   \n",
       "\n",
       "                                      City_Other Cities of Maharashtra  \\\n",
       "Prospect ID                                                              \n",
       "22b1f1dc-97ad-4477-b123-579e9194a128                                 0   \n",
       "525bc35d-8098-42fb-836b-4389cef11f14                                 0   \n",
       "0f468d47-c064-455e-b8bc-74843b6a2c6a                                 1   \n",
       "9b6d6cb4-d943-47cd-b708-e09083a76f94                                 0   \n",
       "493597b0-14bf-446b-b11b-3f0e38c424ae                                 0   \n",
       "\n",
       "                                      City_Other Metro Cities  \\\n",
       "Prospect ID                                                     \n",
       "22b1f1dc-97ad-4477-b123-579e9194a128                        0   \n",
       "525bc35d-8098-42fb-836b-4389cef11f14                        0   \n",
       "0f468d47-c064-455e-b8bc-74843b6a2c6a                        0   \n",
       "9b6d6cb4-d943-47cd-b708-e09083a76f94                        0   \n",
       "493597b0-14bf-446b-b11b-3f0e38c424ae                        0   \n",
       "\n",
       "                                      City_Thane & Outskirts  Lead_Origin_API  \\\n",
       "Prospect ID                                                                     \n",
       "22b1f1dc-97ad-4477-b123-579e9194a128                       1                0   \n",
       "525bc35d-8098-42fb-836b-4389cef11f14                       0                1   \n",
       "0f468d47-c064-455e-b8bc-74843b6a2c6a                       0                0   \n",
       "9b6d6cb4-d943-47cd-b708-e09083a76f94                       0                0   \n",
       "493597b0-14bf-446b-b11b-3f0e38c424ae                       0                0   \n",
       "\n",
       "                                      ...  Last Notable Activity_Email Opened  \\\n",
       "Prospect ID                           ...                                       \n",
       "22b1f1dc-97ad-4477-b123-579e9194a128  ...                                   0   \n",
       "525bc35d-8098-42fb-836b-4389cef11f14  ...                                   1   \n",
       "0f468d47-c064-455e-b8bc-74843b6a2c6a  ...                                   0   \n",
       "9b6d6cb4-d943-47cd-b708-e09083a76f94  ...                                   0   \n",
       "493597b0-14bf-446b-b11b-3f0e38c424ae  ...                                   0   \n",
       "\n",
       "                                      Last Notable Activity_Modified  \\\n",
       "Prospect ID                                                            \n",
       "22b1f1dc-97ad-4477-b123-579e9194a128                               1   \n",
       "525bc35d-8098-42fb-836b-4389cef11f14                               0   \n",
       "0f468d47-c064-455e-b8bc-74843b6a2c6a                               0   \n",
       "9b6d6cb4-d943-47cd-b708-e09083a76f94                               0   \n",
       "493597b0-14bf-446b-b11b-3f0e38c424ae                               0   \n",
       "\n",
       "                                      Last Notable Activity_Other Notable Activity  \\\n",
       "Prospect ID                                                                          \n",
       "22b1f1dc-97ad-4477-b123-579e9194a128                                             0   \n",
       "525bc35d-8098-42fb-836b-4389cef11f14                                             0   \n",
       "0f468d47-c064-455e-b8bc-74843b6a2c6a                                             0   \n",
       "9b6d6cb4-d943-47cd-b708-e09083a76f94                                             1   \n",
       "493597b0-14bf-446b-b11b-3f0e38c424ae                                             0   \n",
       "\n",
       "                                      Last Notable Activity_Page Visited on Website  \\\n",
       "Prospect ID                                                                           \n",
       "22b1f1dc-97ad-4477-b123-579e9194a128                                              0   \n",
       "525bc35d-8098-42fb-836b-4389cef11f14                                              0   \n",
       "0f468d47-c064-455e-b8bc-74843b6a2c6a                                              0   \n",
       "9b6d6cb4-d943-47cd-b708-e09083a76f94                                              0   \n",
       "493597b0-14bf-446b-b11b-3f0e38c424ae                                              0   \n",
       "\n",
       "                                      Last Notable Activity_SMS Sent  \\\n",
       "Prospect ID                                                            \n",
       "22b1f1dc-97ad-4477-b123-579e9194a128                               0   \n",
       "525bc35d-8098-42fb-836b-4389cef11f14                               0   \n",
       "0f468d47-c064-455e-b8bc-74843b6a2c6a                               1   \n",
       "9b6d6cb4-d943-47cd-b708-e09083a76f94                               0   \n",
       "493597b0-14bf-446b-b11b-3f0e38c424ae                               1   \n",
       "\n",
       "                                      Current_Ocupation_Housewife  \\\n",
       "Prospect ID                                                         \n",
       "22b1f1dc-97ad-4477-b123-579e9194a128                            0   \n",
       "525bc35d-8098-42fb-836b-4389cef11f14                            0   \n",
       "0f468d47-c064-455e-b8bc-74843b6a2c6a                            0   \n",
       "9b6d6cb4-d943-47cd-b708-e09083a76f94                            0   \n",
       "493597b0-14bf-446b-b11b-3f0e38c424ae                            0   \n",
       "\n",
       "                                      Current_Ocupation_Other  \\\n",
       "Prospect ID                                                     \n",
       "22b1f1dc-97ad-4477-b123-579e9194a128                        0   \n",
       "525bc35d-8098-42fb-836b-4389cef11f14                        0   \n",
       "0f468d47-c064-455e-b8bc-74843b6a2c6a                        0   \n",
       "9b6d6cb4-d943-47cd-b708-e09083a76f94                        0   \n",
       "493597b0-14bf-446b-b11b-3f0e38c424ae                        0   \n",
       "\n",
       "                                      Current_Ocupation_Student  \\\n",
       "Prospect ID                                                       \n",
       "22b1f1dc-97ad-4477-b123-579e9194a128                          0   \n",
       "525bc35d-8098-42fb-836b-4389cef11f14                          0   \n",
       "0f468d47-c064-455e-b8bc-74843b6a2c6a                          0   \n",
       "9b6d6cb4-d943-47cd-b708-e09083a76f94                          0   \n",
       "493597b0-14bf-446b-b11b-3f0e38c424ae                          0   \n",
       "\n",
       "                                      Current_Ocupation_Unemployed  \\\n",
       "Prospect ID                                                          \n",
       "22b1f1dc-97ad-4477-b123-579e9194a128                             1   \n",
       "525bc35d-8098-42fb-836b-4389cef11f14                             1   \n",
       "0f468d47-c064-455e-b8bc-74843b6a2c6a                             1   \n",
       "9b6d6cb4-d943-47cd-b708-e09083a76f94                             1   \n",
       "493597b0-14bf-446b-b11b-3f0e38c424ae                             1   \n",
       "\n",
       "                                      Current_Ocupation_Working Professional  \n",
       "Prospect ID                                                                   \n",
       "22b1f1dc-97ad-4477-b123-579e9194a128                                       0  \n",
       "525bc35d-8098-42fb-836b-4389cef11f14                                       0  \n",
       "0f468d47-c064-455e-b8bc-74843b6a2c6a                                       0  \n",
       "9b6d6cb4-d943-47cd-b708-e09083a76f94                                       0  \n",
       "493597b0-14bf-446b-b11b-3f0e38c424ae                                       0  \n",
       "\n",
       "[5 rows x 35 columns]"
      ]
     },
     "execution_count": 255,
     "metadata": {},
     "output_type": "execute_result"
    }
   ],
   "source": [
    "scaler = StandardScaler()\n",
    "X_train[['TotalVisits','Total Time Spent on Website','Page Views Per Visit']] = scaler.fit_transform(X_train[['TotalVisits',\n",
    "                                                                                                              'Total Time Spent on Website','Page Views Per Visit']])\n",
    "X_train.head()"
   ]
  },
  {
   "cell_type": "markdown",
   "metadata": {},
   "source": [
    "### Model Building\n",
    "- Using RFE(Recursive feature elimination) and manual approach"
   ]
  },
  {
   "cell_type": "code",
   "execution_count": 256,
   "metadata": {},
   "outputs": [],
   "source": [
    "logreg = LogisticRegression()\n",
    "rfe = RFE(logreg, 18)\n",
    "rfe = rfe.fit(X_train, y_train)"
   ]
  },
  {
   "cell_type": "code",
   "execution_count": 257,
   "metadata": {},
   "outputs": [
    {
     "data": {
      "text/plain": [
       "array([False,  True, False, False, False, False, False, False, False,\n",
       "        True,  True,  True, False, False,  True, False,  True,  True,\n",
       "        True, False, False,  True,  True, False, False,  True, False,\n",
       "        True,  True,  True,  True, False,  True,  True,  True])"
      ]
     },
     "execution_count": 257,
     "metadata": {},
     "output_type": "execute_result"
    }
   ],
   "source": [
    "rfe.support_"
   ]
  },
  {
   "cell_type": "code",
   "execution_count": 258,
   "metadata": {},
   "outputs": [
    {
     "data": {
      "text/plain": [
       "[('TotalVisits', False, 4),\n",
       " ('Total Time Spent on Website', True, 1),\n",
       " ('Page Views Per Visit', False, 5),\n",
       " ('A free copy of Mastering The Interview', False, 13),\n",
       " ('City_Mumbai', False, 17),\n",
       " ('City_Other Cities', False, 16),\n",
       " ('City_Other Cities of Maharashtra', False, 7),\n",
       " ('City_Other Metro Cities', False, 18),\n",
       " ('City_Thane & Outskirts', False, 14),\n",
       " ('Lead_Origin_API', True, 1),\n",
       " ('Lead_Origin_Landing Page Submission', True, 1),\n",
       " ('Lead_Origin_Lead Add Form', True, 1),\n",
       " ('Lead_Source_Direct Traffic', False, 6),\n",
       " ('Lead_Source_Google', False, 2),\n",
       " ('Lead_Source_Olark Chat', True, 1),\n",
       " ('Lead_Source_Organic Search', False, 15),\n",
       " ('Lead_Source_Others', True, 1),\n",
       " ('Lead_Source_Reference', True, 1),\n",
       " ('Specialization_Banking, Investment And Insurance', True, 1),\n",
       " ('Specialization_Business Administration', False, 8),\n",
       " ('Specialization_Management_Specializations', False, 11),\n",
       " ('Specialization_Media and Advertising', True, 1),\n",
       " ('Specialization_Not Specified', True, 1),\n",
       " ('Specialization_Other Specilization', False, 10),\n",
       " ('Specialization_Travel and Tourism', False, 12),\n",
       " ('Last Notable Activity_Email Opened', True, 1),\n",
       " ('Last Notable Activity_Modified', False, 3),\n",
       " ('Last Notable Activity_Other Notable Activity', True, 1),\n",
       " ('Last Notable Activity_Page Visited on Website', True, 1),\n",
       " ('Last Notable Activity_SMS Sent', True, 1),\n",
       " ('Current_Ocupation_Housewife', True, 1),\n",
       " ('Current_Ocupation_Other', False, 9),\n",
       " ('Current_Ocupation_Student', True, 1),\n",
       " ('Current_Ocupation_Unemployed', True, 1),\n",
       " ('Current_Ocupation_Working Professional', True, 1)]"
      ]
     },
     "execution_count": 258,
     "metadata": {},
     "output_type": "execute_result"
    }
   ],
   "source": [
    "list(zip(X_train.columns, rfe.support_, rfe.ranking_))"
   ]
  },
  {
   "cell_type": "code",
   "execution_count": 259,
   "metadata": {},
   "outputs": [
    {
     "data": {
      "text/plain": [
       "Index(['Total Time Spent on Website', 'Lead_Origin_API',\n",
       "       'Lead_Origin_Landing Page Submission', 'Lead_Origin_Lead Add Form',\n",
       "       'Lead_Source_Olark Chat', 'Lead_Source_Others', 'Lead_Source_Reference',\n",
       "       'Specialization_Banking, Investment And Insurance',\n",
       "       'Specialization_Media and Advertising', 'Specialization_Not Specified',\n",
       "       'Last Notable Activity_Email Opened',\n",
       "       'Last Notable Activity_Other Notable Activity',\n",
       "       'Last Notable Activity_Page Visited on Website',\n",
       "       'Last Notable Activity_SMS Sent', 'Current_Ocupation_Housewife',\n",
       "       'Current_Ocupation_Student', 'Current_Ocupation_Unemployed',\n",
       "       'Current_Ocupation_Working Professional'],\n",
       "      dtype='object')"
      ]
     },
     "execution_count": 259,
     "metadata": {},
     "output_type": "execute_result"
    }
   ],
   "source": [
    "# List of variables to be considered for model building\n",
    "columns2keep = X_train.columns[rfe.support_]\n",
    "columns2keep"
   ]
  },
  {
   "cell_type": "code",
   "execution_count": 260,
   "metadata": {},
   "outputs": [
    {
     "data": {
      "text/plain": [
       "Index(['TotalVisits', 'Page Views Per Visit',\n",
       "       'A free copy of Mastering The Interview', 'City_Mumbai',\n",
       "       'City_Other Cities', 'City_Other Cities of Maharashtra',\n",
       "       'City_Other Metro Cities', 'City_Thane & Outskirts',\n",
       "       'Lead_Source_Direct Traffic', 'Lead_Source_Google',\n",
       "       'Lead_Source_Organic Search', 'Specialization_Business Administration',\n",
       "       'Specialization_Management_Specializations',\n",
       "       'Specialization_Other Specilization',\n",
       "       'Specialization_Travel and Tourism', 'Last Notable Activity_Modified',\n",
       "       'Current_Ocupation_Other'],\n",
       "      dtype='object')"
      ]
     },
     "execution_count": 260,
     "metadata": {},
     "output_type": "execute_result"
    }
   ],
   "source": [
    "# List of variables to be removed from data set\n",
    "X_train.columns[~rfe.support_]"
   ]
  },
  {
   "cell_type": "markdown",
   "metadata": {},
   "source": [
    "### Building model using statsmodel "
   ]
  },
  {
   "cell_type": "code",
   "execution_count": 261,
   "metadata": {},
   "outputs": [
    {
     "data": {
      "text/html": [
       "<table class=\"simpletable\">\n",
       "<caption>Generalized Linear Model Regression Results</caption>\n",
       "<tr>\n",
       "  <th>Dep. Variable:</th>       <td>Converted</td>    <th>  No. Observations:  </th>  <td>  6351</td> \n",
       "</tr>\n",
       "<tr>\n",
       "  <th>Model:</th>                  <td>GLM</td>       <th>  Df Residuals:      </th>  <td>  6332</td> \n",
       "</tr>\n",
       "<tr>\n",
       "  <th>Model Family:</th>        <td>Binomial</td>     <th>  Df Model:          </th>  <td>    18</td> \n",
       "</tr>\n",
       "<tr>\n",
       "  <th>Link Function:</th>         <td>logit</td>      <th>  Scale:             </th> <td>  1.0000</td>\n",
       "</tr>\n",
       "<tr>\n",
       "  <th>Method:</th>                <td>IRLS</td>       <th>  Log-Likelihood:    </th> <td> -2675.1</td>\n",
       "</tr>\n",
       "<tr>\n",
       "  <th>Date:</th>            <td>Mon, 26 Oct 2020</td> <th>  Deviance:          </th> <td>  5350.2</td>\n",
       "</tr>\n",
       "<tr>\n",
       "  <th>Time:</th>                <td>21:18:29</td>     <th>  Pearson chi2:      </th> <td>6.88e+03</td>\n",
       "</tr>\n",
       "<tr>\n",
       "  <th>No. Iterations:</th>         <td>21</td>        <th>                     </th>     <td> </td>   \n",
       "</tr>\n",
       "<tr>\n",
       "  <th>Covariance Type:</th>     <td>nonrobust</td>    <th>                     </th>     <td> </td>   \n",
       "</tr>\n",
       "</table>\n",
       "<table class=\"simpletable\">\n",
       "<tr>\n",
       "                          <td></td>                            <th>coef</th>     <th>std err</th>      <th>z</th>      <th>P>|z|</th>  <th>[0.025</th>    <th>0.975]</th>  \n",
       "</tr>\n",
       "<tr>\n",
       "  <th>const</th>                                            <td>    0.7870</td> <td>    0.848</td> <td>    0.928</td> <td> 0.353</td> <td>   -0.875</td> <td>    2.449</td>\n",
       "</tr>\n",
       "<tr>\n",
       "  <th>Total Time Spent on Website</th>                      <td>    1.1091</td> <td>    0.040</td> <td>   27.642</td> <td> 0.000</td> <td>    1.030</td> <td>    1.188</td>\n",
       "</tr>\n",
       "<tr>\n",
       "  <th>Lead_Origin_API</th>                                  <td>   -0.8960</td> <td>    0.611</td> <td>   -1.466</td> <td> 0.143</td> <td>   -2.094</td> <td>    0.302</td>\n",
       "</tr>\n",
       "<tr>\n",
       "  <th>Lead_Origin_Landing Page Submission</th>              <td>   -2.1068</td> <td>    0.612</td> <td>   -3.441</td> <td> 0.001</td> <td>   -3.307</td> <td>   -0.907</td>\n",
       "</tr>\n",
       "<tr>\n",
       "  <th>Lead_Origin_Lead Add Form</th>                        <td>    4.7080</td> <td>    0.803</td> <td>    5.865</td> <td> 0.000</td> <td>    3.135</td> <td>    6.281</td>\n",
       "</tr>\n",
       "<tr>\n",
       "  <th>Lead_Source_Olark Chat</th>                           <td>    0.9787</td> <td>    0.121</td> <td>    8.080</td> <td> 0.000</td> <td>    0.741</td> <td>    1.216</td>\n",
       "</tr>\n",
       "<tr>\n",
       "  <th>Lead_Source_Others</th>                               <td>   -0.0477</td> <td>    0.288</td> <td>   -0.165</td> <td> 0.869</td> <td>   -0.613</td> <td>    0.518</td>\n",
       "</tr>\n",
       "<tr>\n",
       "  <th>Lead_Source_Reference</th>                            <td>   -1.9328</td> <td>    0.701</td> <td>   -2.758</td> <td> 0.006</td> <td>   -3.306</td> <td>   -0.559</td>\n",
       "</tr>\n",
       "<tr>\n",
       "  <th>Specialization_Banking, Investment And Insurance</th> <td>    0.3983</td> <td>    0.178</td> <td>    2.234</td> <td> 0.025</td> <td>    0.049</td> <td>    0.748</td>\n",
       "</tr>\n",
       "<tr>\n",
       "  <th>Specialization_Media and Advertising</th>             <td>   -0.4021</td> <td>    0.233</td> <td>   -1.728</td> <td> 0.084</td> <td>   -0.858</td> <td>    0.054</td>\n",
       "</tr>\n",
       "<tr>\n",
       "  <th>Specialization_Not Specified</th>                     <td>   -1.3141</td> <td>    0.125</td> <td>  -10.541</td> <td> 0.000</td> <td>   -1.558</td> <td>   -1.070</td>\n",
       "</tr>\n",
       "<tr>\n",
       "  <th>Last Notable Activity_Email Opened</th>               <td>    0.7601</td> <td>    0.085</td> <td>    8.912</td> <td> 0.000</td> <td>    0.593</td> <td>    0.927</td>\n",
       "</tr>\n",
       "<tr>\n",
       "  <th>Last Notable Activity_Other Notable Activity</th>     <td>    0.6796</td> <td>    0.179</td> <td>    3.790</td> <td> 0.000</td> <td>    0.328</td> <td>    1.031</td>\n",
       "</tr>\n",
       "<tr>\n",
       "  <th>Last Notable Activity_Page Visited on Website</th>    <td>    0.3654</td> <td>    0.202</td> <td>    1.812</td> <td> 0.070</td> <td>   -0.030</td> <td>    0.761</td>\n",
       "</tr>\n",
       "<tr>\n",
       "  <th>Last Notable Activity_SMS Sent</th>                   <td>    2.0926</td> <td>    0.093</td> <td>   22.522</td> <td> 0.000</td> <td>    1.910</td> <td>    2.275</td>\n",
       "</tr>\n",
       "<tr>\n",
       "  <th>Current_Ocupation_Housewife</th>                      <td>   22.4269</td> <td> 1.61e+04</td> <td>    0.001</td> <td> 0.999</td> <td>-3.14e+04</td> <td> 3.15e+04</td>\n",
       "</tr>\n",
       "<tr>\n",
       "  <th>Current_Ocupation_Student</th>                        <td>   -0.6688</td> <td>    0.635</td> <td>   -1.053</td> <td> 0.292</td> <td>   -1.914</td> <td>    0.576</td>\n",
       "</tr>\n",
       "<tr>\n",
       "  <th>Current_Ocupation_Unemployed</th>                     <td>   -0.7444</td> <td>    0.591</td> <td>   -1.260</td> <td> 0.208</td> <td>   -1.902</td> <td>    0.413</td>\n",
       "</tr>\n",
       "<tr>\n",
       "  <th>Current_Ocupation_Working Professional</th>           <td>    1.9918</td> <td>    0.619</td> <td>    3.215</td> <td> 0.001</td> <td>    0.778</td> <td>    3.206</td>\n",
       "</tr>\n",
       "</table>"
      ],
      "text/plain": [
       "<class 'statsmodels.iolib.summary.Summary'>\n",
       "\"\"\"\n",
       "                 Generalized Linear Model Regression Results                  \n",
       "==============================================================================\n",
       "Dep. Variable:              Converted   No. Observations:                 6351\n",
       "Model:                            GLM   Df Residuals:                     6332\n",
       "Model Family:                Binomial   Df Model:                           18\n",
       "Link Function:                  logit   Scale:                          1.0000\n",
       "Method:                          IRLS   Log-Likelihood:                -2675.1\n",
       "Date:                Mon, 26 Oct 2020   Deviance:                       5350.2\n",
       "Time:                        21:18:29   Pearson chi2:                 6.88e+03\n",
       "No. Iterations:                    21                                         \n",
       "Covariance Type:            nonrobust                                         \n",
       "====================================================================================================================\n",
       "                                                       coef    std err          z      P>|z|      [0.025      0.975]\n",
       "--------------------------------------------------------------------------------------------------------------------\n",
       "const                                                0.7870      0.848      0.928      0.353      -0.875       2.449\n",
       "Total Time Spent on Website                          1.1091      0.040     27.642      0.000       1.030       1.188\n",
       "Lead_Origin_API                                     -0.8960      0.611     -1.466      0.143      -2.094       0.302\n",
       "Lead_Origin_Landing Page Submission                 -2.1068      0.612     -3.441      0.001      -3.307      -0.907\n",
       "Lead_Origin_Lead Add Form                            4.7080      0.803      5.865      0.000       3.135       6.281\n",
       "Lead_Source_Olark Chat                               0.9787      0.121      8.080      0.000       0.741       1.216\n",
       "Lead_Source_Others                                  -0.0477      0.288     -0.165      0.869      -0.613       0.518\n",
       "Lead_Source_Reference                               -1.9328      0.701     -2.758      0.006      -3.306      -0.559\n",
       "Specialization_Banking, Investment And Insurance     0.3983      0.178      2.234      0.025       0.049       0.748\n",
       "Specialization_Media and Advertising                -0.4021      0.233     -1.728      0.084      -0.858       0.054\n",
       "Specialization_Not Specified                        -1.3141      0.125    -10.541      0.000      -1.558      -1.070\n",
       "Last Notable Activity_Email Opened                   0.7601      0.085      8.912      0.000       0.593       0.927\n",
       "Last Notable Activity_Other Notable Activity         0.6796      0.179      3.790      0.000       0.328       1.031\n",
       "Last Notable Activity_Page Visited on Website        0.3654      0.202      1.812      0.070      -0.030       0.761\n",
       "Last Notable Activity_SMS Sent                       2.0926      0.093     22.522      0.000       1.910       2.275\n",
       "Current_Ocupation_Housewife                         22.4269   1.61e+04      0.001      0.999   -3.14e+04    3.15e+04\n",
       "Current_Ocupation_Student                           -0.6688      0.635     -1.053      0.292      -1.914       0.576\n",
       "Current_Ocupation_Unemployed                        -0.7444      0.591     -1.260      0.208      -1.902       0.413\n",
       "Current_Ocupation_Working Professional               1.9918      0.619      3.215      0.001       0.778       3.206\n",
       "====================================================================================================================\n",
       "\"\"\""
      ]
     },
     "execution_count": 261,
     "metadata": {},
     "output_type": "execute_result"
    }
   ],
   "source": [
    "X_train_sm = sm.add_constant(X_train[columns2keep])\n",
    "logm2 = sm.GLM(y_train,X_train_sm, family = sm.families.Binomial())\n",
    "result = logm2.fit()\n",
    "result.summary()"
   ]
  },
  {
   "cell_type": "markdown",
   "metadata": {},
   "source": [
    "- Looking at the p-values, it looks like \"Current_Ocupation_Housewife\" variable is not significant."
   ]
  },
  {
   "cell_type": "code",
   "execution_count": 262,
   "metadata": {},
   "outputs": [],
   "source": [
    "# Create a dataframe that will contain the names of all the feature variables and their respective VIFs\n",
    "def vif_show(X_vif):\n",
    "    vif = pd.DataFrame()\n",
    "    vif['Features'] = X_vif.columns\n",
    "    vif['VIF'] = [variance_inflation_factor(X_vif.values, i) for i in range(X_vif.shape[1])]\n",
    "    vif['VIF'] = round(vif['VIF'], 2)\n",
    "    vif = vif.sort_values(by = \"VIF\", ascending = False)\n",
    "    print(vif)"
   ]
  },
  {
   "cell_type": "code",
   "execution_count": 263,
   "metadata": {},
   "outputs": [
    {
     "name": "stdout",
     "output_type": "stream",
     "text": [
      "                                            Features     VIF\n",
      "16                      Current_Ocupation_Unemployed  178.74\n",
      "2                Lead_Origin_Landing Page Submission  105.63\n",
      "1                                    Lead_Origin_API   78.66\n",
      "3                          Lead_Origin_Lead Add Form   16.80\n",
      "17            Current_Ocupation_Working Professional   15.93\n",
      "6                              Lead_Source_Reference    7.11\n",
      "15                         Current_Ocupation_Student    5.34\n",
      "9                       Specialization_Not Specified    4.66\n",
      "4                             Lead_Source_Olark Chat    2.29\n",
      "5                                 Lead_Source_Others    2.07\n",
      "10                Last Notable Activity_Email Opened    1.88\n",
      "13                    Last Notable Activity_SMS Sent    1.73\n",
      "0                        Total Time Spent on Website    1.34\n",
      "14                       Current_Ocupation_Housewife    1.19\n",
      "11      Last Notable Activity_Other Notable Activity    1.10\n",
      "12     Last Notable Activity_Page Visited on Website    1.10\n",
      "7   Specialization_Banking, Investment And Insurance    1.07\n",
      "8               Specialization_Media and Advertising    1.04\n"
     ]
    }
   ],
   "source": [
    "vif_show(X_train[columns2keep])"
   ]
  },
  {
   "cell_type": "markdown",
   "metadata": {},
   "source": [
    "- The P-value of 'Current_Ocupation_Housewife' is very high, so removing it from dataset."
   ]
  },
  {
   "cell_type": "code",
   "execution_count": 264,
   "metadata": {},
   "outputs": [
    {
     "data": {
      "text/plain": [
       "Index(['Total Time Spent on Website', 'Lead_Origin_API',\n",
       "       'Lead_Origin_Landing Page Submission', 'Lead_Origin_Lead Add Form',\n",
       "       'Lead_Source_Olark Chat', 'Lead_Source_Others', 'Lead_Source_Reference',\n",
       "       'Specialization_Banking, Investment And Insurance',\n",
       "       'Specialization_Media and Advertising', 'Specialization_Not Specified',\n",
       "       'Last Notable Activity_Email Opened',\n",
       "       'Last Notable Activity_Other Notable Activity',\n",
       "       'Last Notable Activity_Page Visited on Website',\n",
       "       'Last Notable Activity_SMS Sent', 'Current_Ocupation_Student',\n",
       "       'Current_Ocupation_Unemployed',\n",
       "       'Current_Ocupation_Working Professional'],\n",
       "      dtype='object')"
      ]
     },
     "execution_count": 264,
     "metadata": {},
     "output_type": "execute_result"
    }
   ],
   "source": [
    "columns2keep = columns2keep.drop('Current_Ocupation_Housewife',1)\n",
    "columns2keep"
   ]
  },
  {
   "cell_type": "code",
   "execution_count": 265,
   "metadata": {},
   "outputs": [
    {
     "data": {
      "text/html": [
       "<table class=\"simpletable\">\n",
       "<caption>Generalized Linear Model Regression Results</caption>\n",
       "<tr>\n",
       "  <th>Dep. Variable:</th>       <td>Converted</td>    <th>  No. Observations:  </th>  <td>  6351</td> \n",
       "</tr>\n",
       "<tr>\n",
       "  <th>Model:</th>                  <td>GLM</td>       <th>  Df Residuals:      </th>  <td>  6333</td> \n",
       "</tr>\n",
       "<tr>\n",
       "  <th>Model Family:</th>        <td>Binomial</td>     <th>  Df Model:          </th>  <td>    17</td> \n",
       "</tr>\n",
       "<tr>\n",
       "  <th>Link Function:</th>         <td>logit</td>      <th>  Scale:             </th> <td>  1.0000</td>\n",
       "</tr>\n",
       "<tr>\n",
       "  <th>Method:</th>                <td>IRLS</td>       <th>  Log-Likelihood:    </th> <td> -2678.1</td>\n",
       "</tr>\n",
       "<tr>\n",
       "  <th>Date:</th>            <td>Mon, 26 Oct 2020</td> <th>  Deviance:          </th> <td>  5356.3</td>\n",
       "</tr>\n",
       "<tr>\n",
       "  <th>Time:</th>                <td>21:18:29</td>     <th>  Pearson chi2:      </th> <td>6.88e+03</td>\n",
       "</tr>\n",
       "<tr>\n",
       "  <th>No. Iterations:</th>          <td>6</td>        <th>                     </th>     <td> </td>   \n",
       "</tr>\n",
       "<tr>\n",
       "  <th>Covariance Type:</th>     <td>nonrobust</td>    <th>                     </th>     <td> </td>   \n",
       "</tr>\n",
       "</table>\n",
       "<table class=\"simpletable\">\n",
       "<tr>\n",
       "                          <td></td>                            <th>coef</th>     <th>std err</th>      <th>z</th>      <th>P>|z|</th>  <th>[0.025</th>    <th>0.975]</th>  \n",
       "</tr>\n",
       "<tr>\n",
       "  <th>const</th>                                            <td>    1.3981</td> <td>    0.823</td> <td>    1.699</td> <td> 0.089</td> <td>   -0.214</td> <td>    3.011</td>\n",
       "</tr>\n",
       "<tr>\n",
       "  <th>Total Time Spent on Website</th>                      <td>    1.1076</td> <td>    0.040</td> <td>   27.623</td> <td> 0.000</td> <td>    1.029</td> <td>    1.186</td>\n",
       "</tr>\n",
       "<tr>\n",
       "  <th>Lead_Origin_API</th>                                  <td>   -0.8990</td> <td>    0.611</td> <td>   -1.471</td> <td> 0.141</td> <td>   -2.097</td> <td>    0.299</td>\n",
       "</tr>\n",
       "<tr>\n",
       "  <th>Lead_Origin_Landing Page Submission</th>              <td>   -2.0994</td> <td>    0.612</td> <td>   -3.431</td> <td> 0.001</td> <td>   -3.299</td> <td>   -0.900</td>\n",
       "</tr>\n",
       "<tr>\n",
       "  <th>Lead_Origin_Lead Add Form</th>                        <td>    4.7031</td> <td>    0.803</td> <td>    5.860</td> <td> 0.000</td> <td>    3.130</td> <td>    6.276</td>\n",
       "</tr>\n",
       "<tr>\n",
       "  <th>Lead_Source_Olark Chat</th>                           <td>    0.9770</td> <td>    0.121</td> <td>    8.068</td> <td> 0.000</td> <td>    0.740</td> <td>    1.214</td>\n",
       "</tr>\n",
       "<tr>\n",
       "  <th>Lead_Source_Others</th>                               <td>   -0.0468</td> <td>    0.288</td> <td>   -0.162</td> <td> 0.871</td> <td>   -0.612</td> <td>    0.518</td>\n",
       "</tr>\n",
       "<tr>\n",
       "  <th>Lead_Source_Reference</th>                            <td>   -1.9275</td> <td>    0.701</td> <td>   -2.751</td> <td> 0.006</td> <td>   -3.301</td> <td>   -0.554</td>\n",
       "</tr>\n",
       "<tr>\n",
       "  <th>Specialization_Banking, Investment And Insurance</th> <td>    0.3980</td> <td>    0.178</td> <td>    2.233</td> <td> 0.026</td> <td>    0.049</td> <td>    0.747</td>\n",
       "</tr>\n",
       "<tr>\n",
       "  <th>Specialization_Media and Advertising</th>             <td>   -0.4118</td> <td>    0.233</td> <td>   -1.768</td> <td> 0.077</td> <td>   -0.868</td> <td>    0.045</td>\n",
       "</tr>\n",
       "<tr>\n",
       "  <th>Specialization_Not Specified</th>                     <td>   -1.3060</td> <td>    0.125</td> <td>  -10.486</td> <td> 0.000</td> <td>   -1.550</td> <td>   -1.062</td>\n",
       "</tr>\n",
       "<tr>\n",
       "  <th>Last Notable Activity_Email Opened</th>               <td>    0.7608</td> <td>    0.085</td> <td>    8.926</td> <td> 0.000</td> <td>    0.594</td> <td>    0.928</td>\n",
       "</tr>\n",
       "<tr>\n",
       "  <th>Last Notable Activity_Other Notable Activity</th>     <td>    0.6795</td> <td>    0.179</td> <td>    3.791</td> <td> 0.000</td> <td>    0.328</td> <td>    1.031</td>\n",
       "</tr>\n",
       "<tr>\n",
       "  <th>Last Notable Activity_Page Visited on Website</th>    <td>    0.3597</td> <td>    0.202</td> <td>    1.784</td> <td> 0.074</td> <td>   -0.036</td> <td>    0.755</td>\n",
       "</tr>\n",
       "<tr>\n",
       "  <th>Last Notable Activity_SMS Sent</th>                   <td>    2.0917</td> <td>    0.093</td> <td>   22.524</td> <td> 0.000</td> <td>    1.910</td> <td>    2.274</td>\n",
       "</tr>\n",
       "<tr>\n",
       "  <th>Current_Ocupation_Student</th>                        <td>   -1.2846</td> <td>    0.600</td> <td>   -2.141</td> <td> 0.032</td> <td>   -2.461</td> <td>   -0.108</td>\n",
       "</tr>\n",
       "<tr>\n",
       "  <th>Current_Ocupation_Unemployed</th>                     <td>   -1.3603</td> <td>    0.553</td> <td>   -2.461</td> <td> 0.014</td> <td>   -2.444</td> <td>   -0.277</td>\n",
       "</tr>\n",
       "<tr>\n",
       "  <th>Current_Ocupation_Working Professional</th>           <td>    1.3754</td> <td>    0.583</td> <td>    2.358</td> <td> 0.018</td> <td>    0.232</td> <td>    2.519</td>\n",
       "</tr>\n",
       "</table>"
      ],
      "text/plain": [
       "<class 'statsmodels.iolib.summary.Summary'>\n",
       "\"\"\"\n",
       "                 Generalized Linear Model Regression Results                  \n",
       "==============================================================================\n",
       "Dep. Variable:              Converted   No. Observations:                 6351\n",
       "Model:                            GLM   Df Residuals:                     6333\n",
       "Model Family:                Binomial   Df Model:                           17\n",
       "Link Function:                  logit   Scale:                          1.0000\n",
       "Method:                          IRLS   Log-Likelihood:                -2678.1\n",
       "Date:                Mon, 26 Oct 2020   Deviance:                       5356.3\n",
       "Time:                        21:18:29   Pearson chi2:                 6.88e+03\n",
       "No. Iterations:                     6                                         \n",
       "Covariance Type:            nonrobust                                         \n",
       "====================================================================================================================\n",
       "                                                       coef    std err          z      P>|z|      [0.025      0.975]\n",
       "--------------------------------------------------------------------------------------------------------------------\n",
       "const                                                1.3981      0.823      1.699      0.089      -0.214       3.011\n",
       "Total Time Spent on Website                          1.1076      0.040     27.623      0.000       1.029       1.186\n",
       "Lead_Origin_API                                     -0.8990      0.611     -1.471      0.141      -2.097       0.299\n",
       "Lead_Origin_Landing Page Submission                 -2.0994      0.612     -3.431      0.001      -3.299      -0.900\n",
       "Lead_Origin_Lead Add Form                            4.7031      0.803      5.860      0.000       3.130       6.276\n",
       "Lead_Source_Olark Chat                               0.9770      0.121      8.068      0.000       0.740       1.214\n",
       "Lead_Source_Others                                  -0.0468      0.288     -0.162      0.871      -0.612       0.518\n",
       "Lead_Source_Reference                               -1.9275      0.701     -2.751      0.006      -3.301      -0.554\n",
       "Specialization_Banking, Investment And Insurance     0.3980      0.178      2.233      0.026       0.049       0.747\n",
       "Specialization_Media and Advertising                -0.4118      0.233     -1.768      0.077      -0.868       0.045\n",
       "Specialization_Not Specified                        -1.3060      0.125    -10.486      0.000      -1.550      -1.062\n",
       "Last Notable Activity_Email Opened                   0.7608      0.085      8.926      0.000       0.594       0.928\n",
       "Last Notable Activity_Other Notable Activity         0.6795      0.179      3.791      0.000       0.328       1.031\n",
       "Last Notable Activity_Page Visited on Website        0.3597      0.202      1.784      0.074      -0.036       0.755\n",
       "Last Notable Activity_SMS Sent                       2.0917      0.093     22.524      0.000       1.910       2.274\n",
       "Current_Ocupation_Student                           -1.2846      0.600     -2.141      0.032      -2.461      -0.108\n",
       "Current_Ocupation_Unemployed                        -1.3603      0.553     -2.461      0.014      -2.444      -0.277\n",
       "Current_Ocupation_Working Professional               1.3754      0.583      2.358      0.018       0.232       2.519\n",
       "====================================================================================================================\n",
       "\"\"\""
      ]
     },
     "execution_count": 265,
     "metadata": {},
     "output_type": "execute_result"
    }
   ],
   "source": [
    "X_train_sm = sm.add_constant(X_train[columns2keep])\n",
    "logm2 = sm.GLM(y_train,X_train_sm, family = sm.families.Binomial())\n",
    "res = logm2.fit()\n",
    "res.summary()"
   ]
  },
  {
   "cell_type": "markdown",
   "metadata": {},
   "source": [
    "**Looking at the p-values, it looks like some variables aren't really significant, in the presence of other variables**\n",
    "\n",
    "- Lead_Origin_API\n",
    "- Last Notable Activity_Page Visited on Website\n",
    "- Specialization_Media and Advertising"
   ]
  },
  {
   "cell_type": "code",
   "execution_count": 266,
   "metadata": {},
   "outputs": [
    {
     "name": "stdout",
     "output_type": "stream",
     "text": [
      "                                            Features     VIF\n",
      "15                      Current_Ocupation_Unemployed  151.25\n",
      "2                Lead_Origin_Landing Page Submission   89.52\n",
      "1                                    Lead_Origin_API   67.06\n",
      "3                          Lead_Origin_Lead Add Form   15.40\n",
      "16            Current_Ocupation_Working Professional   13.59\n",
      "6                              Lead_Source_Reference    7.05\n",
      "14                         Current_Ocupation_Student    4.66\n",
      "9                       Specialization_Not Specified    4.65\n",
      "4                             Lead_Source_Olark Chat    2.29\n",
      "5                                 Lead_Source_Others    2.04\n",
      "10                Last Notable Activity_Email Opened    1.87\n",
      "13                    Last Notable Activity_SMS Sent    1.73\n",
      "0                        Total Time Spent on Website    1.34\n",
      "12     Last Notable Activity_Page Visited on Website    1.10\n",
      "11      Last Notable Activity_Other Notable Activity    1.10\n",
      "7   Specialization_Banking, Investment And Insurance    1.07\n",
      "8               Specialization_Media and Advertising    1.04\n"
     ]
    }
   ],
   "source": [
    "vif_show(X_train[columns2keep])"
   ]
  },
  {
   "cell_type": "markdown",
   "metadata": {},
   "source": [
    "**The VIF of \"Current_Ocupation_Unemployed\" is very high, so removing it from dataset.**"
   ]
  },
  {
   "cell_type": "code",
   "execution_count": 267,
   "metadata": {},
   "outputs": [],
   "source": [
    "columns2keep = columns2keep.drop('Current_Ocupation_Unemployed',1)"
   ]
  },
  {
   "cell_type": "code",
   "execution_count": 268,
   "metadata": {},
   "outputs": [
    {
     "data": {
      "text/html": [
       "<table class=\"simpletable\">\n",
       "<caption>Generalized Linear Model Regression Results</caption>\n",
       "<tr>\n",
       "  <th>Dep. Variable:</th>       <td>Converted</td>    <th>  No. Observations:  </th>  <td>  6351</td> \n",
       "</tr>\n",
       "<tr>\n",
       "  <th>Model:</th>                  <td>GLM</td>       <th>  Df Residuals:      </th>  <td>  6334</td> \n",
       "</tr>\n",
       "<tr>\n",
       "  <th>Model Family:</th>        <td>Binomial</td>     <th>  Df Model:          </th>  <td>    16</td> \n",
       "</tr>\n",
       "<tr>\n",
       "  <th>Link Function:</th>         <td>logit</td>      <th>  Scale:             </th> <td>  1.0000</td>\n",
       "</tr>\n",
       "<tr>\n",
       "  <th>Method:</th>                <td>IRLS</td>       <th>  Log-Likelihood:    </th> <td> -2681.4</td>\n",
       "</tr>\n",
       "<tr>\n",
       "  <th>Date:</th>            <td>Mon, 26 Oct 2020</td> <th>  Deviance:          </th> <td>  5362.8</td>\n",
       "</tr>\n",
       "<tr>\n",
       "  <th>Time:</th>                <td>21:18:29</td>     <th>  Pearson chi2:      </th> <td>6.90e+03</td>\n",
       "</tr>\n",
       "<tr>\n",
       "  <th>No. Iterations:</th>          <td>6</td>        <th>                     </th>     <td> </td>   \n",
       "</tr>\n",
       "<tr>\n",
       "  <th>Covariance Type:</th>     <td>nonrobust</td>    <th>                     </th>     <td> </td>   \n",
       "</tr>\n",
       "</table>\n",
       "<table class=\"simpletable\">\n",
       "<tr>\n",
       "                          <td></td>                            <th>coef</th>     <th>std err</th>      <th>z</th>      <th>P>|z|</th>  <th>[0.025</th>    <th>0.975]</th>  \n",
       "</tr>\n",
       "<tr>\n",
       "  <th>const</th>                                            <td>    0.0508</td> <td>    0.614</td> <td>    0.083</td> <td> 0.934</td> <td>   -1.152</td> <td>    1.254</td>\n",
       "</tr>\n",
       "<tr>\n",
       "  <th>Total Time Spent on Website</th>                      <td>    1.1082</td> <td>    0.040</td> <td>   27.653</td> <td> 0.000</td> <td>    1.030</td> <td>    1.187</td>\n",
       "</tr>\n",
       "<tr>\n",
       "  <th>Lead_Origin_API</th>                                  <td>   -0.8837</td> <td>    0.612</td> <td>   -1.445</td> <td> 0.149</td> <td>   -2.083</td> <td>    0.315</td>\n",
       "</tr>\n",
       "<tr>\n",
       "  <th>Lead_Origin_Landing Page Submission</th>              <td>   -2.1048</td> <td>    0.613</td> <td>   -3.436</td> <td> 0.001</td> <td>   -3.305</td> <td>   -0.904</td>\n",
       "</tr>\n",
       "<tr>\n",
       "  <th>Lead_Origin_Lead Add Form</th>                        <td>    4.7218</td> <td>    0.803</td> <td>    5.880</td> <td> 0.000</td> <td>    3.148</td> <td>    6.296</td>\n",
       "</tr>\n",
       "<tr>\n",
       "  <th>Lead_Source_Olark Chat</th>                           <td>    0.9757</td> <td>    0.121</td> <td>    8.060</td> <td> 0.000</td> <td>    0.738</td> <td>    1.213</td>\n",
       "</tr>\n",
       "<tr>\n",
       "  <th>Lead_Source_Others</th>                               <td>   -0.0536</td> <td>    0.288</td> <td>   -0.186</td> <td> 0.852</td> <td>   -0.619</td> <td>    0.512</td>\n",
       "</tr>\n",
       "<tr>\n",
       "  <th>Lead_Source_Reference</th>                            <td>   -1.9310</td> <td>    0.701</td> <td>   -2.756</td> <td> 0.006</td> <td>   -3.304</td> <td>   -0.558</td>\n",
       "</tr>\n",
       "<tr>\n",
       "  <th>Specialization_Banking, Investment And Insurance</th> <td>    0.3894</td> <td>    0.178</td> <td>    2.186</td> <td> 0.029</td> <td>    0.040</td> <td>    0.739</td>\n",
       "</tr>\n",
       "<tr>\n",
       "  <th>Specialization_Media and Advertising</th>             <td>   -0.3816</td> <td>    0.231</td> <td>   -1.654</td> <td> 0.098</td> <td>   -0.834</td> <td>    0.071</td>\n",
       "</tr>\n",
       "<tr>\n",
       "  <th>Specialization_Not Specified</th>                     <td>   -1.3309</td> <td>    0.124</td> <td>  -10.713</td> <td> 0.000</td> <td>   -1.574</td> <td>   -1.087</td>\n",
       "</tr>\n",
       "<tr>\n",
       "  <th>Last Notable Activity_Email Opened</th>               <td>    0.7620</td> <td>    0.085</td> <td>    8.951</td> <td> 0.000</td> <td>    0.595</td> <td>    0.929</td>\n",
       "</tr>\n",
       "<tr>\n",
       "  <th>Last Notable Activity_Other Notable Activity</th>     <td>    0.6721</td> <td>    0.179</td> <td>    3.749</td> <td> 0.000</td> <td>    0.321</td> <td>    1.023</td>\n",
       "</tr>\n",
       "<tr>\n",
       "  <th>Last Notable Activity_Page Visited on Website</th>    <td>    0.3624</td> <td>    0.202</td> <td>    1.797</td> <td> 0.072</td> <td>   -0.033</td> <td>    0.758</td>\n",
       "</tr>\n",
       "<tr>\n",
       "  <th>Last Notable Activity_SMS Sent</th>                   <td>    2.0848</td> <td>    0.093</td> <td>   22.471</td> <td> 0.000</td> <td>    1.903</td> <td>    2.267</td>\n",
       "</tr>\n",
       "<tr>\n",
       "  <th>Current_Ocupation_Student</th>                        <td>    0.0682</td> <td>    0.240</td> <td>    0.284</td> <td> 0.776</td> <td>   -0.402</td> <td>    0.539</td>\n",
       "</tr>\n",
       "<tr>\n",
       "  <th>Current_Ocupation_Working Professional</th>           <td>    2.7260</td> <td>    0.197</td> <td>   13.831</td> <td> 0.000</td> <td>    2.340</td> <td>    3.112</td>\n",
       "</tr>\n",
       "</table>"
      ],
      "text/plain": [
       "<class 'statsmodels.iolib.summary.Summary'>\n",
       "\"\"\"\n",
       "                 Generalized Linear Model Regression Results                  \n",
       "==============================================================================\n",
       "Dep. Variable:              Converted   No. Observations:                 6351\n",
       "Model:                            GLM   Df Residuals:                     6334\n",
       "Model Family:                Binomial   Df Model:                           16\n",
       "Link Function:                  logit   Scale:                          1.0000\n",
       "Method:                          IRLS   Log-Likelihood:                -2681.4\n",
       "Date:                Mon, 26 Oct 2020   Deviance:                       5362.8\n",
       "Time:                        21:18:29   Pearson chi2:                 6.90e+03\n",
       "No. Iterations:                     6                                         \n",
       "Covariance Type:            nonrobust                                         \n",
       "====================================================================================================================\n",
       "                                                       coef    std err          z      P>|z|      [0.025      0.975]\n",
       "--------------------------------------------------------------------------------------------------------------------\n",
       "const                                                0.0508      0.614      0.083      0.934      -1.152       1.254\n",
       "Total Time Spent on Website                          1.1082      0.040     27.653      0.000       1.030       1.187\n",
       "Lead_Origin_API                                     -0.8837      0.612     -1.445      0.149      -2.083       0.315\n",
       "Lead_Origin_Landing Page Submission                 -2.1048      0.613     -3.436      0.001      -3.305      -0.904\n",
       "Lead_Origin_Lead Add Form                            4.7218      0.803      5.880      0.000       3.148       6.296\n",
       "Lead_Source_Olark Chat                               0.9757      0.121      8.060      0.000       0.738       1.213\n",
       "Lead_Source_Others                                  -0.0536      0.288     -0.186      0.852      -0.619       0.512\n",
       "Lead_Source_Reference                               -1.9310      0.701     -2.756      0.006      -3.304      -0.558\n",
       "Specialization_Banking, Investment And Insurance     0.3894      0.178      2.186      0.029       0.040       0.739\n",
       "Specialization_Media and Advertising                -0.3816      0.231     -1.654      0.098      -0.834       0.071\n",
       "Specialization_Not Specified                        -1.3309      0.124    -10.713      0.000      -1.574      -1.087\n",
       "Last Notable Activity_Email Opened                   0.7620      0.085      8.951      0.000       0.595       0.929\n",
       "Last Notable Activity_Other Notable Activity         0.6721      0.179      3.749      0.000       0.321       1.023\n",
       "Last Notable Activity_Page Visited on Website        0.3624      0.202      1.797      0.072      -0.033       0.758\n",
       "Last Notable Activity_SMS Sent                       2.0848      0.093     22.471      0.000       1.903       2.267\n",
       "Current_Ocupation_Student                            0.0682      0.240      0.284      0.776      -0.402       0.539\n",
       "Current_Ocupation_Working Professional               2.7260      0.197     13.831      0.000       2.340       3.112\n",
       "====================================================================================================================\n",
       "\"\"\""
      ]
     },
     "execution_count": 268,
     "metadata": {},
     "output_type": "execute_result"
    }
   ],
   "source": [
    "X_train_sm = sm.add_constant(X_train[columns2keep])\n",
    "logm2 = sm.GLM(y_train,X_train_sm, family = sm.families.Binomial())\n",
    "res = logm2.fit()\n",
    "res.summary()"
   ]
  },
  {
   "cell_type": "markdown",
   "metadata": {},
   "source": [
    "**Looking at the p-values, it looks like some variables aren't really significant, in the presence of other variables**\n",
    "\n",
    "- Current_Ocupation_Student\n",
    "- Lead_Origin_API\t"
   ]
  },
  {
   "cell_type": "code",
   "execution_count": 269,
   "metadata": {},
   "outputs": [
    {
     "name": "stdout",
     "output_type": "stream",
     "text": [
      "                                            Features   VIF\n",
      "3                          Lead_Origin_Lead Add Form  8.08\n",
      "6                              Lead_Source_Reference  6.83\n",
      "1                                    Lead_Origin_API  5.82\n",
      "9                       Specialization_Not Specified  4.61\n",
      "4                             Lead_Source_Olark Chat  2.29\n",
      "2                Lead_Origin_Landing Page Submission  2.21\n",
      "5                                 Lead_Source_Others  1.88\n",
      "10                Last Notable Activity_Email Opened  1.87\n",
      "13                    Last Notable Activity_SMS Sent  1.72\n",
      "0                        Total Time Spent on Website  1.34\n",
      "15            Current_Ocupation_Working Professional  1.24\n",
      "11      Last Notable Activity_Other Notable Activity  1.10\n",
      "12     Last Notable Activity_Page Visited on Website  1.10\n",
      "7   Specialization_Banking, Investment And Insurance  1.07\n",
      "8               Specialization_Media and Advertising  1.04\n",
      "14                         Current_Ocupation_Student  1.03\n"
     ]
    }
   ],
   "source": [
    "vif_show(X_train[columns2keep])"
   ]
  },
  {
   "cell_type": "markdown",
   "metadata": {},
   "source": [
    "**The P-value of \"Current_Ocupation_Student\" is very high, so removing it from dataset.**"
   ]
  },
  {
   "cell_type": "code",
   "execution_count": 270,
   "metadata": {},
   "outputs": [],
   "source": [
    "columns2keep = columns2keep.drop('Current_Ocupation_Student',1)"
   ]
  },
  {
   "cell_type": "code",
   "execution_count": 271,
   "metadata": {},
   "outputs": [
    {
     "data": {
      "text/html": [
       "<table class=\"simpletable\">\n",
       "<caption>Generalized Linear Model Regression Results</caption>\n",
       "<tr>\n",
       "  <th>Dep. Variable:</th>       <td>Converted</td>    <th>  No. Observations:  </th>  <td>  6351</td> \n",
       "</tr>\n",
       "<tr>\n",
       "  <th>Model:</th>                  <td>GLM</td>       <th>  Df Residuals:      </th>  <td>  6335</td> \n",
       "</tr>\n",
       "<tr>\n",
       "  <th>Model Family:</th>        <td>Binomial</td>     <th>  Df Model:          </th>  <td>    15</td> \n",
       "</tr>\n",
       "<tr>\n",
       "  <th>Link Function:</th>         <td>logit</td>      <th>  Scale:             </th> <td>  1.0000</td>\n",
       "</tr>\n",
       "<tr>\n",
       "  <th>Method:</th>                <td>IRLS</td>       <th>  Log-Likelihood:    </th> <td> -2681.4</td>\n",
       "</tr>\n",
       "<tr>\n",
       "  <th>Date:</th>            <td>Mon, 26 Oct 2020</td> <th>  Deviance:          </th> <td>  5362.9</td>\n",
       "</tr>\n",
       "<tr>\n",
       "  <th>Time:</th>                <td>21:18:29</td>     <th>  Pearson chi2:      </th> <td>6.90e+03</td>\n",
       "</tr>\n",
       "<tr>\n",
       "  <th>No. Iterations:</th>          <td>6</td>        <th>                     </th>     <td> </td>   \n",
       "</tr>\n",
       "<tr>\n",
       "  <th>Covariance Type:</th>     <td>nonrobust</td>    <th>                     </th>     <td> </td>   \n",
       "</tr>\n",
       "</table>\n",
       "<table class=\"simpletable\">\n",
       "<tr>\n",
       "                          <td></td>                            <th>coef</th>     <th>std err</th>      <th>z</th>      <th>P>|z|</th>  <th>[0.025</th>    <th>0.975]</th>  \n",
       "</tr>\n",
       "<tr>\n",
       "  <th>const</th>                                            <td>    0.0524</td> <td>    0.614</td> <td>    0.085</td> <td> 0.932</td> <td>   -1.151</td> <td>    1.255</td>\n",
       "</tr>\n",
       "<tr>\n",
       "  <th>Total Time Spent on Website</th>                      <td>    1.1083</td> <td>    0.040</td> <td>   27.660</td> <td> 0.000</td> <td>    1.030</td> <td>    1.187</td>\n",
       "</tr>\n",
       "<tr>\n",
       "  <th>Lead_Origin_API</th>                                  <td>   -0.8836</td> <td>    0.612</td> <td>   -1.445</td> <td> 0.149</td> <td>   -2.083</td> <td>    0.315</td>\n",
       "</tr>\n",
       "<tr>\n",
       "  <th>Lead_Origin_Landing Page Submission</th>              <td>   -2.1049</td> <td>    0.613</td> <td>   -3.437</td> <td> 0.001</td> <td>   -3.305</td> <td>   -0.904</td>\n",
       "</tr>\n",
       "<tr>\n",
       "  <th>Lead_Origin_Lead Add Form</th>                        <td>    4.7222</td> <td>    0.803</td> <td>    5.881</td> <td> 0.000</td> <td>    3.148</td> <td>    6.296</td>\n",
       "</tr>\n",
       "<tr>\n",
       "  <th>Lead_Source_Olark Chat</th>                           <td>    0.9764</td> <td>    0.121</td> <td>    8.068</td> <td> 0.000</td> <td>    0.739</td> <td>    1.214</td>\n",
       "</tr>\n",
       "<tr>\n",
       "  <th>Lead_Source_Others</th>                               <td>   -0.0550</td> <td>    0.288</td> <td>   -0.191</td> <td> 0.849</td> <td>   -0.620</td> <td>    0.510</td>\n",
       "</tr>\n",
       "<tr>\n",
       "  <th>Lead_Source_Reference</th>                            <td>   -1.9298</td> <td>    0.701</td> <td>   -2.754</td> <td> 0.006</td> <td>   -3.303</td> <td>   -0.557</td>\n",
       "</tr>\n",
       "<tr>\n",
       "  <th>Specialization_Banking, Investment And Insurance</th> <td>    0.3904</td> <td>    0.178</td> <td>    2.192</td> <td> 0.028</td> <td>    0.041</td> <td>    0.739</td>\n",
       "</tr>\n",
       "<tr>\n",
       "  <th>Specialization_Media and Advertising</th>             <td>   -0.3827</td> <td>    0.231</td> <td>   -1.659</td> <td> 0.097</td> <td>   -0.835</td> <td>    0.069</td>\n",
       "</tr>\n",
       "<tr>\n",
       "  <th>Specialization_Not Specified</th>                     <td>   -1.3314</td> <td>    0.124</td> <td>  -10.716</td> <td> 0.000</td> <td>   -1.575</td> <td>   -1.088</td>\n",
       "</tr>\n",
       "<tr>\n",
       "  <th>Last Notable Activity_Email Opened</th>               <td>    0.7623</td> <td>    0.085</td> <td>    8.956</td> <td> 0.000</td> <td>    0.596</td> <td>    0.929</td>\n",
       "</tr>\n",
       "<tr>\n",
       "  <th>Last Notable Activity_Other Notable Activity</th>     <td>    0.6723</td> <td>    0.179</td> <td>    3.749</td> <td> 0.000</td> <td>    0.321</td> <td>    1.024</td>\n",
       "</tr>\n",
       "<tr>\n",
       "  <th>Last Notable Activity_Page Visited on Website</th>    <td>    0.3622</td> <td>    0.202</td> <td>    1.796</td> <td> 0.072</td> <td>   -0.033</td> <td>    0.757</td>\n",
       "</tr>\n",
       "<tr>\n",
       "  <th>Last Notable Activity_SMS Sent</th>                   <td>    2.0840</td> <td>    0.093</td> <td>   22.472</td> <td> 0.000</td> <td>    1.902</td> <td>    2.266</td>\n",
       "</tr>\n",
       "<tr>\n",
       "  <th>Current_Ocupation_Working Professional</th>           <td>    2.7246</td> <td>    0.197</td> <td>   13.828</td> <td> 0.000</td> <td>    2.338</td> <td>    3.111</td>\n",
       "</tr>\n",
       "</table>"
      ],
      "text/plain": [
       "<class 'statsmodels.iolib.summary.Summary'>\n",
       "\"\"\"\n",
       "                 Generalized Linear Model Regression Results                  \n",
       "==============================================================================\n",
       "Dep. Variable:              Converted   No. Observations:                 6351\n",
       "Model:                            GLM   Df Residuals:                     6335\n",
       "Model Family:                Binomial   Df Model:                           15\n",
       "Link Function:                  logit   Scale:                          1.0000\n",
       "Method:                          IRLS   Log-Likelihood:                -2681.4\n",
       "Date:                Mon, 26 Oct 2020   Deviance:                       5362.9\n",
       "Time:                        21:18:29   Pearson chi2:                 6.90e+03\n",
       "No. Iterations:                     6                                         \n",
       "Covariance Type:            nonrobust                                         \n",
       "====================================================================================================================\n",
       "                                                       coef    std err          z      P>|z|      [0.025      0.975]\n",
       "--------------------------------------------------------------------------------------------------------------------\n",
       "const                                                0.0524      0.614      0.085      0.932      -1.151       1.255\n",
       "Total Time Spent on Website                          1.1083      0.040     27.660      0.000       1.030       1.187\n",
       "Lead_Origin_API                                     -0.8836      0.612     -1.445      0.149      -2.083       0.315\n",
       "Lead_Origin_Landing Page Submission                 -2.1049      0.613     -3.437      0.001      -3.305      -0.904\n",
       "Lead_Origin_Lead Add Form                            4.7222      0.803      5.881      0.000       3.148       6.296\n",
       "Lead_Source_Olark Chat                               0.9764      0.121      8.068      0.000       0.739       1.214\n",
       "Lead_Source_Others                                  -0.0550      0.288     -0.191      0.849      -0.620       0.510\n",
       "Lead_Source_Reference                               -1.9298      0.701     -2.754      0.006      -3.303      -0.557\n",
       "Specialization_Banking, Investment And Insurance     0.3904      0.178      2.192      0.028       0.041       0.739\n",
       "Specialization_Media and Advertising                -0.3827      0.231     -1.659      0.097      -0.835       0.069\n",
       "Specialization_Not Specified                        -1.3314      0.124    -10.716      0.000      -1.575      -1.088\n",
       "Last Notable Activity_Email Opened                   0.7623      0.085      8.956      0.000       0.596       0.929\n",
       "Last Notable Activity_Other Notable Activity         0.6723      0.179      3.749      0.000       0.321       1.024\n",
       "Last Notable Activity_Page Visited on Website        0.3622      0.202      1.796      0.072      -0.033       0.757\n",
       "Last Notable Activity_SMS Sent                       2.0840      0.093     22.472      0.000       1.902       2.266\n",
       "Current_Ocupation_Working Professional               2.7246      0.197     13.828      0.000       2.338       3.111\n",
       "====================================================================================================================\n",
       "\"\"\""
      ]
     },
     "execution_count": 271,
     "metadata": {},
     "output_type": "execute_result"
    }
   ],
   "source": [
    "X_train_sm = sm.add_constant(X_train[columns2keep])\n",
    "logm2 = sm.GLM(y_train,X_train_sm, family = sm.families.Binomial())\n",
    "res = logm2.fit()\n",
    "res.summary()"
   ]
  },
  {
   "cell_type": "markdown",
   "metadata": {},
   "source": [
    "**Looking at the p-values, it looks like some variables aren't really significant, in the presence of other variables**\n",
    "\n",
    "- Lead_Origin_API\n",
    "- Specialization_Media and Advertising"
   ]
  },
  {
   "cell_type": "code",
   "execution_count": 272,
   "metadata": {},
   "outputs": [
    {
     "name": "stdout",
     "output_type": "stream",
     "text": [
      "                                            Features   VIF\n",
      "3                          Lead_Origin_Lead Add Form  8.08\n",
      "6                              Lead_Source_Reference  6.83\n",
      "1                                    Lead_Origin_API  5.82\n",
      "9                       Specialization_Not Specified  4.61\n",
      "4                             Lead_Source_Olark Chat  2.29\n",
      "2                Lead_Origin_Landing Page Submission  2.19\n",
      "5                                 Lead_Source_Others  1.88\n",
      "10                Last Notable Activity_Email Opened  1.87\n",
      "13                    Last Notable Activity_SMS Sent  1.72\n",
      "0                        Total Time Spent on Website  1.34\n",
      "14            Current_Ocupation_Working Professional  1.23\n",
      "11      Last Notable Activity_Other Notable Activity  1.10\n",
      "12     Last Notable Activity_Page Visited on Website  1.10\n",
      "7   Specialization_Banking, Investment And Insurance  1.07\n",
      "8               Specialization_Media and Advertising  1.04\n"
     ]
    }
   ],
   "source": [
    "vif_show(X_train[columns2keep])"
   ]
  },
  {
   "cell_type": "markdown",
   "metadata": {},
   "source": [
    "**The P-value of \"Lead_Origin_API\" is very high and VIF score is aslo high, so removing it from dataset.**"
   ]
  },
  {
   "cell_type": "code",
   "execution_count": 273,
   "metadata": {},
   "outputs": [],
   "source": [
    "columns2keep = columns2keep.drop('Lead_Origin_API',1)"
   ]
  },
  {
   "cell_type": "code",
   "execution_count": 274,
   "metadata": {},
   "outputs": [
    {
     "data": {
      "text/html": [
       "<table class=\"simpletable\">\n",
       "<caption>Generalized Linear Model Regression Results</caption>\n",
       "<tr>\n",
       "  <th>Dep. Variable:</th>       <td>Converted</td>    <th>  No. Observations:  </th>  <td>  6351</td> \n",
       "</tr>\n",
       "<tr>\n",
       "  <th>Model:</th>                  <td>GLM</td>       <th>  Df Residuals:      </th>  <td>  6336</td> \n",
       "</tr>\n",
       "<tr>\n",
       "  <th>Model Family:</th>        <td>Binomial</td>     <th>  Df Model:          </th>  <td>    14</td> \n",
       "</tr>\n",
       "<tr>\n",
       "  <th>Link Function:</th>         <td>logit</td>      <th>  Scale:             </th> <td>  1.0000</td>\n",
       "</tr>\n",
       "<tr>\n",
       "  <th>Method:</th>                <td>IRLS</td>       <th>  Log-Likelihood:    </th> <td> -2682.4</td>\n",
       "</tr>\n",
       "<tr>\n",
       "  <th>Date:</th>            <td>Mon, 26 Oct 2020</td> <th>  Deviance:          </th> <td>  5364.8</td>\n",
       "</tr>\n",
       "<tr>\n",
       "  <th>Time:</th>                <td>21:18:30</td>     <th>  Pearson chi2:      </th> <td>6.88e+03</td>\n",
       "</tr>\n",
       "<tr>\n",
       "  <th>No. Iterations:</th>          <td>6</td>        <th>                     </th>     <td> </td>   \n",
       "</tr>\n",
       "<tr>\n",
       "  <th>Covariance Type:</th>     <td>nonrobust</td>    <th>                     </th>     <td> </td>   \n",
       "</tr>\n",
       "</table>\n",
       "<table class=\"simpletable\">\n",
       "<tr>\n",
       "                          <td></td>                            <th>coef</th>     <th>std err</th>      <th>z</th>      <th>P>|z|</th>  <th>[0.025</th>    <th>0.975]</th>  \n",
       "</tr>\n",
       "<tr>\n",
       "  <th>const</th>                                            <td>   -0.8148</td> <td>    0.132</td> <td>   -6.172</td> <td> 0.000</td> <td>   -1.074</td> <td>   -0.556</td>\n",
       "</tr>\n",
       "<tr>\n",
       "  <th>Total Time Spent on Website</th>                      <td>    1.1041</td> <td>    0.040</td> <td>   27.660</td> <td> 0.000</td> <td>    1.026</td> <td>    1.182</td>\n",
       "</tr>\n",
       "<tr>\n",
       "  <th>Lead_Origin_Landing Page Submission</th>              <td>   -1.2383</td> <td>    0.127</td> <td>   -9.723</td> <td> 0.000</td> <td>   -1.488</td> <td>   -0.989</td>\n",
       "</tr>\n",
       "<tr>\n",
       "  <th>Lead_Origin_Lead Add Form</th>                        <td>    5.4386</td> <td>    0.646</td> <td>    8.423</td> <td> 0.000</td> <td>    4.173</td> <td>    6.704</td>\n",
       "</tr>\n",
       "<tr>\n",
       "  <th>Lead_Source_Olark Chat</th>                           <td>    0.9689</td> <td>    0.121</td> <td>    8.017</td> <td> 0.000</td> <td>    0.732</td> <td>    1.206</td>\n",
       "</tr>\n",
       "<tr>\n",
       "  <th>Lead_Source_Others</th>                               <td>    0.1070</td> <td>    0.259</td> <td>    0.414</td> <td> 0.679</td> <td>   -0.400</td> <td>    0.614</td>\n",
       "</tr>\n",
       "<tr>\n",
       "  <th>Lead_Source_Reference</th>                            <td>   -1.7755</td> <td>    0.690</td> <td>   -2.574</td> <td> 0.010</td> <td>   -3.127</td> <td>   -0.424</td>\n",
       "</tr>\n",
       "<tr>\n",
       "  <th>Specialization_Banking, Investment And Insurance</th> <td>    0.3867</td> <td>    0.178</td> <td>    2.173</td> <td> 0.030</td> <td>    0.038</td> <td>    0.736</td>\n",
       "</tr>\n",
       "<tr>\n",
       "  <th>Specialization_Media and Advertising</th>             <td>   -0.3764</td> <td>    0.231</td> <td>   -1.632</td> <td> 0.103</td> <td>   -0.829</td> <td>    0.076</td>\n",
       "</tr>\n",
       "<tr>\n",
       "  <th>Specialization_Not Specified</th>                     <td>   -1.3476</td> <td>    0.124</td> <td>  -10.870</td> <td> 0.000</td> <td>   -1.591</td> <td>   -1.105</td>\n",
       "</tr>\n",
       "<tr>\n",
       "  <th>Last Notable Activity_Email Opened</th>               <td>    0.7667</td> <td>    0.085</td> <td>    9.013</td> <td> 0.000</td> <td>    0.600</td> <td>    0.933</td>\n",
       "</tr>\n",
       "<tr>\n",
       "  <th>Last Notable Activity_Other Notable Activity</th>     <td>    0.6683</td> <td>    0.179</td> <td>    3.729</td> <td> 0.000</td> <td>    0.317</td> <td>    1.020</td>\n",
       "</tr>\n",
       "<tr>\n",
       "  <th>Last Notable Activity_Page Visited on Website</th>    <td>    0.3586</td> <td>    0.202</td> <td>    1.779</td> <td> 0.075</td> <td>   -0.037</td> <td>    0.754</td>\n",
       "</tr>\n",
       "<tr>\n",
       "  <th>Last Notable Activity_SMS Sent</th>                   <td>    2.0849</td> <td>    0.093</td> <td>   22.485</td> <td> 0.000</td> <td>    1.903</td> <td>    2.267</td>\n",
       "</tr>\n",
       "<tr>\n",
       "  <th>Current_Ocupation_Working Professional</th>           <td>    2.7221</td> <td>    0.197</td> <td>   13.812</td> <td> 0.000</td> <td>    2.336</td> <td>    3.108</td>\n",
       "</tr>\n",
       "</table>"
      ],
      "text/plain": [
       "<class 'statsmodels.iolib.summary.Summary'>\n",
       "\"\"\"\n",
       "                 Generalized Linear Model Regression Results                  \n",
       "==============================================================================\n",
       "Dep. Variable:              Converted   No. Observations:                 6351\n",
       "Model:                            GLM   Df Residuals:                     6336\n",
       "Model Family:                Binomial   Df Model:                           14\n",
       "Link Function:                  logit   Scale:                          1.0000\n",
       "Method:                          IRLS   Log-Likelihood:                -2682.4\n",
       "Date:                Mon, 26 Oct 2020   Deviance:                       5364.8\n",
       "Time:                        21:18:30   Pearson chi2:                 6.88e+03\n",
       "No. Iterations:                     6                                         \n",
       "Covariance Type:            nonrobust                                         \n",
       "====================================================================================================================\n",
       "                                                       coef    std err          z      P>|z|      [0.025      0.975]\n",
       "--------------------------------------------------------------------------------------------------------------------\n",
       "const                                               -0.8148      0.132     -6.172      0.000      -1.074      -0.556\n",
       "Total Time Spent on Website                          1.1041      0.040     27.660      0.000       1.026       1.182\n",
       "Lead_Origin_Landing Page Submission                 -1.2383      0.127     -9.723      0.000      -1.488      -0.989\n",
       "Lead_Origin_Lead Add Form                            5.4386      0.646      8.423      0.000       4.173       6.704\n",
       "Lead_Source_Olark Chat                               0.9689      0.121      8.017      0.000       0.732       1.206\n",
       "Lead_Source_Others                                   0.1070      0.259      0.414      0.679      -0.400       0.614\n",
       "Lead_Source_Reference                               -1.7755      0.690     -2.574      0.010      -3.127      -0.424\n",
       "Specialization_Banking, Investment And Insurance     0.3867      0.178      2.173      0.030       0.038       0.736\n",
       "Specialization_Media and Advertising                -0.3764      0.231     -1.632      0.103      -0.829       0.076\n",
       "Specialization_Not Specified                        -1.3476      0.124    -10.870      0.000      -1.591      -1.105\n",
       "Last Notable Activity_Email Opened                   0.7667      0.085      9.013      0.000       0.600       0.933\n",
       "Last Notable Activity_Other Notable Activity         0.6683      0.179      3.729      0.000       0.317       1.020\n",
       "Last Notable Activity_Page Visited on Website        0.3586      0.202      1.779      0.075      -0.037       0.754\n",
       "Last Notable Activity_SMS Sent                       2.0849      0.093     22.485      0.000       1.903       2.267\n",
       "Current_Ocupation_Working Professional               2.7221      0.197     13.812      0.000       2.336       3.108\n",
       "====================================================================================================================\n",
       "\"\"\""
      ]
     },
     "execution_count": 274,
     "metadata": {},
     "output_type": "execute_result"
    }
   ],
   "source": [
    "X_train_sm = sm.add_constant(X_train[columns2keep])\n",
    "logm2 = sm.GLM(y_train,X_train_sm, family = sm.families.Binomial())\n",
    "res = logm2.fit()\n",
    "res.summary()"
   ]
  },
  {
   "cell_type": "markdown",
   "metadata": {},
   "source": [
    "**Looking at the p-values, it looks like some variables aren't really significant, in the presence of other variables**\n",
    "\n",
    "- Specialization_Media and Advertising\n",
    "- Last Notable Activity_Page Visited on Website"
   ]
  },
  {
   "cell_type": "code",
   "execution_count": 275,
   "metadata": {},
   "outputs": [
    {
     "name": "stdout",
     "output_type": "stream",
     "text": [
      "                                            Features   VIF\n",
      "2                          Lead_Origin_Lead Add Form  7.48\n",
      "5                              Lead_Source_Reference  6.70\n",
      "8                       Specialization_Not Specified  2.08\n",
      "3                             Lead_Source_Olark Chat  1.96\n",
      "1                Lead_Origin_Landing Page Submission  1.93\n",
      "4                                 Lead_Source_Others  1.87\n",
      "9                 Last Notable Activity_Email Opened  1.69\n",
      "12                    Last Notable Activity_SMS Sent  1.63\n",
      "0                        Total Time Spent on Website  1.31\n",
      "13            Current_Ocupation_Working Professional  1.19\n",
      "10      Last Notable Activity_Other Notable Activity  1.08\n",
      "11     Last Notable Activity_Page Visited on Website  1.07\n",
      "6   Specialization_Banking, Investment And Insurance  1.06\n",
      "7               Specialization_Media and Advertising  1.04\n"
     ]
    }
   ],
   "source": [
    "vif_show(X_train[columns2keep])"
   ]
  },
  {
   "cell_type": "markdown",
   "metadata": {},
   "source": [
    "**The P-value of \"Specialization_Media and Advertising\t\" is very high, so removing it from dataset.**"
   ]
  },
  {
   "cell_type": "code",
   "execution_count": 276,
   "metadata": {},
   "outputs": [],
   "source": [
    "columns2keep = columns2keep.drop('Specialization_Media and Advertising',1)"
   ]
  },
  {
   "cell_type": "code",
   "execution_count": 277,
   "metadata": {},
   "outputs": [
    {
     "data": {
      "text/html": [
       "<table class=\"simpletable\">\n",
       "<caption>Generalized Linear Model Regression Results</caption>\n",
       "<tr>\n",
       "  <th>Dep. Variable:</th>       <td>Converted</td>    <th>  No. Observations:  </th>  <td>  6351</td> \n",
       "</tr>\n",
       "<tr>\n",
       "  <th>Model:</th>                  <td>GLM</td>       <th>  Df Residuals:      </th>  <td>  6337</td> \n",
       "</tr>\n",
       "<tr>\n",
       "  <th>Model Family:</th>        <td>Binomial</td>     <th>  Df Model:          </th>  <td>    13</td> \n",
       "</tr>\n",
       "<tr>\n",
       "  <th>Link Function:</th>         <td>logit</td>      <th>  Scale:             </th> <td>  1.0000</td>\n",
       "</tr>\n",
       "<tr>\n",
       "  <th>Method:</th>                <td>IRLS</td>       <th>  Log-Likelihood:    </th> <td> -2683.8</td>\n",
       "</tr>\n",
       "<tr>\n",
       "  <th>Date:</th>            <td>Mon, 26 Oct 2020</td> <th>  Deviance:          </th> <td>  5367.6</td>\n",
       "</tr>\n",
       "<tr>\n",
       "  <th>Time:</th>                <td>21:18:30</td>     <th>  Pearson chi2:      </th> <td>6.85e+03</td>\n",
       "</tr>\n",
       "<tr>\n",
       "  <th>No. Iterations:</th>          <td>6</td>        <th>                     </th>     <td> </td>   \n",
       "</tr>\n",
       "<tr>\n",
       "  <th>Covariance Type:</th>     <td>nonrobust</td>    <th>                     </th>     <td> </td>   \n",
       "</tr>\n",
       "</table>\n",
       "<table class=\"simpletable\">\n",
       "<tr>\n",
       "                          <td></td>                            <th>coef</th>     <th>std err</th>      <th>z</th>      <th>P>|z|</th>  <th>[0.025</th>    <th>0.975]</th>  \n",
       "</tr>\n",
       "<tr>\n",
       "  <th>const</th>                                            <td>   -0.8298</td> <td>    0.132</td> <td>   -6.307</td> <td> 0.000</td> <td>   -1.088</td> <td>   -0.572</td>\n",
       "</tr>\n",
       "<tr>\n",
       "  <th>Total Time Spent on Website</th>                      <td>    1.1038</td> <td>    0.040</td> <td>   27.663</td> <td> 0.000</td> <td>    1.026</td> <td>    1.182</td>\n",
       "</tr>\n",
       "<tr>\n",
       "  <th>Lead_Origin_Landing Page Submission</th>              <td>   -1.2358</td> <td>    0.127</td> <td>   -9.718</td> <td> 0.000</td> <td>   -1.485</td> <td>   -0.987</td>\n",
       "</tr>\n",
       "<tr>\n",
       "  <th>Lead_Origin_Lead Add Form</th>                        <td>    5.4376</td> <td>    0.646</td> <td>    8.423</td> <td> 0.000</td> <td>    4.172</td> <td>    6.703</td>\n",
       "</tr>\n",
       "<tr>\n",
       "  <th>Lead_Source_Olark Chat</th>                           <td>    0.9687</td> <td>    0.121</td> <td>    8.021</td> <td> 0.000</td> <td>    0.732</td> <td>    1.205</td>\n",
       "</tr>\n",
       "<tr>\n",
       "  <th>Lead_Source_Others</th>                               <td>    0.1085</td> <td>    0.258</td> <td>    0.420</td> <td> 0.675</td> <td>   -0.398</td> <td>    0.615</td>\n",
       "</tr>\n",
       "<tr>\n",
       "  <th>Lead_Source_Reference</th>                            <td>   -1.7707</td> <td>    0.690</td> <td>   -2.568</td> <td> 0.010</td> <td>   -3.122</td> <td>   -0.419</td>\n",
       "</tr>\n",
       "<tr>\n",
       "  <th>Specialization_Banking, Investment And Insurance</th> <td>    0.4009</td> <td>    0.178</td> <td>    2.256</td> <td> 0.024</td> <td>    0.053</td> <td>    0.749</td>\n",
       "</tr>\n",
       "<tr>\n",
       "  <th>Specialization_Not Specified</th>                     <td>   -1.3318</td> <td>    0.123</td> <td>  -10.790</td> <td> 0.000</td> <td>   -1.574</td> <td>   -1.090</td>\n",
       "</tr>\n",
       "<tr>\n",
       "  <th>Last Notable Activity_Email Opened</th>               <td>    0.7668</td> <td>    0.085</td> <td>    9.017</td> <td> 0.000</td> <td>    0.600</td> <td>    0.934</td>\n",
       "</tr>\n",
       "<tr>\n",
       "  <th>Last Notable Activity_Other Notable Activity</th>     <td>    0.6703</td> <td>    0.179</td> <td>    3.740</td> <td> 0.000</td> <td>    0.319</td> <td>    1.021</td>\n",
       "</tr>\n",
       "<tr>\n",
       "  <th>Last Notable Activity_Page Visited on Website</th>    <td>    0.3561</td> <td>    0.202</td> <td>    1.767</td> <td> 0.077</td> <td>   -0.039</td> <td>    0.751</td>\n",
       "</tr>\n",
       "<tr>\n",
       "  <th>Last Notable Activity_SMS Sent</th>                   <td>    2.0809</td> <td>    0.093</td> <td>   22.464</td> <td> 0.000</td> <td>    1.899</td> <td>    2.262</td>\n",
       "</tr>\n",
       "<tr>\n",
       "  <th>Current_Ocupation_Working Professional</th>           <td>    2.7129</td> <td>    0.197</td> <td>   13.782</td> <td> 0.000</td> <td>    2.327</td> <td>    3.099</td>\n",
       "</tr>\n",
       "</table>"
      ],
      "text/plain": [
       "<class 'statsmodels.iolib.summary.Summary'>\n",
       "\"\"\"\n",
       "                 Generalized Linear Model Regression Results                  \n",
       "==============================================================================\n",
       "Dep. Variable:              Converted   No. Observations:                 6351\n",
       "Model:                            GLM   Df Residuals:                     6337\n",
       "Model Family:                Binomial   Df Model:                           13\n",
       "Link Function:                  logit   Scale:                          1.0000\n",
       "Method:                          IRLS   Log-Likelihood:                -2683.8\n",
       "Date:                Mon, 26 Oct 2020   Deviance:                       5367.6\n",
       "Time:                        21:18:30   Pearson chi2:                 6.85e+03\n",
       "No. Iterations:                     6                                         \n",
       "Covariance Type:            nonrobust                                         \n",
       "====================================================================================================================\n",
       "                                                       coef    std err          z      P>|z|      [0.025      0.975]\n",
       "--------------------------------------------------------------------------------------------------------------------\n",
       "const                                               -0.8298      0.132     -6.307      0.000      -1.088      -0.572\n",
       "Total Time Spent on Website                          1.1038      0.040     27.663      0.000       1.026       1.182\n",
       "Lead_Origin_Landing Page Submission                 -1.2358      0.127     -9.718      0.000      -1.485      -0.987\n",
       "Lead_Origin_Lead Add Form                            5.4376      0.646      8.423      0.000       4.172       6.703\n",
       "Lead_Source_Olark Chat                               0.9687      0.121      8.021      0.000       0.732       1.205\n",
       "Lead_Source_Others                                   0.1085      0.258      0.420      0.675      -0.398       0.615\n",
       "Lead_Source_Reference                               -1.7707      0.690     -2.568      0.010      -3.122      -0.419\n",
       "Specialization_Banking, Investment And Insurance     0.4009      0.178      2.256      0.024       0.053       0.749\n",
       "Specialization_Not Specified                        -1.3318      0.123    -10.790      0.000      -1.574      -1.090\n",
       "Last Notable Activity_Email Opened                   0.7668      0.085      9.017      0.000       0.600       0.934\n",
       "Last Notable Activity_Other Notable Activity         0.6703      0.179      3.740      0.000       0.319       1.021\n",
       "Last Notable Activity_Page Visited on Website        0.3561      0.202      1.767      0.077      -0.039       0.751\n",
       "Last Notable Activity_SMS Sent                       2.0809      0.093     22.464      0.000       1.899       2.262\n",
       "Current_Ocupation_Working Professional               2.7129      0.197     13.782      0.000       2.327       3.099\n",
       "====================================================================================================================\n",
       "\"\"\""
      ]
     },
     "execution_count": 277,
     "metadata": {},
     "output_type": "execute_result"
    }
   ],
   "source": [
    "X_train_sm = sm.add_constant(X_train[columns2keep])\n",
    "logm2 = sm.GLM(y_train,X_train_sm, family = sm.families.Binomial())\n",
    "res = logm2.fit()\n",
    "res.summary()"
   ]
  },
  {
   "cell_type": "markdown",
   "metadata": {},
   "source": [
    "**Looking at the p-values, it looks like some variables aren't really significant, in the presence of other variables**\n",
    "\n",
    "- Last Notable Activity_Page Visited on Website"
   ]
  },
  {
   "cell_type": "code",
   "execution_count": 278,
   "metadata": {},
   "outputs": [
    {
     "name": "stdout",
     "output_type": "stream",
     "text": [
      "                                            Features   VIF\n",
      "2                          Lead_Origin_Lead Add Form  7.48\n",
      "5                              Lead_Source_Reference  6.70\n",
      "7                       Specialization_Not Specified  2.07\n",
      "3                             Lead_Source_Olark Chat  1.95\n",
      "1                Lead_Origin_Landing Page Submission  1.91\n",
      "4                                 Lead_Source_Others  1.87\n",
      "8                 Last Notable Activity_Email Opened  1.69\n",
      "11                    Last Notable Activity_SMS Sent  1.62\n",
      "0                        Total Time Spent on Website  1.31\n",
      "12            Current_Ocupation_Working Professional  1.19\n",
      "9       Last Notable Activity_Other Notable Activity  1.08\n",
      "10     Last Notable Activity_Page Visited on Website  1.07\n",
      "6   Specialization_Banking, Investment And Insurance  1.06\n"
     ]
    }
   ],
   "source": [
    "vif_show(X_train[columns2keep])"
   ]
  },
  {
   "cell_type": "markdown",
   "metadata": {},
   "source": [
    "**The P-value of \"Last Notable Activity_Page Visited on Website\" is very high, so removing it from dataset.**"
   ]
  },
  {
   "cell_type": "code",
   "execution_count": 279,
   "metadata": {},
   "outputs": [],
   "source": [
    "columns2keep = columns2keep.drop('Last Notable Activity_Page Visited on Website',1)"
   ]
  },
  {
   "cell_type": "code",
   "execution_count": 280,
   "metadata": {},
   "outputs": [
    {
     "data": {
      "text/html": [
       "<table class=\"simpletable\">\n",
       "<caption>Generalized Linear Model Regression Results</caption>\n",
       "<tr>\n",
       "  <th>Dep. Variable:</th>       <td>Converted</td>    <th>  No. Observations:  </th>  <td>  6351</td> \n",
       "</tr>\n",
       "<tr>\n",
       "  <th>Model:</th>                  <td>GLM</td>       <th>  Df Residuals:      </th>  <td>  6338</td> \n",
       "</tr>\n",
       "<tr>\n",
       "  <th>Model Family:</th>        <td>Binomial</td>     <th>  Df Model:          </th>  <td>    12</td> \n",
       "</tr>\n",
       "<tr>\n",
       "  <th>Link Function:</th>         <td>logit</td>      <th>  Scale:             </th> <td>  1.0000</td>\n",
       "</tr>\n",
       "<tr>\n",
       "  <th>Method:</th>                <td>IRLS</td>       <th>  Log-Likelihood:    </th> <td> -2685.3</td>\n",
       "</tr>\n",
       "<tr>\n",
       "  <th>Date:</th>            <td>Mon, 26 Oct 2020</td> <th>  Deviance:          </th> <td>  5370.6</td>\n",
       "</tr>\n",
       "<tr>\n",
       "  <th>Time:</th>                <td>21:18:30</td>     <th>  Pearson chi2:      </th> <td>6.84e+03</td>\n",
       "</tr>\n",
       "<tr>\n",
       "  <th>No. Iterations:</th>          <td>6</td>        <th>                     </th>     <td> </td>   \n",
       "</tr>\n",
       "<tr>\n",
       "  <th>Covariance Type:</th>     <td>nonrobust</td>    <th>                     </th>     <td> </td>   \n",
       "</tr>\n",
       "</table>\n",
       "<table class=\"simpletable\">\n",
       "<tr>\n",
       "                          <td></td>                            <th>coef</th>     <th>std err</th>      <th>z</th>      <th>P>|z|</th>  <th>[0.025</th>    <th>0.975]</th>  \n",
       "</tr>\n",
       "<tr>\n",
       "  <th>const</th>                                            <td>   -0.7982</td> <td>    0.130</td> <td>   -6.136</td> <td> 0.000</td> <td>   -1.053</td> <td>   -0.543</td>\n",
       "</tr>\n",
       "<tr>\n",
       "  <th>Total Time Spent on Website</th>                      <td>    1.1037</td> <td>    0.040</td> <td>   27.658</td> <td> 0.000</td> <td>    1.025</td> <td>    1.182</td>\n",
       "</tr>\n",
       "<tr>\n",
       "  <th>Lead_Origin_Landing Page Submission</th>              <td>   -1.2315</td> <td>    0.127</td> <td>   -9.698</td> <td> 0.000</td> <td>   -1.480</td> <td>   -0.983</td>\n",
       "</tr>\n",
       "<tr>\n",
       "  <th>Lead_Origin_Lead Add Form</th>                        <td>    5.4296</td> <td>    0.645</td> <td>    8.415</td> <td> 0.000</td> <td>    4.165</td> <td>    6.694</td>\n",
       "</tr>\n",
       "<tr>\n",
       "  <th>Lead_Source_Olark Chat</th>                           <td>    0.9628</td> <td>    0.121</td> <td>    7.979</td> <td> 0.000</td> <td>    0.726</td> <td>    1.199</td>\n",
       "</tr>\n",
       "<tr>\n",
       "  <th>Lead_Source_Others</th>                               <td>    0.1127</td> <td>    0.258</td> <td>    0.437</td> <td> 0.662</td> <td>   -0.393</td> <td>    0.619</td>\n",
       "</tr>\n",
       "<tr>\n",
       "  <th>Lead_Source_Reference</th>                            <td>   -1.7715</td> <td>    0.689</td> <td>   -2.570</td> <td> 0.010</td> <td>   -3.122</td> <td>   -0.421</td>\n",
       "</tr>\n",
       "<tr>\n",
       "  <th>Specialization_Banking, Investment And Insurance</th> <td>    0.3967</td> <td>    0.178</td> <td>    2.232</td> <td> 0.026</td> <td>    0.048</td> <td>    0.745</td>\n",
       "</tr>\n",
       "<tr>\n",
       "  <th>Specialization_Not Specified</th>                     <td>   -1.3328</td> <td>    0.123</td> <td>  -10.812</td> <td> 0.000</td> <td>   -1.574</td> <td>   -1.091</td>\n",
       "</tr>\n",
       "<tr>\n",
       "  <th>Last Notable Activity_Email Opened</th>               <td>    0.7344</td> <td>    0.083</td> <td>    8.875</td> <td> 0.000</td> <td>    0.572</td> <td>    0.897</td>\n",
       "</tr>\n",
       "<tr>\n",
       "  <th>Last Notable Activity_Other Notable Activity</th>     <td>    0.6384</td> <td>    0.178</td> <td>    3.583</td> <td> 0.000</td> <td>    0.289</td> <td>    0.988</td>\n",
       "</tr>\n",
       "<tr>\n",
       "  <th>Last Notable Activity_SMS Sent</th>                   <td>    2.0483</td> <td>    0.090</td> <td>   22.639</td> <td> 0.000</td> <td>    1.871</td> <td>    2.226</td>\n",
       "</tr>\n",
       "<tr>\n",
       "  <th>Current_Ocupation_Working Professional</th>           <td>    2.7097</td> <td>    0.197</td> <td>   13.757</td> <td> 0.000</td> <td>    2.324</td> <td>    3.096</td>\n",
       "</tr>\n",
       "</table>"
      ],
      "text/plain": [
       "<class 'statsmodels.iolib.summary.Summary'>\n",
       "\"\"\"\n",
       "                 Generalized Linear Model Regression Results                  \n",
       "==============================================================================\n",
       "Dep. Variable:              Converted   No. Observations:                 6351\n",
       "Model:                            GLM   Df Residuals:                     6338\n",
       "Model Family:                Binomial   Df Model:                           12\n",
       "Link Function:                  logit   Scale:                          1.0000\n",
       "Method:                          IRLS   Log-Likelihood:                -2685.3\n",
       "Date:                Mon, 26 Oct 2020   Deviance:                       5370.6\n",
       "Time:                        21:18:30   Pearson chi2:                 6.84e+03\n",
       "No. Iterations:                     6                                         \n",
       "Covariance Type:            nonrobust                                         \n",
       "====================================================================================================================\n",
       "                                                       coef    std err          z      P>|z|      [0.025      0.975]\n",
       "--------------------------------------------------------------------------------------------------------------------\n",
       "const                                               -0.7982      0.130     -6.136      0.000      -1.053      -0.543\n",
       "Total Time Spent on Website                          1.1037      0.040     27.658      0.000       1.025       1.182\n",
       "Lead_Origin_Landing Page Submission                 -1.2315      0.127     -9.698      0.000      -1.480      -0.983\n",
       "Lead_Origin_Lead Add Form                            5.4296      0.645      8.415      0.000       4.165       6.694\n",
       "Lead_Source_Olark Chat                               0.9628      0.121      7.979      0.000       0.726       1.199\n",
       "Lead_Source_Others                                   0.1127      0.258      0.437      0.662      -0.393       0.619\n",
       "Lead_Source_Reference                               -1.7715      0.689     -2.570      0.010      -3.122      -0.421\n",
       "Specialization_Banking, Investment And Insurance     0.3967      0.178      2.232      0.026       0.048       0.745\n",
       "Specialization_Not Specified                        -1.3328      0.123    -10.812      0.000      -1.574      -1.091\n",
       "Last Notable Activity_Email Opened                   0.7344      0.083      8.875      0.000       0.572       0.897\n",
       "Last Notable Activity_Other Notable Activity         0.6384      0.178      3.583      0.000       0.289       0.988\n",
       "Last Notable Activity_SMS Sent                       2.0483      0.090     22.639      0.000       1.871       2.226\n",
       "Current_Ocupation_Working Professional               2.7097      0.197     13.757      0.000       2.324       3.096\n",
       "====================================================================================================================\n",
       "\"\"\""
      ]
     },
     "execution_count": 280,
     "metadata": {},
     "output_type": "execute_result"
    }
   ],
   "source": [
    "X_train_sm = sm.add_constant(X_train[columns2keep])\n",
    "logm2 = sm.GLM(y_train,X_train_sm, family = sm.families.Binomial())\n",
    "res = logm2.fit()\n",
    "res.summary()"
   ]
  },
  {
   "cell_type": "markdown",
   "metadata": {},
   "source": [
    "**The P-value of \"Specialization_Banking, Investment And Insurance\" is high, so we should remove it from dataset.**"
   ]
  },
  {
   "cell_type": "code",
   "execution_count": 281,
   "metadata": {},
   "outputs": [
    {
     "name": "stdout",
     "output_type": "stream",
     "text": [
      "                                            Features   VIF\n",
      "2                          Lead_Origin_Lead Add Form  7.48\n",
      "5                              Lead_Source_Reference  6.70\n",
      "7                       Specialization_Not Specified  2.04\n",
      "3                             Lead_Source_Olark Chat  1.95\n",
      "4                                 Lead_Source_Others  1.87\n",
      "1                Lead_Origin_Landing Page Submission  1.81\n",
      "8                 Last Notable Activity_Email Opened  1.64\n",
      "10                    Last Notable Activity_SMS Sent  1.59\n",
      "0                        Total Time Spent on Website  1.31\n",
      "11            Current_Ocupation_Working Professional  1.19\n",
      "9       Last Notable Activity_Other Notable Activity  1.07\n",
      "6   Specialization_Banking, Investment And Insurance  1.06\n"
     ]
    }
   ],
   "source": [
    "vif_show(X_train[columns2keep])"
   ]
  },
  {
   "cell_type": "markdown",
   "metadata": {},
   "source": [
    "**The P-value of \"Specialization_Banking, Investment And Insurance\t\" is very high, so removing it from dataset.**"
   ]
  },
  {
   "cell_type": "code",
   "execution_count": 282,
   "metadata": {},
   "outputs": [],
   "source": [
    "columns2keep = columns2keep.drop('Specialization_Banking, Investment And Insurance',1)"
   ]
  },
  {
   "cell_type": "code",
   "execution_count": 283,
   "metadata": {},
   "outputs": [
    {
     "data": {
      "text/html": [
       "<table class=\"simpletable\">\n",
       "<caption>Generalized Linear Model Regression Results</caption>\n",
       "<tr>\n",
       "  <th>Dep. Variable:</th>       <td>Converted</td>    <th>  No. Observations:  </th>  <td>  6351</td> \n",
       "</tr>\n",
       "<tr>\n",
       "  <th>Model:</th>                  <td>GLM</td>       <th>  Df Residuals:      </th>  <td>  6339</td> \n",
       "</tr>\n",
       "<tr>\n",
       "  <th>Model Family:</th>        <td>Binomial</td>     <th>  Df Model:          </th>  <td>    11</td> \n",
       "</tr>\n",
       "<tr>\n",
       "  <th>Link Function:</th>         <td>logit</td>      <th>  Scale:             </th> <td>  1.0000</td>\n",
       "</tr>\n",
       "<tr>\n",
       "  <th>Method:</th>                <td>IRLS</td>       <th>  Log-Likelihood:    </th> <td> -2687.8</td>\n",
       "</tr>\n",
       "<tr>\n",
       "  <th>Date:</th>            <td>Mon, 26 Oct 2020</td> <th>  Deviance:          </th> <td>  5375.5</td>\n",
       "</tr>\n",
       "<tr>\n",
       "  <th>Time:</th>                <td>21:18:30</td>     <th>  Pearson chi2:      </th> <td>6.84e+03</td>\n",
       "</tr>\n",
       "<tr>\n",
       "  <th>No. Iterations:</th>          <td>6</td>        <th>                     </th>     <td> </td>   \n",
       "</tr>\n",
       "<tr>\n",
       "  <th>Covariance Type:</th>     <td>nonrobust</td>    <th>                     </th>     <td> </td>   \n",
       "</tr>\n",
       "</table>\n",
       "<table class=\"simpletable\">\n",
       "<tr>\n",
       "                        <td></td>                          <th>coef</th>     <th>std err</th>      <th>z</th>      <th>P>|z|</th>  <th>[0.025</th>    <th>0.975]</th>  \n",
       "</tr>\n",
       "<tr>\n",
       "  <th>const</th>                                        <td>   -0.7720</td> <td>    0.130</td> <td>   -5.960</td> <td> 0.000</td> <td>   -1.026</td> <td>   -0.518</td>\n",
       "</tr>\n",
       "<tr>\n",
       "  <th>Total Time Spent on Website</th>                  <td>    1.1037</td> <td>    0.040</td> <td>   27.671</td> <td> 0.000</td> <td>    1.026</td> <td>    1.182</td>\n",
       "</tr>\n",
       "<tr>\n",
       "  <th>Lead_Origin_Landing Page Submission</th>          <td>   -1.2349</td> <td>    0.127</td> <td>   -9.723</td> <td> 0.000</td> <td>   -1.484</td> <td>   -0.986</td>\n",
       "</tr>\n",
       "<tr>\n",
       "  <th>Lead_Origin_Lead Add Form</th>                    <td>    5.4288</td> <td>    0.645</td> <td>    8.414</td> <td> 0.000</td> <td>    4.164</td> <td>    6.693</td>\n",
       "</tr>\n",
       "<tr>\n",
       "  <th>Lead_Source_Olark Chat</th>                       <td>    0.9648</td> <td>    0.121</td> <td>    7.997</td> <td> 0.000</td> <td>    0.728</td> <td>    1.201</td>\n",
       "</tr>\n",
       "<tr>\n",
       "  <th>Lead_Source_Others</th>                           <td>    0.1128</td> <td>    0.258</td> <td>    0.437</td> <td> 0.662</td> <td>   -0.393</td> <td>    0.618</td>\n",
       "</tr>\n",
       "<tr>\n",
       "  <th>Lead_Source_Reference</th>                        <td>   -1.7729</td> <td>    0.689</td> <td>   -2.572</td> <td> 0.010</td> <td>   -3.124</td> <td>   -0.422</td>\n",
       "</tr>\n",
       "<tr>\n",
       "  <th>Specialization_Not Specified</th>                 <td>   -1.3603</td> <td>    0.123</td> <td>  -11.084</td> <td> 0.000</td> <td>   -1.601</td> <td>   -1.120</td>\n",
       "</tr>\n",
       "<tr>\n",
       "  <th>Last Notable Activity_Email Opened</th>           <td>    0.7339</td> <td>    0.083</td> <td>    8.874</td> <td> 0.000</td> <td>    0.572</td> <td>    0.896</td>\n",
       "</tr>\n",
       "<tr>\n",
       "  <th>Last Notable Activity_Other Notable Activity</th> <td>    0.6418</td> <td>    0.178</td> <td>    3.602</td> <td> 0.000</td> <td>    0.293</td> <td>    0.991</td>\n",
       "</tr>\n",
       "<tr>\n",
       "  <th>Last Notable Activity_SMS Sent</th>               <td>    2.0506</td> <td>    0.090</td> <td>   22.676</td> <td> 0.000</td> <td>    1.873</td> <td>    2.228</td>\n",
       "</tr>\n",
       "<tr>\n",
       "  <th>Current_Ocupation_Working Professional</th>       <td>    2.7021</td> <td>    0.197</td> <td>   13.730</td> <td> 0.000</td> <td>    2.316</td> <td>    3.088</td>\n",
       "</tr>\n",
       "</table>"
      ],
      "text/plain": [
       "<class 'statsmodels.iolib.summary.Summary'>\n",
       "\"\"\"\n",
       "                 Generalized Linear Model Regression Results                  \n",
       "==============================================================================\n",
       "Dep. Variable:              Converted   No. Observations:                 6351\n",
       "Model:                            GLM   Df Residuals:                     6339\n",
       "Model Family:                Binomial   Df Model:                           11\n",
       "Link Function:                  logit   Scale:                          1.0000\n",
       "Method:                          IRLS   Log-Likelihood:                -2687.8\n",
       "Date:                Mon, 26 Oct 2020   Deviance:                       5375.5\n",
       "Time:                        21:18:30   Pearson chi2:                 6.84e+03\n",
       "No. Iterations:                     6                                         \n",
       "Covariance Type:            nonrobust                                         \n",
       "================================================================================================================\n",
       "                                                   coef    std err          z      P>|z|      [0.025      0.975]\n",
       "----------------------------------------------------------------------------------------------------------------\n",
       "const                                           -0.7720      0.130     -5.960      0.000      -1.026      -0.518\n",
       "Total Time Spent on Website                      1.1037      0.040     27.671      0.000       1.026       1.182\n",
       "Lead_Origin_Landing Page Submission             -1.2349      0.127     -9.723      0.000      -1.484      -0.986\n",
       "Lead_Origin_Lead Add Form                        5.4288      0.645      8.414      0.000       4.164       6.693\n",
       "Lead_Source_Olark Chat                           0.9648      0.121      7.997      0.000       0.728       1.201\n",
       "Lead_Source_Others                               0.1128      0.258      0.437      0.662      -0.393       0.618\n",
       "Lead_Source_Reference                           -1.7729      0.689     -2.572      0.010      -3.124      -0.422\n",
       "Specialization_Not Specified                    -1.3603      0.123    -11.084      0.000      -1.601      -1.120\n",
       "Last Notable Activity_Email Opened               0.7339      0.083      8.874      0.000       0.572       0.896\n",
       "Last Notable Activity_Other Notable Activity     0.6418      0.178      3.602      0.000       0.293       0.991\n",
       "Last Notable Activity_SMS Sent                   2.0506      0.090     22.676      0.000       1.873       2.228\n",
       "Current_Ocupation_Working Professional           2.7021      0.197     13.730      0.000       2.316       3.088\n",
       "================================================================================================================\n",
       "\"\"\""
      ]
     },
     "execution_count": 283,
     "metadata": {},
     "output_type": "execute_result"
    }
   ],
   "source": [
    "X_train_sm = sm.add_constant(X_train[columns2keep])\n",
    "logm2 = sm.GLM(y_train,X_train_sm, family = sm.families.Binomial())\n",
    "res = logm2.fit()\n",
    "res.summary()"
   ]
  },
  {
   "cell_type": "markdown",
   "metadata": {},
   "source": [
    "**Looking at the p-values, it looks like all variables are significant, in the presence of other variables**"
   ]
  },
  {
   "cell_type": "code",
   "execution_count": 284,
   "metadata": {},
   "outputs": [
    {
     "name": "stdout",
     "output_type": "stream",
     "text": [
      "                                        Features   VIF\n",
      "2                      Lead_Origin_Lead Add Form  7.48\n",
      "5                          Lead_Source_Reference  6.69\n",
      "6                   Specialization_Not Specified  2.04\n",
      "3                         Lead_Source_Olark Chat  1.95\n",
      "4                             Lead_Source_Others  1.87\n",
      "1            Lead_Origin_Landing Page Submission  1.78\n",
      "7             Last Notable Activity_Email Opened  1.64\n",
      "9                 Last Notable Activity_SMS Sent  1.58\n",
      "0                    Total Time Spent on Website  1.31\n",
      "10        Current_Ocupation_Working Professional  1.19\n",
      "8   Last Notable Activity_Other Notable Activity  1.07\n"
     ]
    }
   ],
   "source": [
    "vif_show(X_train[columns2keep])"
   ]
  },
  {
   "cell_type": "markdown",
   "metadata": {},
   "source": [
    "**Variables have good value of VIF. So we need proceed with same**"
   ]
  },
  {
   "cell_type": "markdown",
   "metadata": {},
   "source": [
    "### Get the predicted values on the train set"
   ]
  },
  {
   "cell_type": "code",
   "execution_count": 285,
   "metadata": {},
   "outputs": [
    {
     "data": {
      "text/plain": [
       "Prospect ID\n",
       "22b1f1dc-97ad-4477-b123-579e9194a128    0.091895\n",
       "525bc35d-8098-42fb-836b-4389cef11f14    0.253592\n",
       "0f468d47-c064-455e-b8bc-74843b6a2c6a    0.462438\n",
       "9b6d6cb4-d943-47cd-b708-e09083a76f94    0.422756\n",
       "493597b0-14bf-446b-b11b-3f0e38c424ae    0.418815\n",
       "b67b2aef-02c7-4d47-970a-b84b2ef8d15a    0.842190\n",
       "db566183-68b5-4ba1-a652-1e0f8eeced54    0.125255\n",
       "ad74f63b-0102-4c8f-847a-71bfbf31e761    0.644555\n",
       "ae1e7ec5-1462-46d7-b237-0bba91186ad1    0.100934\n",
       "1521f18e-70bb-4658-8328-019ded734ad0    0.046684\n",
       "dtype: float64"
      ]
     },
     "execution_count": 285,
     "metadata": {},
     "output_type": "execute_result"
    }
   ],
   "source": [
    "# Getting the predicted values on the train set\n",
    "y_train_pred = res.predict(X_train_sm)\n",
    "y_train_pred[:10]"
   ]
  },
  {
   "cell_type": "markdown",
   "metadata": {},
   "source": [
    "##### Creating a dataframe the predicted probabilities"
   ]
  },
  {
   "cell_type": "code",
   "execution_count": 286,
   "metadata": {},
   "outputs": [
    {
     "data": {
      "text/html": [
       "<div>\n",
       "<style scoped>\n",
       "    .dataframe tbody tr th:only-of-type {\n",
       "        vertical-align: middle;\n",
       "    }\n",
       "\n",
       "    .dataframe tbody tr th {\n",
       "        vertical-align: top;\n",
       "    }\n",
       "\n",
       "    .dataframe thead th {\n",
       "        text-align: right;\n",
       "    }\n",
       "</style>\n",
       "<table border=\"1\" class=\"dataframe\">\n",
       "  <thead>\n",
       "    <tr style=\"text-align: right;\">\n",
       "      <th></th>\n",
       "      <th>Converted</th>\n",
       "      <th>Converted_prob</th>\n",
       "    </tr>\n",
       "    <tr>\n",
       "      <th>Prospect ID</th>\n",
       "      <th></th>\n",
       "      <th></th>\n",
       "    </tr>\n",
       "  </thead>\n",
       "  <tbody>\n",
       "    <tr>\n",
       "      <th>22b1f1dc-97ad-4477-b123-579e9194a128</th>\n",
       "      <td>0.0</td>\n",
       "      <td>0.091895</td>\n",
       "    </tr>\n",
       "    <tr>\n",
       "      <th>525bc35d-8098-42fb-836b-4389cef11f14</th>\n",
       "      <td>0.0</td>\n",
       "      <td>0.253592</td>\n",
       "    </tr>\n",
       "    <tr>\n",
       "      <th>0f468d47-c064-455e-b8bc-74843b6a2c6a</th>\n",
       "      <td>0.0</td>\n",
       "      <td>0.462438</td>\n",
       "    </tr>\n",
       "    <tr>\n",
       "      <th>9b6d6cb4-d943-47cd-b708-e09083a76f94</th>\n",
       "      <td>1.0</td>\n",
       "      <td>0.422756</td>\n",
       "    </tr>\n",
       "    <tr>\n",
       "      <th>493597b0-14bf-446b-b11b-3f0e38c424ae</th>\n",
       "      <td>0.0</td>\n",
       "      <td>0.418815</td>\n",
       "    </tr>\n",
       "  </tbody>\n",
       "</table>\n",
       "</div>"
      ],
      "text/plain": [
       "                                      Converted  Converted_prob\n",
       "Prospect ID                                                    \n",
       "22b1f1dc-97ad-4477-b123-579e9194a128        0.0        0.091895\n",
       "525bc35d-8098-42fb-836b-4389cef11f14        0.0        0.253592\n",
       "0f468d47-c064-455e-b8bc-74843b6a2c6a        0.0        0.462438\n",
       "9b6d6cb4-d943-47cd-b708-e09083a76f94        1.0        0.422756\n",
       "493597b0-14bf-446b-b11b-3f0e38c424ae        0.0        0.418815"
      ]
     },
     "execution_count": 286,
     "metadata": {},
     "output_type": "execute_result"
    }
   ],
   "source": [
    "y_train_pred_final = pd.DataFrame({'Converted':y_train.values, 'Converted_prob':y_train_pred})\n",
    "y_train_pred_final.head()"
   ]
  },
  {
   "cell_type": "markdown",
   "metadata": {},
   "source": [
    "##### Creating new column 'predicted' with 1 if Converted_prob > 0.5 else 0"
   ]
  },
  {
   "cell_type": "code",
   "execution_count": 287,
   "metadata": {},
   "outputs": [
    {
     "data": {
      "text/html": [
       "<div>\n",
       "<style scoped>\n",
       "    .dataframe tbody tr th:only-of-type {\n",
       "        vertical-align: middle;\n",
       "    }\n",
       "\n",
       "    .dataframe tbody tr th {\n",
       "        vertical-align: top;\n",
       "    }\n",
       "\n",
       "    .dataframe thead th {\n",
       "        text-align: right;\n",
       "    }\n",
       "</style>\n",
       "<table border=\"1\" class=\"dataframe\">\n",
       "  <thead>\n",
       "    <tr style=\"text-align: right;\">\n",
       "      <th></th>\n",
       "      <th>Converted</th>\n",
       "      <th>Converted_prob</th>\n",
       "      <th>Predicted</th>\n",
       "    </tr>\n",
       "    <tr>\n",
       "      <th>Prospect ID</th>\n",
       "      <th></th>\n",
       "      <th></th>\n",
       "      <th></th>\n",
       "    </tr>\n",
       "  </thead>\n",
       "  <tbody>\n",
       "    <tr>\n",
       "      <th>22b1f1dc-97ad-4477-b123-579e9194a128</th>\n",
       "      <td>0.0</td>\n",
       "      <td>0.091895</td>\n",
       "      <td>0</td>\n",
       "    </tr>\n",
       "    <tr>\n",
       "      <th>525bc35d-8098-42fb-836b-4389cef11f14</th>\n",
       "      <td>0.0</td>\n",
       "      <td>0.253592</td>\n",
       "      <td>0</td>\n",
       "    </tr>\n",
       "    <tr>\n",
       "      <th>0f468d47-c064-455e-b8bc-74843b6a2c6a</th>\n",
       "      <td>0.0</td>\n",
       "      <td>0.462438</td>\n",
       "      <td>0</td>\n",
       "    </tr>\n",
       "    <tr>\n",
       "      <th>9b6d6cb4-d943-47cd-b708-e09083a76f94</th>\n",
       "      <td>1.0</td>\n",
       "      <td>0.422756</td>\n",
       "      <td>0</td>\n",
       "    </tr>\n",
       "    <tr>\n",
       "      <th>493597b0-14bf-446b-b11b-3f0e38c424ae</th>\n",
       "      <td>0.0</td>\n",
       "      <td>0.418815</td>\n",
       "      <td>0</td>\n",
       "    </tr>\n",
       "  </tbody>\n",
       "</table>\n",
       "</div>"
      ],
      "text/plain": [
       "                                      Converted  Converted_prob  Predicted\n",
       "Prospect ID                                                               \n",
       "22b1f1dc-97ad-4477-b123-579e9194a128        0.0        0.091895          0\n",
       "525bc35d-8098-42fb-836b-4389cef11f14        0.0        0.253592          0\n",
       "0f468d47-c064-455e-b8bc-74843b6a2c6a        0.0        0.462438          0\n",
       "9b6d6cb4-d943-47cd-b708-e09083a76f94        1.0        0.422756          0\n",
       "493597b0-14bf-446b-b11b-3f0e38c424ae        0.0        0.418815          0"
      ]
     },
     "execution_count": 287,
     "metadata": {},
     "output_type": "execute_result"
    }
   ],
   "source": [
    "y_train_pred_final['Predicted'] = y_train_pred_final.Converted_prob.map(lambda x: 1 if x > 0.5 else 0)\n",
    "y_train_pred_final.head()"
   ]
  },
  {
   "cell_type": "markdown",
   "metadata": {},
   "source": [
    "#### Confusion matrix "
   ]
  },
  {
   "cell_type": "code",
   "execution_count": 288,
   "metadata": {},
   "outputs": [
    {
     "name": "stdout",
     "output_type": "stream",
     "text": [
      "[[3537  391]\n",
      " [ 844 1579]]\n"
     ]
    }
   ],
   "source": [
    "confusion = metrics.confusion_matrix(y_train_pred_final.Converted, y_train_pred_final.Predicted )\n",
    "print(confusion)"
   ]
  },
  {
   "cell_type": "markdown",
   "metadata": {},
   "source": [
    "#### Check Acuracy"
   ]
  },
  {
   "cell_type": "code",
   "execution_count": 289,
   "metadata": {},
   "outputs": [
    {
     "name": "stdout",
     "output_type": "stream",
     "text": [
      "Train Data Accuracy: 0.8055\n"
     ]
    }
   ],
   "source": [
    "# Let's check the overall accuracy.\n",
    "accuracy_train = metrics.accuracy_score(y_train_pred_final.Converted, y_train_pred_final.Predicted)\n",
    "print(\"Train Data Accuracy: \" +str(round(accuracy_train,4)))"
   ]
  },
  {
   "cell_type": "code",
   "execution_count": 290,
   "metadata": {},
   "outputs": [],
   "source": [
    "TP = confusion[1,1] # true positive \n",
    "TN = confusion[0,0] # true negatives\n",
    "FP = confusion[0,1] # false positives\n",
    "FN = confusion[1,0] # false negatives"
   ]
  },
  {
   "cell_type": "code",
   "execution_count": 291,
   "metadata": {},
   "outputs": [],
   "source": [
    "# Calculate sensitivity of our logistic regression model\n",
    "sensitivity_train = TP / float(TP+FN)\n",
    "#calculate specificity\n",
    "specificity_train = TN / float(TN+FP)\n",
    "# Calculate false postive rate - predicting churn when customer does not have churned\n",
    "fpRate_train = FP/ float(TN+FP)\n",
    "# Positive predictive value \n",
    "positive_predictive_train = TP / float(TP+FP)\n",
    "# Negative predictive value\n",
    "ngRate_train = TN / float(TN+ FN)"
   ]
  },
  {
   "cell_type": "code",
   "execution_count": 292,
   "metadata": {},
   "outputs": [
    {
     "name": "stdout",
     "output_type": "stream",
     "text": [
      "Printing all values post optimal cut-off calculation\n",
      "\n",
      "Train Data Accuracy:            0.8055 \n",
      "Train Data Sensitivity:         0.6517 \n",
      "Train Data Specificity:         0.9005 \n",
      "Train Data False postive rate:  0.0995 \n",
      "Train Data Positive predictive: 0.8015 \n",
      "Train Data Negative predictive: 0.8073 \n"
     ]
    }
   ],
   "source": [
    "print(\"Printing all values post optimal cut-off calculation\\n\")\n",
    "print(\"Train Data Accuracy:            {} \".format(round(accuracy_train,4)))\n",
    "print(\"Train Data Sensitivity:         {} \".format(round(sensitivity_train,4)))\n",
    "print(\"Train Data Specificity:         {} \".format(round(specificity_train,4)))\n",
    "print(\"Train Data False postive rate:  {} \".format(round(fpRate_train,4)))\n",
    "print(\"Train Data Positive predictive: {} \".format(round(positive_predictive_train,4)))\n",
    "print(\"Train Data Negative predictive: {} \".format(round(ngRate_train,4)))"
   ]
  },
  {
   "cell_type": "markdown",
   "metadata": {},
   "source": [
    "###  Plotting the ROC Curve"
   ]
  },
  {
   "cell_type": "code",
   "execution_count": 293,
   "metadata": {},
   "outputs": [],
   "source": [
    "fpr, tpr, thresholds = metrics.roc_curve( y_train_pred_final.Converted, y_train_pred_final.Converted_prob, \n",
    "                                         drop_intermediate = False )"
   ]
  },
  {
   "cell_type": "code",
   "execution_count": 294,
   "metadata": {},
   "outputs": [],
   "source": [
    "def draw_roc( actual, probs ):\n",
    "    fpr, tpr, thresholds = metrics.roc_curve( actual, probs,\n",
    "                                              drop_intermediate = False )\n",
    "    auc_score = metrics.roc_auc_score( actual, probs )\n",
    "    plt.figure(figsize=(5, 5))\n",
    "    plt.plot( fpr, tpr, label='ROC curve (area = %0.2f)' % auc_score )\n",
    "    plt.plot([0, 1], [0, 1], 'k--')\n",
    "    plt.xlim([0.0, 1.0])\n",
    "    plt.ylim([0.0, 1.05])\n",
    "    plt.xlabel('False Positive Rate or [1 - True Negative Rate]')\n",
    "    plt.ylabel('True Positive Rate')\n",
    "    plt.title('Receiver operating characteristic example')\n",
    "    plt.legend(loc=\"lower right\")\n",
    "    plt.show()\n",
    "    return None"
   ]
  },
  {
   "cell_type": "code",
   "execution_count": 295,
   "metadata": {},
   "outputs": [
    {
     "data": {
      "image/png": "[encoded data removed]",
      "text/plain": [
       "<Figure size 360x360 with 1 Axes>"
      ]
     },
     "metadata": {
      "needs_background": "light"
     },
     "output_type": "display_data"
    }
   ],
   "source": [
    "draw_roc(y_train_pred_final.Converted, y_train_pred_final.Converted_prob)"
   ]
  },
  {
   "cell_type": "markdown",
   "metadata": {},
   "source": [
    "### Finding Optimal Cutoff Point"
   ]
  },
  {
   "cell_type": "markdown",
   "metadata": {},
   "source": [
    "- Optimal cutoff probability is that prob where we get balanced sensitivity and specificity"
   ]
  },
  {
   "cell_type": "code",
   "execution_count": 296,
   "metadata": {},
   "outputs": [
    {
     "data": {
      "text/html": [
       "<div>\n",
       "<style scoped>\n",
       "    .dataframe tbody tr th:only-of-type {\n",
       "        vertical-align: middle;\n",
       "    }\n",
       "\n",
       "    .dataframe tbody tr th {\n",
       "        vertical-align: top;\n",
       "    }\n",
       "\n",
       "    .dataframe thead th {\n",
       "        text-align: right;\n",
       "    }\n",
       "</style>\n",
       "<table border=\"1\" class=\"dataframe\">\n",
       "  <thead>\n",
       "    <tr style=\"text-align: right;\">\n",
       "      <th></th>\n",
       "      <th>Converted</th>\n",
       "      <th>Converted_prob</th>\n",
       "      <th>Predicted</th>\n",
       "      <th>0.0</th>\n",
       "      <th>0.1</th>\n",
       "      <th>0.2</th>\n",
       "      <th>0.3</th>\n",
       "      <th>0.4</th>\n",
       "      <th>0.5</th>\n",
       "      <th>0.6</th>\n",
       "      <th>0.7</th>\n",
       "      <th>0.8</th>\n",
       "      <th>0.9</th>\n",
       "    </tr>\n",
       "    <tr>\n",
       "      <th>Prospect ID</th>\n",
       "      <th></th>\n",
       "      <th></th>\n",
       "      <th></th>\n",
       "      <th></th>\n",
       "      <th></th>\n",
       "      <th></th>\n",
       "      <th></th>\n",
       "      <th></th>\n",
       "      <th></th>\n",
       "      <th></th>\n",
       "      <th></th>\n",
       "      <th></th>\n",
       "      <th></th>\n",
       "    </tr>\n",
       "  </thead>\n",
       "  <tbody>\n",
       "    <tr>\n",
       "      <th>22b1f1dc-97ad-4477-b123-579e9194a128</th>\n",
       "      <td>0.0</td>\n",
       "      <td>0.091895</td>\n",
       "      <td>0</td>\n",
       "      <td>1</td>\n",
       "      <td>0</td>\n",
       "      <td>0</td>\n",
       "      <td>0</td>\n",
       "      <td>0</td>\n",
       "      <td>0</td>\n",
       "      <td>0</td>\n",
       "      <td>0</td>\n",
       "      <td>0</td>\n",
       "      <td>0</td>\n",
       "    </tr>\n",
       "    <tr>\n",
       "      <th>525bc35d-8098-42fb-836b-4389cef11f14</th>\n",
       "      <td>0.0</td>\n",
       "      <td>0.253592</td>\n",
       "      <td>0</td>\n",
       "      <td>1</td>\n",
       "      <td>1</td>\n",
       "      <td>1</td>\n",
       "      <td>0</td>\n",
       "      <td>0</td>\n",
       "      <td>0</td>\n",
       "      <td>0</td>\n",
       "      <td>0</td>\n",
       "      <td>0</td>\n",
       "      <td>0</td>\n",
       "    </tr>\n",
       "    <tr>\n",
       "      <th>0f468d47-c064-455e-b8bc-74843b6a2c6a</th>\n",
       "      <td>0.0</td>\n",
       "      <td>0.462438</td>\n",
       "      <td>0</td>\n",
       "      <td>1</td>\n",
       "      <td>1</td>\n",
       "      <td>1</td>\n",
       "      <td>1</td>\n",
       "      <td>1</td>\n",
       "      <td>0</td>\n",
       "      <td>0</td>\n",
       "      <td>0</td>\n",
       "      <td>0</td>\n",
       "      <td>0</td>\n",
       "    </tr>\n",
       "    <tr>\n",
       "      <th>9b6d6cb4-d943-47cd-b708-e09083a76f94</th>\n",
       "      <td>1.0</td>\n",
       "      <td>0.422756</td>\n",
       "      <td>0</td>\n",
       "      <td>1</td>\n",
       "      <td>1</td>\n",
       "      <td>1</td>\n",
       "      <td>1</td>\n",
       "      <td>1</td>\n",
       "      <td>0</td>\n",
       "      <td>0</td>\n",
       "      <td>0</td>\n",
       "      <td>0</td>\n",
       "      <td>0</td>\n",
       "    </tr>\n",
       "    <tr>\n",
       "      <th>493597b0-14bf-446b-b11b-3f0e38c424ae</th>\n",
       "      <td>0.0</td>\n",
       "      <td>0.418815</td>\n",
       "      <td>0</td>\n",
       "      <td>1</td>\n",
       "      <td>1</td>\n",
       "      <td>1</td>\n",
       "      <td>1</td>\n",
       "      <td>1</td>\n",
       "      <td>0</td>\n",
       "      <td>0</td>\n",
       "      <td>0</td>\n",
       "      <td>0</td>\n",
       "      <td>0</td>\n",
       "    </tr>\n",
       "  </tbody>\n",
       "</table>\n",
       "</div>"
      ],
      "text/plain": [
       "                                      Converted  Converted_prob  Predicted  \\\n",
       "Prospect ID                                                                  \n",
       "22b1f1dc-97ad-4477-b123-579e9194a128        0.0        0.091895          0   \n",
       "525bc35d-8098-42fb-836b-4389cef11f14        0.0        0.253592          0   \n",
       "0f468d47-c064-455e-b8bc-74843b6a2c6a        0.0        0.462438          0   \n",
       "9b6d6cb4-d943-47cd-b708-e09083a76f94        1.0        0.422756          0   \n",
       "493597b0-14bf-446b-b11b-3f0e38c424ae        0.0        0.418815          0   \n",
       "\n",
       "                                      0.0  0.1  0.2  0.3  0.4  0.5  0.6  0.7  \\\n",
       "Prospect ID                                                                    \n",
       "22b1f1dc-97ad-4477-b123-579e9194a128    1    0    0    0    0    0    0    0   \n",
       "525bc35d-8098-42fb-836b-4389cef11f14    1    1    1    0    0    0    0    0   \n",
       "0f468d47-c064-455e-b8bc-74843b6a2c6a    1    1    1    1    1    0    0    0   \n",
       "9b6d6cb4-d943-47cd-b708-e09083a76f94    1    1    1    1    1    0    0    0   \n",
       "493597b0-14bf-446b-b11b-3f0e38c424ae    1    1    1    1    1    0    0    0   \n",
       "\n",
       "                                      0.8  0.9  \n",
       "Prospect ID                                     \n",
       "22b1f1dc-97ad-4477-b123-579e9194a128    0    0  \n",
       "525bc35d-8098-42fb-836b-4389cef11f14    0    0  \n",
       "0f468d47-c064-455e-b8bc-74843b6a2c6a    0    0  \n",
       "9b6d6cb4-d943-47cd-b708-e09083a76f94    0    0  \n",
       "493597b0-14bf-446b-b11b-3f0e38c424ae    0    0  "
      ]
     },
     "execution_count": 296,
     "metadata": {},
     "output_type": "execute_result"
    }
   ],
   "source": [
    "# Let's create columns with different probability cutoffs \n",
    "numbers = [float(x)/10 for x in range(10)]\n",
    "for i in numbers:\n",
    "    y_train_pred_final[i]= y_train_pred_final.Converted_prob.map(lambda x: 1 if x > i else 0)\n",
    "y_train_pred_final.head()"
   ]
  },
  {
   "cell_type": "code",
   "execution_count": 297,
   "metadata": {},
   "outputs": [
    {
     "name": "stdout",
     "output_type": "stream",
     "text": [
      "     prob  accuracy     sensi     speci\n",
      "0.0   0.0  0.381515  1.000000  0.000000\n",
      "0.1   0.1  0.541804  0.973174  0.275713\n",
      "0.2   0.2  0.768383  0.885679  0.696029\n",
      "0.3   0.3  0.789010  0.839043  0.758147\n",
      "0.4   0.4  0.810738  0.768056  0.837067\n",
      "0.5   0.5  0.805542  0.651671  0.900458\n",
      "0.6   0.6  0.792474  0.578209  0.924644\n",
      "0.7   0.7  0.779247  0.502270  0.950102\n",
      "0.8   0.8  0.757046  0.411061  0.970468\n",
      "0.9   0.9  0.721934  0.290549  0.988035\n"
     ]
    }
   ],
   "source": [
    "# Now let's calculate accuracy sensitivity and specificity for various probability cutoffs.\n",
    "cutoff_df = pd.DataFrame( columns = ['prob','accuracy','sensi','speci'])\n",
    "num = [0.0,0.1,0.2,0.3,0.4,0.5,0.6,0.7,0.8,0.9]\n",
    "for i in num:\n",
    "    cm1 = metrics.confusion_matrix(y_train_pred_final.Converted, y_train_pred_final[i] )\n",
    "    total1=sum(sum(cm1))\n",
    "    accuracy = (cm1[0,0]+cm1[1,1])/total1\n",
    "    speci = cm1[0,0]/(cm1[0,0]+cm1[0,1])\n",
    "    sensi = cm1[1,1]/(cm1[1,0]+cm1[1,1])\n",
    "    cutoff_df.loc[i] =[ i ,accuracy,sensi,speci]\n",
    "print(cutoff_df)"
   ]
  },
  {
   "cell_type": "code",
   "execution_count": 298,
   "metadata": {},
   "outputs": [
    {
     "data": {
      "image/png": "[encoded data removed]",
      "text/plain": [
       "<Figure size 432x288 with 1 Axes>"
      ]
     },
     "metadata": {},
     "output_type": "display_data"
    }
   ],
   "source": [
    "# Let's plot accuracy sensitivity and specificity for various probabilities.\n",
    "sns.set(style='whitegrid')\n",
    "cutoff_df.plot.line(x='prob', y=['accuracy','sensi','speci'])\n",
    "plt.show()"
   ]
  },
  {
   "cell_type": "markdown",
   "metadata": {},
   "source": [
    "#### From the curve above, 0.35 is the optimum point to take it as a cutoff probability."
   ]
  },
  {
   "cell_type": "code",
   "execution_count": 299,
   "metadata": {},
   "outputs": [
    {
     "data": {
      "text/html": [
       "<div>\n",
       "<style scoped>\n",
       "    .dataframe tbody tr th:only-of-type {\n",
       "        vertical-align: middle;\n",
       "    }\n",
       "\n",
       "    .dataframe tbody tr th {\n",
       "        vertical-align: top;\n",
       "    }\n",
       "\n",
       "    .dataframe thead th {\n",
       "        text-align: right;\n",
       "    }\n",
       "</style>\n",
       "<table border=\"1\" class=\"dataframe\">\n",
       "  <thead>\n",
       "    <tr style=\"text-align: right;\">\n",
       "      <th></th>\n",
       "      <th>Converted</th>\n",
       "      <th>Converted_prob</th>\n",
       "      <th>Predicted</th>\n",
       "      <th>0.0</th>\n",
       "      <th>0.1</th>\n",
       "      <th>0.2</th>\n",
       "      <th>0.3</th>\n",
       "      <th>0.4</th>\n",
       "      <th>0.5</th>\n",
       "      <th>0.6</th>\n",
       "      <th>0.7</th>\n",
       "      <th>0.8</th>\n",
       "      <th>0.9</th>\n",
       "      <th>final_predicted</th>\n",
       "    </tr>\n",
       "    <tr>\n",
       "      <th>Prospect ID</th>\n",
       "      <th></th>\n",
       "      <th></th>\n",
       "      <th></th>\n",
       "      <th></th>\n",
       "      <th></th>\n",
       "      <th></th>\n",
       "      <th></th>\n",
       "      <th></th>\n",
       "      <th></th>\n",
       "      <th></th>\n",
       "      <th></th>\n",
       "      <th></th>\n",
       "      <th></th>\n",
       "      <th></th>\n",
       "    </tr>\n",
       "  </thead>\n",
       "  <tbody>\n",
       "    <tr>\n",
       "      <th>22b1f1dc-97ad-4477-b123-579e9194a128</th>\n",
       "      <td>0.0</td>\n",
       "      <td>0.091895</td>\n",
       "      <td>0</td>\n",
       "      <td>1</td>\n",
       "      <td>0</td>\n",
       "      <td>0</td>\n",
       "      <td>0</td>\n",
       "      <td>0</td>\n",
       "      <td>0</td>\n",
       "      <td>0</td>\n",
       "      <td>0</td>\n",
       "      <td>0</td>\n",
       "      <td>0</td>\n",
       "      <td>0</td>\n",
       "    </tr>\n",
       "    <tr>\n",
       "      <th>525bc35d-8098-42fb-836b-4389cef11f14</th>\n",
       "      <td>0.0</td>\n",
       "      <td>0.253592</td>\n",
       "      <td>0</td>\n",
       "      <td>1</td>\n",
       "      <td>1</td>\n",
       "      <td>1</td>\n",
       "      <td>0</td>\n",
       "      <td>0</td>\n",
       "      <td>0</td>\n",
       "      <td>0</td>\n",
       "      <td>0</td>\n",
       "      <td>0</td>\n",
       "      <td>0</td>\n",
       "      <td>0</td>\n",
       "    </tr>\n",
       "    <tr>\n",
       "      <th>0f468d47-c064-455e-b8bc-74843b6a2c6a</th>\n",
       "      <td>0.0</td>\n",
       "      <td>0.462438</td>\n",
       "      <td>0</td>\n",
       "      <td>1</td>\n",
       "      <td>1</td>\n",
       "      <td>1</td>\n",
       "      <td>1</td>\n",
       "      <td>1</td>\n",
       "      <td>0</td>\n",
       "      <td>0</td>\n",
       "      <td>0</td>\n",
       "      <td>0</td>\n",
       "      <td>0</td>\n",
       "      <td>1</td>\n",
       "    </tr>\n",
       "    <tr>\n",
       "      <th>9b6d6cb4-d943-47cd-b708-e09083a76f94</th>\n",
       "      <td>1.0</td>\n",
       "      <td>0.422756</td>\n",
       "      <td>0</td>\n",
       "      <td>1</td>\n",
       "      <td>1</td>\n",
       "      <td>1</td>\n",
       "      <td>1</td>\n",
       "      <td>1</td>\n",
       "      <td>0</td>\n",
       "      <td>0</td>\n",
       "      <td>0</td>\n",
       "      <td>0</td>\n",
       "      <td>0</td>\n",
       "      <td>1</td>\n",
       "    </tr>\n",
       "    <tr>\n",
       "      <th>493597b0-14bf-446b-b11b-3f0e38c424ae</th>\n",
       "      <td>0.0</td>\n",
       "      <td>0.418815</td>\n",
       "      <td>0</td>\n",
       "      <td>1</td>\n",
       "      <td>1</td>\n",
       "      <td>1</td>\n",
       "      <td>1</td>\n",
       "      <td>1</td>\n",
       "      <td>0</td>\n",
       "      <td>0</td>\n",
       "      <td>0</td>\n",
       "      <td>0</td>\n",
       "      <td>0</td>\n",
       "      <td>1</td>\n",
       "    </tr>\n",
       "  </tbody>\n",
       "</table>\n",
       "</div>"
      ],
      "text/plain": [
       "                                      Converted  Converted_prob  Predicted  \\\n",
       "Prospect ID                                                                  \n",
       "22b1f1dc-97ad-4477-b123-579e9194a128        0.0        0.091895          0   \n",
       "525bc35d-8098-42fb-836b-4389cef11f14        0.0        0.253592          0   \n",
       "0f468d47-c064-455e-b8bc-74843b6a2c6a        0.0        0.462438          0   \n",
       "9b6d6cb4-d943-47cd-b708-e09083a76f94        1.0        0.422756          0   \n",
       "493597b0-14bf-446b-b11b-3f0e38c424ae        0.0        0.418815          0   \n",
       "\n",
       "                                      0.0  0.1  0.2  0.3  0.4  0.5  0.6  0.7  \\\n",
       "Prospect ID                                                                    \n",
       "22b1f1dc-97ad-4477-b123-579e9194a128    1    0    0    0    0    0    0    0   \n",
       "525bc35d-8098-42fb-836b-4389cef11f14    1    1    1    0    0    0    0    0   \n",
       "0f468d47-c064-455e-b8bc-74843b6a2c6a    1    1    1    1    1    0    0    0   \n",
       "9b6d6cb4-d943-47cd-b708-e09083a76f94    1    1    1    1    1    0    0    0   \n",
       "493597b0-14bf-446b-b11b-3f0e38c424ae    1    1    1    1    1    0    0    0   \n",
       "\n",
       "                                      0.8  0.9  final_predicted  \n",
       "Prospect ID                                                      \n",
       "22b1f1dc-97ad-4477-b123-579e9194a128    0    0                0  \n",
       "525bc35d-8098-42fb-836b-4389cef11f14    0    0                0  \n",
       "0f468d47-c064-455e-b8bc-74843b6a2c6a    0    0                1  \n",
       "9b6d6cb4-d943-47cd-b708-e09083a76f94    0    0                1  \n",
       "493597b0-14bf-446b-b11b-3f0e38c424ae    0    0                1  "
      ]
     },
     "execution_count": 299,
     "metadata": {},
     "output_type": "execute_result"
    }
   ],
   "source": [
    "y_train_pred_final['final_predicted'] = y_train_pred_final.Converted_prob.map( lambda x: 1 if x > 0.35 else 0)\n",
    "y_train_pred_final.head()"
   ]
  },
  {
   "cell_type": "markdown",
   "metadata": {},
   "source": [
    "### Assigning Lead Score"
   ]
  },
  {
   "cell_type": "code",
   "execution_count": 300,
   "metadata": {},
   "outputs": [
    {
     "data": {
      "text/html": [
       "<div>\n",
       "<style scoped>\n",
       "    .dataframe tbody tr th:only-of-type {\n",
       "        vertical-align: middle;\n",
       "    }\n",
       "\n",
       "    .dataframe tbody tr th {\n",
       "        vertical-align: top;\n",
       "    }\n",
       "\n",
       "    .dataframe thead th {\n",
       "        text-align: right;\n",
       "    }\n",
       "</style>\n",
       "<table border=\"1\" class=\"dataframe\">\n",
       "  <thead>\n",
       "    <tr style=\"text-align: right;\">\n",
       "      <th></th>\n",
       "      <th>Converted</th>\n",
       "      <th>Converted_prob</th>\n",
       "      <th>Predicted</th>\n",
       "      <th>0.0</th>\n",
       "      <th>0.1</th>\n",
       "      <th>0.2</th>\n",
       "      <th>0.3</th>\n",
       "      <th>0.4</th>\n",
       "      <th>0.5</th>\n",
       "      <th>0.6</th>\n",
       "      <th>0.7</th>\n",
       "      <th>0.8</th>\n",
       "      <th>0.9</th>\n",
       "      <th>final_predicted</th>\n",
       "      <th>Lead_Score</th>\n",
       "    </tr>\n",
       "    <tr>\n",
       "      <th>Prospect ID</th>\n",
       "      <th></th>\n",
       "      <th></th>\n",
       "      <th></th>\n",
       "      <th></th>\n",
       "      <th></th>\n",
       "      <th></th>\n",
       "      <th></th>\n",
       "      <th></th>\n",
       "      <th></th>\n",
       "      <th></th>\n",
       "      <th></th>\n",
       "      <th></th>\n",
       "      <th></th>\n",
       "      <th></th>\n",
       "      <th></th>\n",
       "    </tr>\n",
       "  </thead>\n",
       "  <tbody>\n",
       "    <tr>\n",
       "      <th>22b1f1dc-97ad-4477-b123-579e9194a128</th>\n",
       "      <td>0.0</td>\n",
       "      <td>0.091895</td>\n",
       "      <td>0</td>\n",
       "      <td>1</td>\n",
       "      <td>0</td>\n",
       "      <td>0</td>\n",
       "      <td>0</td>\n",
       "      <td>0</td>\n",
       "      <td>0</td>\n",
       "      <td>0</td>\n",
       "      <td>0</td>\n",
       "      <td>0</td>\n",
       "      <td>0</td>\n",
       "      <td>0</td>\n",
       "      <td>9.19</td>\n",
       "    </tr>\n",
       "    <tr>\n",
       "      <th>525bc35d-8098-42fb-836b-4389cef11f14</th>\n",
       "      <td>0.0</td>\n",
       "      <td>0.253592</td>\n",
       "      <td>0</td>\n",
       "      <td>1</td>\n",
       "      <td>1</td>\n",
       "      <td>1</td>\n",
       "      <td>0</td>\n",
       "      <td>0</td>\n",
       "      <td>0</td>\n",
       "      <td>0</td>\n",
       "      <td>0</td>\n",
       "      <td>0</td>\n",
       "      <td>0</td>\n",
       "      <td>0</td>\n",
       "      <td>25.36</td>\n",
       "    </tr>\n",
       "    <tr>\n",
       "      <th>0f468d47-c064-455e-b8bc-74843b6a2c6a</th>\n",
       "      <td>0.0</td>\n",
       "      <td>0.462438</td>\n",
       "      <td>0</td>\n",
       "      <td>1</td>\n",
       "      <td>1</td>\n",
       "      <td>1</td>\n",
       "      <td>1</td>\n",
       "      <td>1</td>\n",
       "      <td>0</td>\n",
       "      <td>0</td>\n",
       "      <td>0</td>\n",
       "      <td>0</td>\n",
       "      <td>0</td>\n",
       "      <td>1</td>\n",
       "      <td>46.24</td>\n",
       "    </tr>\n",
       "    <tr>\n",
       "      <th>9b6d6cb4-d943-47cd-b708-e09083a76f94</th>\n",
       "      <td>1.0</td>\n",
       "      <td>0.422756</td>\n",
       "      <td>0</td>\n",
       "      <td>1</td>\n",
       "      <td>1</td>\n",
       "      <td>1</td>\n",
       "      <td>1</td>\n",
       "      <td>1</td>\n",
       "      <td>0</td>\n",
       "      <td>0</td>\n",
       "      <td>0</td>\n",
       "      <td>0</td>\n",
       "      <td>0</td>\n",
       "      <td>1</td>\n",
       "      <td>42.28</td>\n",
       "    </tr>\n",
       "    <tr>\n",
       "      <th>493597b0-14bf-446b-b11b-3f0e38c424ae</th>\n",
       "      <td>0.0</td>\n",
       "      <td>0.418815</td>\n",
       "      <td>0</td>\n",
       "      <td>1</td>\n",
       "      <td>1</td>\n",
       "      <td>1</td>\n",
       "      <td>1</td>\n",
       "      <td>1</td>\n",
       "      <td>0</td>\n",
       "      <td>0</td>\n",
       "      <td>0</td>\n",
       "      <td>0</td>\n",
       "      <td>0</td>\n",
       "      <td>1</td>\n",
       "      <td>41.88</td>\n",
       "    </tr>\n",
       "  </tbody>\n",
       "</table>\n",
       "</div>"
      ],
      "text/plain": [
       "                                      Converted  Converted_prob  Predicted  \\\n",
       "Prospect ID                                                                  \n",
       "22b1f1dc-97ad-4477-b123-579e9194a128        0.0        0.091895          0   \n",
       "525bc35d-8098-42fb-836b-4389cef11f14        0.0        0.253592          0   \n",
       "0f468d47-c064-455e-b8bc-74843b6a2c6a        0.0        0.462438          0   \n",
       "9b6d6cb4-d943-47cd-b708-e09083a76f94        1.0        0.422756          0   \n",
       "493597b0-14bf-446b-b11b-3f0e38c424ae        0.0        0.418815          0   \n",
       "\n",
       "                                      0.0  0.1  0.2  0.3  0.4  0.5  0.6  0.7  \\\n",
       "Prospect ID                                                                    \n",
       "22b1f1dc-97ad-4477-b123-579e9194a128    1    0    0    0    0    0    0    0   \n",
       "525bc35d-8098-42fb-836b-4389cef11f14    1    1    1    0    0    0    0    0   \n",
       "0f468d47-c064-455e-b8bc-74843b6a2c6a    1    1    1    1    1    0    0    0   \n",
       "9b6d6cb4-d943-47cd-b708-e09083a76f94    1    1    1    1    1    0    0    0   \n",
       "493597b0-14bf-446b-b11b-3f0e38c424ae    1    1    1    1    1    0    0    0   \n",
       "\n",
       "                                      0.8  0.9  final_predicted  Lead_Score  \n",
       "Prospect ID                                                                  \n",
       "22b1f1dc-97ad-4477-b123-579e9194a128    0    0                0        9.19  \n",
       "525bc35d-8098-42fb-836b-4389cef11f14    0    0                0       25.36  \n",
       "0f468d47-c064-455e-b8bc-74843b6a2c6a    0    0                1       46.24  \n",
       "9b6d6cb4-d943-47cd-b708-e09083a76f94    0    0                1       42.28  \n",
       "493597b0-14bf-446b-b11b-3f0e38c424ae    0    0                1       41.88  "
      ]
     },
     "execution_count": 300,
     "metadata": {},
     "output_type": "execute_result"
    }
   ],
   "source": [
    "y_train_pred_final['Lead_Score'] = y_train_pred_final.Converted_prob.map( lambda x: round((x*100),2))\n",
    "y_train_pred_final.head()"
   ]
  },
  {
   "cell_type": "code",
   "execution_count": 301,
   "metadata": {},
   "outputs": [],
   "source": [
    "# Let's check the overall accuracy.\n",
    "accuracy_train = metrics.accuracy_score(y_train_pred_final.Converted, y_train_pred_final.final_predicted)"
   ]
  },
  {
   "cell_type": "code",
   "execution_count": 302,
   "metadata": {},
   "outputs": [
    {
     "data": {
      "text/plain": [
       "array([[3160,  768],\n",
       "       [ 481, 1942]], dtype=int64)"
      ]
     },
     "execution_count": 302,
     "metadata": {},
     "output_type": "execute_result"
    }
   ],
   "source": [
    "confusion2 = metrics.confusion_matrix(y_train_pred_final.Converted, y_train_pred_final.final_predicted )\n",
    "confusion2"
   ]
  },
  {
   "cell_type": "code",
   "execution_count": 303,
   "metadata": {},
   "outputs": [],
   "source": [
    "TP = confusion2[1,1] # true positive \n",
    "TN = confusion2[0,0] # true negatives\n",
    "FP = confusion2[0,1] # false positives\n",
    "FN = confusion2[1,0] # false negatives"
   ]
  },
  {
   "cell_type": "code",
   "execution_count": 304,
   "metadata": {},
   "outputs": [],
   "source": [
    "# Calculate sensitivity of our logistic regression model\n",
    "sensitivity_train = TP / float(TP+FN)\n",
    "#calculate specificity\n",
    "specificity_train = TN / float(TN+FP)\n",
    "# Calculate false postive rate - predicting churn when customer does not have churned\n",
    "fpRate_train = FP/ float(TN+FP)\n",
    "# Positive predictive value \n",
    "positive_predictive_train = TP / float(TP+FP)\n",
    "# Negative predictive value\n",
    "ngRate_train = TN / float(TN+ FN)"
   ]
  },
  {
   "cell_type": "code",
   "execution_count": 305,
   "metadata": {},
   "outputs": [
    {
     "name": "stdout",
     "output_type": "stream",
     "text": [
      "Printing all values post optimal cut-off calculation\n",
      "\n",
      "Train Data Accuracy:            0.8033 \n",
      "Train Data Sensitivity:         0.8015 \n",
      "Train Data Specificity:         0.8045 \n",
      "Train Data False postive rate:  0.1955 \n",
      "Train Data Positive predictive: 0.7166 \n",
      "Train Data Negative predictive: 0.8679 \n"
     ]
    }
   ],
   "source": [
    "print(\"Printing all values post optimal cut-off calculation\\n\")\n",
    "print(\"Train Data Accuracy:            {} \".format(round(accuracy_train,4)))\n",
    "print(\"Train Data Sensitivity:         {} \".format(round(sensitivity_train,4)))\n",
    "print(\"Train Data Specificity:         {} \".format(round(specificity_train,4)))\n",
    "print(\"Train Data False postive rate:  {} \".format(round(fpRate_train,4)))\n",
    "print(\"Train Data Positive predictive: {} \".format(round(positive_predictive_train,4)))\n",
    "print(\"Train Data Negative predictive: {} \".format(round(ngRate_train,4)))"
   ]
  },
  {
   "cell_type": "markdown",
   "metadata": {},
   "source": [
    "## Precision and Recall"
   ]
  },
  {
   "cell_type": "markdown",
   "metadata": {},
   "source": [
    "#### Using confusion matrix"
   ]
  },
  {
   "cell_type": "code",
   "execution_count": 306,
   "metadata": {},
   "outputs": [
    {
     "data": {
      "text/plain": [
       "array([[3537,  391],\n",
       "       [ 844, 1579]], dtype=int64)"
      ]
     },
     "execution_count": 306,
     "metadata": {},
     "output_type": "execute_result"
    }
   ],
   "source": [
    "confusion = metrics.confusion_matrix(y_train_pred_final.Converted, y_train_pred_final.Predicted)\n",
    "confusion"
   ]
  },
  {
   "cell_type": "markdown",
   "metadata": {},
   "source": [
    "##### Precision\n",
    "TP / TP + FP"
   ]
  },
  {
   "cell_type": "code",
   "execution_count": 307,
   "metadata": {},
   "outputs": [
    {
     "data": {
      "text/plain": [
       "0.801522842639594"
      ]
     },
     "execution_count": 307,
     "metadata": {},
     "output_type": "execute_result"
    }
   ],
   "source": [
    "confusion[1,1]/(confusion[0,1]+confusion[1,1])"
   ]
  },
  {
   "cell_type": "markdown",
   "metadata": {},
   "source": [
    "##### Recall\n",
    "TP / TP + FN"
   ]
  },
  {
   "cell_type": "code",
   "execution_count": 308,
   "metadata": {},
   "outputs": [
    {
     "data": {
      "text/plain": [
       "0.6516714816343376"
      ]
     },
     "execution_count": 308,
     "metadata": {},
     "output_type": "execute_result"
    }
   ],
   "source": [
    "confusion[1,1]/(confusion[1,0]+confusion[1,1])"
   ]
  },
  {
   "cell_type": "markdown",
   "metadata": {},
   "source": [
    "#### Using sklearn utilities for the same"
   ]
  },
  {
   "cell_type": "code",
   "execution_count": 309,
   "metadata": {},
   "outputs": [],
   "source": [
    "# Calculate Recall\n",
    "recall_train = recall_score(y_train_pred_final.Converted, y_train_pred_final.Predicted)\n",
    "# Calculate Precision\n",
    "precision_train = precision_score(y_train_pred_final.Converted , y_train_pred_final.Predicted)\n",
    "# Calculate F1 Score\n",
    "F1_score_train =  (2* precision_train * recall_train)/(precision_train + recall_train)"
   ]
  },
  {
   "cell_type": "code",
   "execution_count": 310,
   "metadata": {},
   "outputs": [
    {
     "name": "stdout",
     "output_type": "stream",
     "text": [
      "Printing all values post optimal cut-off calculation\n",
      "\n",
      "Train Data Precision:    0.8015 \n",
      "Train Data Recall:       0.6517 \n",
      "Train Data F1 Score:     0.7189 \n"
     ]
    }
   ],
   "source": [
    "print(\"Printing all values post optimal cut-off calculation\\n\")\n",
    "print(\"Train Data Precision:    {} \".format(round(precision_train,4)))\n",
    "print(\"Train Data Recall:       {} \".format(round(recall_train,4)))\n",
    "print(\"Train Data F1 Score:     {} \".format(round(F1_score_train,4)))"
   ]
  },
  {
   "cell_type": "markdown",
   "metadata": {},
   "source": [
    "### Precision and recall tradeoff"
   ]
  },
  {
   "cell_type": "code",
   "execution_count": 311,
   "metadata": {},
   "outputs": [],
   "source": [
    "p, r, thresholds = precision_recall_curve(y_train_pred_final.Converted, y_train_pred_final.Converted_prob)"
   ]
  },
  {
   "cell_type": "code",
   "execution_count": 312,
   "metadata": {},
   "outputs": [
    {
     "data": {
      "image/png": "[encoded data removed]",
      "text/plain": [
       "<Figure size 432x288 with 1 Axes>"
      ]
     },
     "metadata": {},
     "output_type": "display_data"
    }
   ],
   "source": [
    "plt.plot(thresholds, p[:-1], \"g-\")\n",
    "plt.plot(thresholds, r[:-1], \"r-\")\n",
    "plt.show()"
   ]
  },
  {
   "cell_type": "markdown",
   "metadata": {},
   "source": [
    "## Making predictions on the test set"
   ]
  },
  {
   "cell_type": "code",
   "execution_count": 313,
   "metadata": {},
   "outputs": [
    {
     "data": {
      "text/html": [
       "<div>\n",
       "<style scoped>\n",
       "    .dataframe tbody tr th:only-of-type {\n",
       "        vertical-align: middle;\n",
       "    }\n",
       "\n",
       "    .dataframe tbody tr th {\n",
       "        vertical-align: top;\n",
       "    }\n",
       "\n",
       "    .dataframe thead th {\n",
       "        text-align: right;\n",
       "    }\n",
       "</style>\n",
       "<table border=\"1\" class=\"dataframe\">\n",
       "  <thead>\n",
       "    <tr style=\"text-align: right;\">\n",
       "      <th></th>\n",
       "      <th>TotalVisits</th>\n",
       "      <th>Total Time Spent on Website</th>\n",
       "      <th>Page Views Per Visit</th>\n",
       "      <th>A free copy of Mastering The Interview</th>\n",
       "      <th>City_Mumbai</th>\n",
       "      <th>City_Other Cities</th>\n",
       "      <th>City_Other Cities of Maharashtra</th>\n",
       "      <th>City_Other Metro Cities</th>\n",
       "      <th>City_Thane &amp; Outskirts</th>\n",
       "      <th>Lead_Origin_API</th>\n",
       "      <th>...</th>\n",
       "      <th>Last Notable Activity_Email Opened</th>\n",
       "      <th>Last Notable Activity_Modified</th>\n",
       "      <th>Last Notable Activity_Other Notable Activity</th>\n",
       "      <th>Last Notable Activity_Page Visited on Website</th>\n",
       "      <th>Last Notable Activity_SMS Sent</th>\n",
       "      <th>Current_Ocupation_Housewife</th>\n",
       "      <th>Current_Ocupation_Other</th>\n",
       "      <th>Current_Ocupation_Student</th>\n",
       "      <th>Current_Ocupation_Unemployed</th>\n",
       "      <th>Current_Ocupation_Working Professional</th>\n",
       "    </tr>\n",
       "    <tr>\n",
       "      <th>Prospect ID</th>\n",
       "      <th></th>\n",
       "      <th></th>\n",
       "      <th></th>\n",
       "      <th></th>\n",
       "      <th></th>\n",
       "      <th></th>\n",
       "      <th></th>\n",
       "      <th></th>\n",
       "      <th></th>\n",
       "      <th></th>\n",
       "      <th></th>\n",
       "      <th></th>\n",
       "      <th></th>\n",
       "      <th></th>\n",
       "      <th></th>\n",
       "      <th></th>\n",
       "      <th></th>\n",
       "      <th></th>\n",
       "      <th></th>\n",
       "      <th></th>\n",
       "      <th></th>\n",
       "    </tr>\n",
       "  </thead>\n",
       "  <tbody>\n",
       "    <tr>\n",
       "      <th>2f3b20c1-fdd4-4455-95de-55e455d25413</th>\n",
       "      <td>0.490376</td>\n",
       "      <td>-0.746293</td>\n",
       "      <td>1.338033</td>\n",
       "      <td>0</td>\n",
       "      <td>1</td>\n",
       "      <td>0</td>\n",
       "      <td>0</td>\n",
       "      <td>0</td>\n",
       "      <td>0</td>\n",
       "      <td>1</td>\n",
       "      <td>...</td>\n",
       "      <td>0</td>\n",
       "      <td>1</td>\n",
       "      <td>0</td>\n",
       "      <td>0</td>\n",
       "      <td>0</td>\n",
       "      <td>0</td>\n",
       "      <td>0</td>\n",
       "      <td>0</td>\n",
       "      <td>1</td>\n",
       "      <td>0</td>\n",
       "    </tr>\n",
       "    <tr>\n",
       "      <th>1b4cfa2d-fbb8-4ff8-8c99-fd9aed1c0ddc</th>\n",
       "      <td>0.186555</td>\n",
       "      <td>-0.447512</td>\n",
       "      <td>-0.522248</td>\n",
       "      <td>0</td>\n",
       "      <td>1</td>\n",
       "      <td>0</td>\n",
       "      <td>0</td>\n",
       "      <td>0</td>\n",
       "      <td>0</td>\n",
       "      <td>1</td>\n",
       "      <td>...</td>\n",
       "      <td>0</td>\n",
       "      <td>1</td>\n",
       "      <td>0</td>\n",
       "      <td>0</td>\n",
       "      <td>0</td>\n",
       "      <td>0</td>\n",
       "      <td>0</td>\n",
       "      <td>0</td>\n",
       "      <td>1</td>\n",
       "      <td>0</td>\n",
       "    </tr>\n",
       "    <tr>\n",
       "      <th>fdb72c0d-49fd-489f-b635-321dbe6a93cb</th>\n",
       "      <td>0.490376</td>\n",
       "      <td>-0.082336</td>\n",
       "      <td>0.070812</td>\n",
       "      <td>1</td>\n",
       "      <td>0</td>\n",
       "      <td>0</td>\n",
       "      <td>1</td>\n",
       "      <td>0</td>\n",
       "      <td>0</td>\n",
       "      <td>0</td>\n",
       "      <td>...</td>\n",
       "      <td>1</td>\n",
       "      <td>0</td>\n",
       "      <td>0</td>\n",
       "      <td>0</td>\n",
       "      <td>0</td>\n",
       "      <td>0</td>\n",
       "      <td>0</td>\n",
       "      <td>0</td>\n",
       "      <td>1</td>\n",
       "      <td>0</td>\n",
       "    </tr>\n",
       "    <tr>\n",
       "      <th>415165bd-caff-408b-84be-2d4206f81ac9</th>\n",
       "      <td>0.186555</td>\n",
       "      <td>2.398279</td>\n",
       "      <td>0.831145</td>\n",
       "      <td>0</td>\n",
       "      <td>1</td>\n",
       "      <td>0</td>\n",
       "      <td>0</td>\n",
       "      <td>0</td>\n",
       "      <td>0</td>\n",
       "      <td>0</td>\n",
       "      <td>...</td>\n",
       "      <td>0</td>\n",
       "      <td>1</td>\n",
       "      <td>0</td>\n",
       "      <td>0</td>\n",
       "      <td>0</td>\n",
       "      <td>0</td>\n",
       "      <td>0</td>\n",
       "      <td>0</td>\n",
       "      <td>1</td>\n",
       "      <td>0</td>\n",
       "    </tr>\n",
       "    <tr>\n",
       "      <th>96da1864-e1ae-40cb-9e5c-6b92ee1557b6</th>\n",
       "      <td>0.186555</td>\n",
       "      <td>-0.690963</td>\n",
       "      <td>0.831145</td>\n",
       "      <td>1</td>\n",
       "      <td>0</td>\n",
       "      <td>1</td>\n",
       "      <td>0</td>\n",
       "      <td>0</td>\n",
       "      <td>0</td>\n",
       "      <td>0</td>\n",
       "      <td>...</td>\n",
       "      <td>0</td>\n",
       "      <td>0</td>\n",
       "      <td>0</td>\n",
       "      <td>0</td>\n",
       "      <td>1</td>\n",
       "      <td>0</td>\n",
       "      <td>0</td>\n",
       "      <td>0</td>\n",
       "      <td>1</td>\n",
       "      <td>0</td>\n",
       "    </tr>\n",
       "  </tbody>\n",
       "</table>\n",
       "<p>5 rows × 35 columns</p>\n",
       "</div>"
      ],
      "text/plain": [
       "                                      TotalVisits  \\\n",
       "Prospect ID                                         \n",
       "2f3b20c1-fdd4-4455-95de-55e455d25413     0.490376   \n",
       "1b4cfa2d-fbb8-4ff8-8c99-fd9aed1c0ddc     0.186555   \n",
       "fdb72c0d-49fd-489f-b635-321dbe6a93cb     0.490376   \n",
       "415165bd-caff-408b-84be-2d4206f81ac9     0.186555   \n",
       "96da1864-e1ae-40cb-9e5c-6b92ee1557b6     0.186555   \n",
       "\n",
       "                                      Total Time Spent on Website  \\\n",
       "Prospect ID                                                         \n",
       "2f3b20c1-fdd4-4455-95de-55e455d25413                    -0.746293   \n",
       "1b4cfa2d-fbb8-4ff8-8c99-fd9aed1c0ddc                    -0.447512   \n",
       "fdb72c0d-49fd-489f-b635-321dbe6a93cb                    -0.082336   \n",
       "415165bd-caff-408b-84be-2d4206f81ac9                     2.398279   \n",
       "96da1864-e1ae-40cb-9e5c-6b92ee1557b6                    -0.690963   \n",
       "\n",
       "                                      Page Views Per Visit  \\\n",
       "Prospect ID                                                  \n",
       "2f3b20c1-fdd4-4455-95de-55e455d25413              1.338033   \n",
       "1b4cfa2d-fbb8-4ff8-8c99-fd9aed1c0ddc             -0.522248   \n",
       "fdb72c0d-49fd-489f-b635-321dbe6a93cb              0.070812   \n",
       "415165bd-caff-408b-84be-2d4206f81ac9              0.831145   \n",
       "96da1864-e1ae-40cb-9e5c-6b92ee1557b6              0.831145   \n",
       "\n",
       "                                     A free copy of Mastering The Interview  \\\n",
       "Prospect ID                                                                   \n",
       "2f3b20c1-fdd4-4455-95de-55e455d25413                                      0   \n",
       "1b4cfa2d-fbb8-4ff8-8c99-fd9aed1c0ddc                                      0   \n",
       "fdb72c0d-49fd-489f-b635-321dbe6a93cb                                      1   \n",
       "415165bd-caff-408b-84be-2d4206f81ac9                                      0   \n",
       "96da1864-e1ae-40cb-9e5c-6b92ee1557b6                                      1   \n",
       "\n",
       "                                      City_Mumbai  City_Other Cities  \\\n",
       "Prospect ID                                                            \n",
       "2f3b20c1-fdd4-4455-95de-55e455d25413            1                  0   \n",
       "1b4cfa2d-fbb8-4ff8-8c99-fd9aed1c0ddc            1                  0   \n",
       "fdb72c0d-49fd-489f-b635-321dbe6a93cb            0                  0   \n",
       "415165bd-caff-408b-84be-2d4206f81ac9            1                  0   \n",
       "96da1864-e1ae-40cb-9e5c-6b92ee1557b6            0                  1   \n",
       "\n",
       "                                      City_Other Cities of Maharashtra  \\\n",
       "Prospect ID                                                              \n",
       "2f3b20c1-fdd4-4455-95de-55e455d25413                                 0   \n",
       "1b4cfa2d-fbb8-4ff8-8c99-fd9aed1c0ddc                                 0   \n",
       "fdb72c0d-49fd-489f-b635-321dbe6a93cb                                 1   \n",
       "415165bd-caff-408b-84be-2d4206f81ac9                                 0   \n",
       "96da1864-e1ae-40cb-9e5c-6b92ee1557b6                                 0   \n",
       "\n",
       "                                      City_Other Metro Cities  \\\n",
       "Prospect ID                                                     \n",
       "2f3b20c1-fdd4-4455-95de-55e455d25413                        0   \n",
       "1b4cfa2d-fbb8-4ff8-8c99-fd9aed1c0ddc                        0   \n",
       "fdb72c0d-49fd-489f-b635-321dbe6a93cb                        0   \n",
       "415165bd-caff-408b-84be-2d4206f81ac9                        0   \n",
       "96da1864-e1ae-40cb-9e5c-6b92ee1557b6                        0   \n",
       "\n",
       "                                      City_Thane & Outskirts  Lead_Origin_API  \\\n",
       "Prospect ID                                                                     \n",
       "2f3b20c1-fdd4-4455-95de-55e455d25413                       0                1   \n",
       "1b4cfa2d-fbb8-4ff8-8c99-fd9aed1c0ddc                       0                1   \n",
       "fdb72c0d-49fd-489f-b635-321dbe6a93cb                       0                0   \n",
       "415165bd-caff-408b-84be-2d4206f81ac9                       0                0   \n",
       "96da1864-e1ae-40cb-9e5c-6b92ee1557b6                       0                0   \n",
       "\n",
       "                                      ...  Last Notable Activity_Email Opened  \\\n",
       "Prospect ID                           ...                                       \n",
       "2f3b20c1-fdd4-4455-95de-55e455d25413  ...                                   0   \n",
       "1b4cfa2d-fbb8-4ff8-8c99-fd9aed1c0ddc  ...                                   0   \n",
       "fdb72c0d-49fd-489f-b635-321dbe6a93cb  ...                                   1   \n",
       "415165bd-caff-408b-84be-2d4206f81ac9  ...                                   0   \n",
       "96da1864-e1ae-40cb-9e5c-6b92ee1557b6  ...                                   0   \n",
       "\n",
       "                                      Last Notable Activity_Modified  \\\n",
       "Prospect ID                                                            \n",
       "2f3b20c1-fdd4-4455-95de-55e455d25413                               1   \n",
       "1b4cfa2d-fbb8-4ff8-8c99-fd9aed1c0ddc                               1   \n",
       "fdb72c0d-49fd-489f-b635-321dbe6a93cb                               0   \n",
       "415165bd-caff-408b-84be-2d4206f81ac9                               1   \n",
       "96da1864-e1ae-40cb-9e5c-6b92ee1557b6                               0   \n",
       "\n",
       "                                      Last Notable Activity_Other Notable Activity  \\\n",
       "Prospect ID                                                                          \n",
       "2f3b20c1-fdd4-4455-95de-55e455d25413                                             0   \n",
       "1b4cfa2d-fbb8-4ff8-8c99-fd9aed1c0ddc                                             0   \n",
       "fdb72c0d-49fd-489f-b635-321dbe6a93cb                                             0   \n",
       "415165bd-caff-408b-84be-2d4206f81ac9                                             0   \n",
       "96da1864-e1ae-40cb-9e5c-6b92ee1557b6                                             0   \n",
       "\n",
       "                                      Last Notable Activity_Page Visited on Website  \\\n",
       "Prospect ID                                                                           \n",
       "2f3b20c1-fdd4-4455-95de-55e455d25413                                              0   \n",
       "1b4cfa2d-fbb8-4ff8-8c99-fd9aed1c0ddc                                              0   \n",
       "fdb72c0d-49fd-489f-b635-321dbe6a93cb                                              0   \n",
       "415165bd-caff-408b-84be-2d4206f81ac9                                              0   \n",
       "96da1864-e1ae-40cb-9e5c-6b92ee1557b6                                              0   \n",
       "\n",
       "                                      Last Notable Activity_SMS Sent  \\\n",
       "Prospect ID                                                            \n",
       "2f3b20c1-fdd4-4455-95de-55e455d25413                               0   \n",
       "1b4cfa2d-fbb8-4ff8-8c99-fd9aed1c0ddc                               0   \n",
       "fdb72c0d-49fd-489f-b635-321dbe6a93cb                               0   \n",
       "415165bd-caff-408b-84be-2d4206f81ac9                               0   \n",
       "96da1864-e1ae-40cb-9e5c-6b92ee1557b6                               1   \n",
       "\n",
       "                                      Current_Ocupation_Housewife  \\\n",
       "Prospect ID                                                         \n",
       "2f3b20c1-fdd4-4455-95de-55e455d25413                            0   \n",
       "1b4cfa2d-fbb8-4ff8-8c99-fd9aed1c0ddc                            0   \n",
       "fdb72c0d-49fd-489f-b635-321dbe6a93cb                            0   \n",
       "415165bd-caff-408b-84be-2d4206f81ac9                            0   \n",
       "96da1864-e1ae-40cb-9e5c-6b92ee1557b6                            0   \n",
       "\n",
       "                                      Current_Ocupation_Other  \\\n",
       "Prospect ID                                                     \n",
       "2f3b20c1-fdd4-4455-95de-55e455d25413                        0   \n",
       "1b4cfa2d-fbb8-4ff8-8c99-fd9aed1c0ddc                        0   \n",
       "fdb72c0d-49fd-489f-b635-321dbe6a93cb                        0   \n",
       "415165bd-caff-408b-84be-2d4206f81ac9                        0   \n",
       "96da1864-e1ae-40cb-9e5c-6b92ee1557b6                        0   \n",
       "\n",
       "                                      Current_Ocupation_Student  \\\n",
       "Prospect ID                                                       \n",
       "2f3b20c1-fdd4-4455-95de-55e455d25413                          0   \n",
       "1b4cfa2d-fbb8-4ff8-8c99-fd9aed1c0ddc                          0   \n",
       "fdb72c0d-49fd-489f-b635-321dbe6a93cb                          0   \n",
       "415165bd-caff-408b-84be-2d4206f81ac9                          0   \n",
       "96da1864-e1ae-40cb-9e5c-6b92ee1557b6                          0   \n",
       "\n",
       "                                      Current_Ocupation_Unemployed  \\\n",
       "Prospect ID                                                          \n",
       "2f3b20c1-fdd4-4455-95de-55e455d25413                             1   \n",
       "1b4cfa2d-fbb8-4ff8-8c99-fd9aed1c0ddc                             1   \n",
       "fdb72c0d-49fd-489f-b635-321dbe6a93cb                             1   \n",
       "415165bd-caff-408b-84be-2d4206f81ac9                             1   \n",
       "96da1864-e1ae-40cb-9e5c-6b92ee1557b6                             1   \n",
       "\n",
       "                                      Current_Ocupation_Working Professional  \n",
       "Prospect ID                                                                   \n",
       "2f3b20c1-fdd4-4455-95de-55e455d25413                                       0  \n",
       "1b4cfa2d-fbb8-4ff8-8c99-fd9aed1c0ddc                                       0  \n",
       "fdb72c0d-49fd-489f-b635-321dbe6a93cb                                       0  \n",
       "415165bd-caff-408b-84be-2d4206f81ac9                                       0  \n",
       "96da1864-e1ae-40cb-9e5c-6b92ee1557b6                                       0  \n",
       "\n",
       "[5 rows x 35 columns]"
      ]
     },
     "execution_count": 313,
     "metadata": {},
     "output_type": "execute_result"
    }
   ],
   "source": [
    "#Preparing Test Dataset\n",
    "X_test[['TotalVisits','Total Time Spent on Website','Page Views Per Visit']] = scaler.fit_transform(X_test[['TotalVisits','Total Time Spent on Website','Page Views Per Visit']])\n",
    "X_test.head()"
   ]
  },
  {
   "cell_type": "code",
   "execution_count": 314,
   "metadata": {},
   "outputs": [
    {
     "data": {
      "text/html": [
       "<div>\n",
       "<style scoped>\n",
       "    .dataframe tbody tr th:only-of-type {\n",
       "        vertical-align: middle;\n",
       "    }\n",
       "\n",
       "    .dataframe tbody tr th {\n",
       "        vertical-align: top;\n",
       "    }\n",
       "\n",
       "    .dataframe thead th {\n",
       "        text-align: right;\n",
       "    }\n",
       "</style>\n",
       "<table border=\"1\" class=\"dataframe\">\n",
       "  <thead>\n",
       "    <tr style=\"text-align: right;\">\n",
       "      <th></th>\n",
       "      <th>Total Time Spent on Website</th>\n",
       "      <th>Lead_Origin_Landing Page Submission</th>\n",
       "      <th>Lead_Origin_Lead Add Form</th>\n",
       "      <th>Lead_Source_Olark Chat</th>\n",
       "      <th>Lead_Source_Others</th>\n",
       "      <th>Lead_Source_Reference</th>\n",
       "      <th>Specialization_Not Specified</th>\n",
       "      <th>Last Notable Activity_Email Opened</th>\n",
       "      <th>Last Notable Activity_Other Notable Activity</th>\n",
       "      <th>Last Notable Activity_SMS Sent</th>\n",
       "      <th>Current_Ocupation_Working Professional</th>\n",
       "    </tr>\n",
       "    <tr>\n",
       "      <th>Prospect ID</th>\n",
       "      <th></th>\n",
       "      <th></th>\n",
       "      <th></th>\n",
       "      <th></th>\n",
       "      <th></th>\n",
       "      <th></th>\n",
       "      <th></th>\n",
       "      <th></th>\n",
       "      <th></th>\n",
       "      <th></th>\n",
       "      <th></th>\n",
       "    </tr>\n",
       "  </thead>\n",
       "  <tbody>\n",
       "    <tr>\n",
       "      <th>2f3b20c1-fdd4-4455-95de-55e455d25413</th>\n",
       "      <td>-0.746293</td>\n",
       "      <td>0</td>\n",
       "      <td>0</td>\n",
       "      <td>0</td>\n",
       "      <td>0</td>\n",
       "      <td>0</td>\n",
       "      <td>1</td>\n",
       "      <td>0</td>\n",
       "      <td>0</td>\n",
       "      <td>0</td>\n",
       "      <td>0</td>\n",
       "    </tr>\n",
       "    <tr>\n",
       "      <th>1b4cfa2d-fbb8-4ff8-8c99-fd9aed1c0ddc</th>\n",
       "      <td>-0.447512</td>\n",
       "      <td>0</td>\n",
       "      <td>0</td>\n",
       "      <td>0</td>\n",
       "      <td>0</td>\n",
       "      <td>0</td>\n",
       "      <td>1</td>\n",
       "      <td>0</td>\n",
       "      <td>0</td>\n",
       "      <td>0</td>\n",
       "      <td>0</td>\n",
       "    </tr>\n",
       "    <tr>\n",
       "      <th>fdb72c0d-49fd-489f-b635-321dbe6a93cb</th>\n",
       "      <td>-0.082336</td>\n",
       "      <td>1</td>\n",
       "      <td>0</td>\n",
       "      <td>0</td>\n",
       "      <td>0</td>\n",
       "      <td>0</td>\n",
       "      <td>0</td>\n",
       "      <td>1</td>\n",
       "      <td>0</td>\n",
       "      <td>0</td>\n",
       "      <td>0</td>\n",
       "    </tr>\n",
       "    <tr>\n",
       "      <th>415165bd-caff-408b-84be-2d4206f81ac9</th>\n",
       "      <td>2.398279</td>\n",
       "      <td>1</td>\n",
       "      <td>0</td>\n",
       "      <td>0</td>\n",
       "      <td>0</td>\n",
       "      <td>0</td>\n",
       "      <td>0</td>\n",
       "      <td>0</td>\n",
       "      <td>0</td>\n",
       "      <td>0</td>\n",
       "      <td>0</td>\n",
       "    </tr>\n",
       "    <tr>\n",
       "      <th>96da1864-e1ae-40cb-9e5c-6b92ee1557b6</th>\n",
       "      <td>-0.690963</td>\n",
       "      <td>1</td>\n",
       "      <td>0</td>\n",
       "      <td>0</td>\n",
       "      <td>0</td>\n",
       "      <td>0</td>\n",
       "      <td>0</td>\n",
       "      <td>0</td>\n",
       "      <td>0</td>\n",
       "      <td>1</td>\n",
       "      <td>0</td>\n",
       "    </tr>\n",
       "  </tbody>\n",
       "</table>\n",
       "</div>"
      ],
      "text/plain": [
       "                                      Total Time Spent on Website  \\\n",
       "Prospect ID                                                         \n",
       "2f3b20c1-fdd4-4455-95de-55e455d25413                    -0.746293   \n",
       "1b4cfa2d-fbb8-4ff8-8c99-fd9aed1c0ddc                    -0.447512   \n",
       "fdb72c0d-49fd-489f-b635-321dbe6a93cb                    -0.082336   \n",
       "415165bd-caff-408b-84be-2d4206f81ac9                     2.398279   \n",
       "96da1864-e1ae-40cb-9e5c-6b92ee1557b6                    -0.690963   \n",
       "\n",
       "                                      Lead_Origin_Landing Page Submission  \\\n",
       "Prospect ID                                                                 \n",
       "2f3b20c1-fdd4-4455-95de-55e455d25413                                    0   \n",
       "1b4cfa2d-fbb8-4ff8-8c99-fd9aed1c0ddc                                    0   \n",
       "fdb72c0d-49fd-489f-b635-321dbe6a93cb                                    1   \n",
       "415165bd-caff-408b-84be-2d4206f81ac9                                    1   \n",
       "96da1864-e1ae-40cb-9e5c-6b92ee1557b6                                    1   \n",
       "\n",
       "                                      Lead_Origin_Lead Add Form  \\\n",
       "Prospect ID                                                       \n",
       "2f3b20c1-fdd4-4455-95de-55e455d25413                          0   \n",
       "1b4cfa2d-fbb8-4ff8-8c99-fd9aed1c0ddc                          0   \n",
       "fdb72c0d-49fd-489f-b635-321dbe6a93cb                          0   \n",
       "415165bd-caff-408b-84be-2d4206f81ac9                          0   \n",
       "96da1864-e1ae-40cb-9e5c-6b92ee1557b6                          0   \n",
       "\n",
       "                                      Lead_Source_Olark Chat  \\\n",
       "Prospect ID                                                    \n",
       "2f3b20c1-fdd4-4455-95de-55e455d25413                       0   \n",
       "1b4cfa2d-fbb8-4ff8-8c99-fd9aed1c0ddc                       0   \n",
       "fdb72c0d-49fd-489f-b635-321dbe6a93cb                       0   \n",
       "415165bd-caff-408b-84be-2d4206f81ac9                       0   \n",
       "96da1864-e1ae-40cb-9e5c-6b92ee1557b6                       0   \n",
       "\n",
       "                                      Lead_Source_Others  \\\n",
       "Prospect ID                                                \n",
       "2f3b20c1-fdd4-4455-95de-55e455d25413                   0   \n",
       "1b4cfa2d-fbb8-4ff8-8c99-fd9aed1c0ddc                   0   \n",
       "fdb72c0d-49fd-489f-b635-321dbe6a93cb                   0   \n",
       "415165bd-caff-408b-84be-2d4206f81ac9                   0   \n",
       "96da1864-e1ae-40cb-9e5c-6b92ee1557b6                   0   \n",
       "\n",
       "                                      Lead_Source_Reference  \\\n",
       "Prospect ID                                                   \n",
       "2f3b20c1-fdd4-4455-95de-55e455d25413                      0   \n",
       "1b4cfa2d-fbb8-4ff8-8c99-fd9aed1c0ddc                      0   \n",
       "fdb72c0d-49fd-489f-b635-321dbe6a93cb                      0   \n",
       "415165bd-caff-408b-84be-2d4206f81ac9                      0   \n",
       "96da1864-e1ae-40cb-9e5c-6b92ee1557b6                      0   \n",
       "\n",
       "                                      Specialization_Not Specified  \\\n",
       "Prospect ID                                                          \n",
       "2f3b20c1-fdd4-4455-95de-55e455d25413                             1   \n",
       "1b4cfa2d-fbb8-4ff8-8c99-fd9aed1c0ddc                             1   \n",
       "fdb72c0d-49fd-489f-b635-321dbe6a93cb                             0   \n",
       "415165bd-caff-408b-84be-2d4206f81ac9                             0   \n",
       "96da1864-e1ae-40cb-9e5c-6b92ee1557b6                             0   \n",
       "\n",
       "                                      Last Notable Activity_Email Opened  \\\n",
       "Prospect ID                                                                \n",
       "2f3b20c1-fdd4-4455-95de-55e455d25413                                   0   \n",
       "1b4cfa2d-fbb8-4ff8-8c99-fd9aed1c0ddc                                   0   \n",
       "fdb72c0d-49fd-489f-b635-321dbe6a93cb                                   1   \n",
       "415165bd-caff-408b-84be-2d4206f81ac9                                   0   \n",
       "96da1864-e1ae-40cb-9e5c-6b92ee1557b6                                   0   \n",
       "\n",
       "                                      Last Notable Activity_Other Notable Activity  \\\n",
       "Prospect ID                                                                          \n",
       "2f3b20c1-fdd4-4455-95de-55e455d25413                                             0   \n",
       "1b4cfa2d-fbb8-4ff8-8c99-fd9aed1c0ddc                                             0   \n",
       "fdb72c0d-49fd-489f-b635-321dbe6a93cb                                             0   \n",
       "415165bd-caff-408b-84be-2d4206f81ac9                                             0   \n",
       "96da1864-e1ae-40cb-9e5c-6b92ee1557b6                                             0   \n",
       "\n",
       "                                      Last Notable Activity_SMS Sent  \\\n",
       "Prospect ID                                                            \n",
       "2f3b20c1-fdd4-4455-95de-55e455d25413                               0   \n",
       "1b4cfa2d-fbb8-4ff8-8c99-fd9aed1c0ddc                               0   \n",
       "fdb72c0d-49fd-489f-b635-321dbe6a93cb                               0   \n",
       "415165bd-caff-408b-84be-2d4206f81ac9                               0   \n",
       "96da1864-e1ae-40cb-9e5c-6b92ee1557b6                               1   \n",
       "\n",
       "                                      Current_Ocupation_Working Professional  \n",
       "Prospect ID                                                                   \n",
       "2f3b20c1-fdd4-4455-95de-55e455d25413                                       0  \n",
       "1b4cfa2d-fbb8-4ff8-8c99-fd9aed1c0ddc                                       0  \n",
       "fdb72c0d-49fd-489f-b635-321dbe6a93cb                                       0  \n",
       "415165bd-caff-408b-84be-2d4206f81ac9                                       0  \n",
       "96da1864-e1ae-40cb-9e5c-6b92ee1557b6                                       0  "
      ]
     },
     "execution_count": 314,
     "metadata": {},
     "output_type": "execute_result"
    }
   ],
   "source": [
    "X_test = X_test[columns2keep]\n",
    "X_test.head()"
   ]
  },
  {
   "cell_type": "code",
   "execution_count": 315,
   "metadata": {},
   "outputs": [
    {
     "data": {
      "text/plain": [
       "(2723, 12)"
      ]
     },
     "execution_count": 315,
     "metadata": {},
     "output_type": "execute_result"
    }
   ],
   "source": [
    "X_test_sm = sm.add_constant(X_test)\n",
    "X_test_sm.shape"
   ]
  },
  {
   "cell_type": "code",
   "execution_count": 316,
   "metadata": {},
   "outputs": [],
   "source": [
    "y_test_pred = res.predict(X_test_sm)"
   ]
  },
  {
   "cell_type": "code",
   "execution_count": 317,
   "metadata": {},
   "outputs": [
    {
     "data": {
      "text/plain": [
       "Prospect ID\n",
       "2f3b20c1-fdd4-4455-95de-55e455d25413    0.049456\n",
       "1b4cfa2d-fbb8-4ff8-8c99-fd9aed1c0ddc    0.067471\n",
       "fdb72c0d-49fd-489f-b635-321dbe6a93cb    0.203602\n",
       "415165bd-caff-408b-84be-2d4206f81ac9    0.654749\n",
       "96da1864-e1ae-40cb-9e5c-6b92ee1557b6    0.327620\n",
       "a239e59d-575a-4609-a892-796f908a8ff5    0.197532\n",
       "e3a1ba17-f42a-4617-aed9-ae87af386e78    0.197532\n",
       "4dd2c291-f7bb-4d96-856a-3732fe126b73    0.360333\n",
       "50fa9f12-424e-4885-8e98-34ff7aa37d4d    0.933986\n",
       "89235290-d22f-4273-a0c0-6705fbaaad9d    0.335240\n",
       "dtype: float64"
      ]
     },
     "execution_count": 317,
     "metadata": {},
     "output_type": "execute_result"
    }
   ],
   "source": [
    "y_test_pred[:10]"
   ]
  },
  {
   "cell_type": "code",
   "execution_count": 318,
   "metadata": {},
   "outputs": [
    {
     "data": {
      "text/html": [
       "<div>\n",
       "<style scoped>\n",
       "    .dataframe tbody tr th:only-of-type {\n",
       "        vertical-align: middle;\n",
       "    }\n",
       "\n",
       "    .dataframe tbody tr th {\n",
       "        vertical-align: top;\n",
       "    }\n",
       "\n",
       "    .dataframe thead th {\n",
       "        text-align: right;\n",
       "    }\n",
       "</style>\n",
       "<table border=\"1\" class=\"dataframe\">\n",
       "  <thead>\n",
       "    <tr style=\"text-align: right;\">\n",
       "      <th></th>\n",
       "      <th>Converted</th>\n",
       "      <th>0</th>\n",
       "    </tr>\n",
       "    <tr>\n",
       "      <th>Prospect ID</th>\n",
       "      <th></th>\n",
       "      <th></th>\n",
       "    </tr>\n",
       "  </thead>\n",
       "  <tbody>\n",
       "    <tr>\n",
       "      <th>2f3b20c1-fdd4-4455-95de-55e455d25413</th>\n",
       "      <td>0.0</td>\n",
       "      <td>0.049456</td>\n",
       "    </tr>\n",
       "    <tr>\n",
       "      <th>1b4cfa2d-fbb8-4ff8-8c99-fd9aed1c0ddc</th>\n",
       "      <td>0.0</td>\n",
       "      <td>0.067471</td>\n",
       "    </tr>\n",
       "    <tr>\n",
       "      <th>fdb72c0d-49fd-489f-b635-321dbe6a93cb</th>\n",
       "      <td>0.0</td>\n",
       "      <td>0.203602</td>\n",
       "    </tr>\n",
       "    <tr>\n",
       "      <th>415165bd-caff-408b-84be-2d4206f81ac9</th>\n",
       "      <td>1.0</td>\n",
       "      <td>0.654749</td>\n",
       "    </tr>\n",
       "    <tr>\n",
       "      <th>96da1864-e1ae-40cb-9e5c-6b92ee1557b6</th>\n",
       "      <td>0.0</td>\n",
       "      <td>0.327620</td>\n",
       "    </tr>\n",
       "  </tbody>\n",
       "</table>\n",
       "</div>"
      ],
      "text/plain": [
       "                                      Converted         0\n",
       "Prospect ID                                              \n",
       "2f3b20c1-fdd4-4455-95de-55e455d25413        0.0  0.049456\n",
       "1b4cfa2d-fbb8-4ff8-8c99-fd9aed1c0ddc        0.0  0.067471\n",
       "fdb72c0d-49fd-489f-b635-321dbe6a93cb        0.0  0.203602\n",
       "415165bd-caff-408b-84be-2d4206f81ac9        1.0  0.654749\n",
       "96da1864-e1ae-40cb-9e5c-6b92ee1557b6        0.0  0.327620"
      ]
     },
     "execution_count": 318,
     "metadata": {},
     "output_type": "execute_result"
    }
   ],
   "source": [
    "# Converting y_test to dataframe\n",
    "y_test_df = pd.DataFrame(y_test)\n",
    "y_pred_final_temp = pd.DataFrame(y_test_pred)\n",
    "y_pred_final = pd.merge(y_test_df,y_pred_final_temp,on='Prospect ID')\n",
    "y_pred_final.head()"
   ]
  },
  {
   "cell_type": "code",
   "execution_count": 319,
   "metadata": {},
   "outputs": [],
   "source": [
    "# Renaming the column \n",
    "y_pred_final= y_pred_final.rename(columns={ 0 : 'Converted_prob'})"
   ]
  },
  {
   "cell_type": "code",
   "execution_count": 320,
   "metadata": {},
   "outputs": [
    {
     "data": {
      "text/html": [
       "<div>\n",
       "<style scoped>\n",
       "    .dataframe tbody tr th:only-of-type {\n",
       "        vertical-align: middle;\n",
       "    }\n",
       "\n",
       "    .dataframe tbody tr th {\n",
       "        vertical-align: top;\n",
       "    }\n",
       "\n",
       "    .dataframe thead th {\n",
       "        text-align: right;\n",
       "    }\n",
       "</style>\n",
       "<table border=\"1\" class=\"dataframe\">\n",
       "  <thead>\n",
       "    <tr style=\"text-align: right;\">\n",
       "      <th></th>\n",
       "      <th>Converted</th>\n",
       "      <th>Converted_prob</th>\n",
       "    </tr>\n",
       "    <tr>\n",
       "      <th>Prospect ID</th>\n",
       "      <th></th>\n",
       "      <th></th>\n",
       "    </tr>\n",
       "  </thead>\n",
       "  <tbody>\n",
       "    <tr>\n",
       "      <th>2f3b20c1-fdd4-4455-95de-55e455d25413</th>\n",
       "      <td>0.0</td>\n",
       "      <td>0.049456</td>\n",
       "    </tr>\n",
       "    <tr>\n",
       "      <th>1b4cfa2d-fbb8-4ff8-8c99-fd9aed1c0ddc</th>\n",
       "      <td>0.0</td>\n",
       "      <td>0.067471</td>\n",
       "    </tr>\n",
       "    <tr>\n",
       "      <th>fdb72c0d-49fd-489f-b635-321dbe6a93cb</th>\n",
       "      <td>0.0</td>\n",
       "      <td>0.203602</td>\n",
       "    </tr>\n",
       "    <tr>\n",
       "      <th>415165bd-caff-408b-84be-2d4206f81ac9</th>\n",
       "      <td>1.0</td>\n",
       "      <td>0.654749</td>\n",
       "    </tr>\n",
       "    <tr>\n",
       "      <th>96da1864-e1ae-40cb-9e5c-6b92ee1557b6</th>\n",
       "      <td>0.0</td>\n",
       "      <td>0.327620</td>\n",
       "    </tr>\n",
       "  </tbody>\n",
       "</table>\n",
       "</div>"
      ],
      "text/plain": [
       "                                      Converted  Converted_prob\n",
       "Prospect ID                                                    \n",
       "2f3b20c1-fdd4-4455-95de-55e455d25413        0.0        0.049456\n",
       "1b4cfa2d-fbb8-4ff8-8c99-fd9aed1c0ddc        0.0        0.067471\n",
       "fdb72c0d-49fd-489f-b635-321dbe6a93cb        0.0        0.203602\n",
       "415165bd-caff-408b-84be-2d4206f81ac9        1.0        0.654749\n",
       "96da1864-e1ae-40cb-9e5c-6b92ee1557b6        0.0        0.327620"
      ]
     },
     "execution_count": 320,
     "metadata": {},
     "output_type": "execute_result"
    }
   ],
   "source": [
    "y_pred_final.head()"
   ]
  },
  {
   "cell_type": "code",
   "execution_count": 321,
   "metadata": {},
   "outputs": [
    {
     "data": {
      "text/html": [
       "<div>\n",
       "<style scoped>\n",
       "    .dataframe tbody tr th:only-of-type {\n",
       "        vertical-align: middle;\n",
       "    }\n",
       "\n",
       "    .dataframe tbody tr th {\n",
       "        vertical-align: top;\n",
       "    }\n",
       "\n",
       "    .dataframe thead th {\n",
       "        text-align: right;\n",
       "    }\n",
       "</style>\n",
       "<table border=\"1\" class=\"dataframe\">\n",
       "  <thead>\n",
       "    <tr style=\"text-align: right;\">\n",
       "      <th></th>\n",
       "      <th>Converted</th>\n",
       "      <th>Converted_prob</th>\n",
       "      <th>final_predicted</th>\n",
       "    </tr>\n",
       "    <tr>\n",
       "      <th>Prospect ID</th>\n",
       "      <th></th>\n",
       "      <th></th>\n",
       "      <th></th>\n",
       "    </tr>\n",
       "  </thead>\n",
       "  <tbody>\n",
       "    <tr>\n",
       "      <th>2f3b20c1-fdd4-4455-95de-55e455d25413</th>\n",
       "      <td>0.0</td>\n",
       "      <td>0.049456</td>\n",
       "      <td>0</td>\n",
       "    </tr>\n",
       "    <tr>\n",
       "      <th>1b4cfa2d-fbb8-4ff8-8c99-fd9aed1c0ddc</th>\n",
       "      <td>0.0</td>\n",
       "      <td>0.067471</td>\n",
       "      <td>0</td>\n",
       "    </tr>\n",
       "    <tr>\n",
       "      <th>fdb72c0d-49fd-489f-b635-321dbe6a93cb</th>\n",
       "      <td>0.0</td>\n",
       "      <td>0.203602</td>\n",
       "      <td>0</td>\n",
       "    </tr>\n",
       "    <tr>\n",
       "      <th>415165bd-caff-408b-84be-2d4206f81ac9</th>\n",
       "      <td>1.0</td>\n",
       "      <td>0.654749</td>\n",
       "      <td>1</td>\n",
       "    </tr>\n",
       "    <tr>\n",
       "      <th>96da1864-e1ae-40cb-9e5c-6b92ee1557b6</th>\n",
       "      <td>0.0</td>\n",
       "      <td>0.327620</td>\n",
       "      <td>0</td>\n",
       "    </tr>\n",
       "  </tbody>\n",
       "</table>\n",
       "</div>"
      ],
      "text/plain": [
       "                                      Converted  Converted_prob  \\\n",
       "Prospect ID                                                       \n",
       "2f3b20c1-fdd4-4455-95de-55e455d25413        0.0        0.049456   \n",
       "1b4cfa2d-fbb8-4ff8-8c99-fd9aed1c0ddc        0.0        0.067471   \n",
       "fdb72c0d-49fd-489f-b635-321dbe6a93cb        0.0        0.203602   \n",
       "415165bd-caff-408b-84be-2d4206f81ac9        1.0        0.654749   \n",
       "96da1864-e1ae-40cb-9e5c-6b92ee1557b6        0.0        0.327620   \n",
       "\n",
       "                                      final_predicted  \n",
       "Prospect ID                                            \n",
       "2f3b20c1-fdd4-4455-95de-55e455d25413                0  \n",
       "1b4cfa2d-fbb8-4ff8-8c99-fd9aed1c0ddc                0  \n",
       "fdb72c0d-49fd-489f-b635-321dbe6a93cb                0  \n",
       "415165bd-caff-408b-84be-2d4206f81ac9                1  \n",
       "96da1864-e1ae-40cb-9e5c-6b92ee1557b6                0  "
      ]
     },
     "execution_count": 321,
     "metadata": {},
     "output_type": "execute_result"
    }
   ],
   "source": [
    "y_pred_final['final_predicted'] = y_pred_final.Converted_prob.map(lambda x: 1 if x > 0.35 else 0)\n",
    "y_pred_final.head()"
   ]
  },
  {
   "cell_type": "code",
   "execution_count": 322,
   "metadata": {},
   "outputs": [],
   "source": [
    "# Let's check the overall accuracy.\n",
    "accuracy_test = metrics.accuracy_score(y_pred_final.Converted, y_pred_final.final_predicted)"
   ]
  },
  {
   "cell_type": "code",
   "execution_count": 323,
   "metadata": {},
   "outputs": [
    {
     "data": {
      "text/plain": [
       "array([[1386,  325],\n",
       "       [ 215,  797]], dtype=int64)"
      ]
     },
     "execution_count": 323,
     "metadata": {},
     "output_type": "execute_result"
    }
   ],
   "source": [
    "confusion2 = metrics.confusion_matrix(y_pred_final.Converted, y_pred_final.final_predicted )\n",
    "confusion2"
   ]
  },
  {
   "cell_type": "code",
   "execution_count": 324,
   "metadata": {},
   "outputs": [],
   "source": [
    "TP = confusion2[1,1] # true positive \n",
    "TN = confusion2[0,0] # true negatives\n",
    "FP = confusion2[0,1] # false positives\n",
    "FN = confusion2[1,0] # false negatives"
   ]
  },
  {
   "cell_type": "code",
   "execution_count": 325,
   "metadata": {},
   "outputs": [],
   "source": [
    "# Let's see the sensitivity of our logistic regression model\n",
    "sensitivity_test = TP / float(TP+FN)\n",
    "\n",
    "# Let us calculate specificity\n",
    "specificity_test = TN / float(TN+FP)"
   ]
  },
  {
   "cell_type": "code",
   "execution_count": 326,
   "metadata": {},
   "outputs": [
    {
     "name": "stdout",
     "output_type": "stream",
     "text": [
      "Printing Accuracy, Specificity and Sensitivity of test data \n",
      "\n",
      "Test Data Accuracy:            0.8017 \n",
      "Test Data Sensitivity:         0.7875 \n",
      "Test Data Specificity:         0.8101 \n"
     ]
    }
   ],
   "source": [
    "print(\"Printing Accuracy, Specificity and Sensitivity of test data \\n\")\n",
    "print(\"Test Data Accuracy:            {} \".format(round(accuracy_test,4)))\n",
    "print(\"Test Data Sensitivity:         {} \".format(round(sensitivity_test,4)))\n",
    "print(\"Test Data Specificity:         {} \".format(round(specificity_test,4)))"
   ]
  },
  {
   "cell_type": "markdown",
   "metadata": {},
   "source": [
    "### Assigning Lead Score"
   ]
  },
  {
   "cell_type": "code",
   "execution_count": 327,
   "metadata": {},
   "outputs": [
    {
     "data": {
      "text/html": [
       "<div>\n",
       "<style scoped>\n",
       "    .dataframe tbody tr th:only-of-type {\n",
       "        vertical-align: middle;\n",
       "    }\n",
       "\n",
       "    .dataframe tbody tr th {\n",
       "        vertical-align: top;\n",
       "    }\n",
       "\n",
       "    .dataframe thead th {\n",
       "        text-align: right;\n",
       "    }\n",
       "</style>\n",
       "<table border=\"1\" class=\"dataframe\">\n",
       "  <thead>\n",
       "    <tr style=\"text-align: right;\">\n",
       "      <th></th>\n",
       "      <th>Converted</th>\n",
       "      <th>Converted_prob</th>\n",
       "      <th>final_predicted</th>\n",
       "      <th>Lead_Score</th>\n",
       "    </tr>\n",
       "    <tr>\n",
       "      <th>Prospect ID</th>\n",
       "      <th></th>\n",
       "      <th></th>\n",
       "      <th></th>\n",
       "      <th></th>\n",
       "    </tr>\n",
       "  </thead>\n",
       "  <tbody>\n",
       "    <tr>\n",
       "      <th>2f3b20c1-fdd4-4455-95de-55e455d25413</th>\n",
       "      <td>0.0</td>\n",
       "      <td>0.049456</td>\n",
       "      <td>0</td>\n",
       "      <td>4.95</td>\n",
       "    </tr>\n",
       "    <tr>\n",
       "      <th>1b4cfa2d-fbb8-4ff8-8c99-fd9aed1c0ddc</th>\n",
       "      <td>0.0</td>\n",
       "      <td>0.067471</td>\n",
       "      <td>0</td>\n",
       "      <td>6.75</td>\n",
       "    </tr>\n",
       "    <tr>\n",
       "      <th>fdb72c0d-49fd-489f-b635-321dbe6a93cb</th>\n",
       "      <td>0.0</td>\n",
       "      <td>0.203602</td>\n",
       "      <td>0</td>\n",
       "      <td>20.36</td>\n",
       "    </tr>\n",
       "    <tr>\n",
       "      <th>415165bd-caff-408b-84be-2d4206f81ac9</th>\n",
       "      <td>1.0</td>\n",
       "      <td>0.654749</td>\n",
       "      <td>1</td>\n",
       "      <td>65.47</td>\n",
       "    </tr>\n",
       "    <tr>\n",
       "      <th>96da1864-e1ae-40cb-9e5c-6b92ee1557b6</th>\n",
       "      <td>0.0</td>\n",
       "      <td>0.327620</td>\n",
       "      <td>0</td>\n",
       "      <td>32.76</td>\n",
       "    </tr>\n",
       "    <tr>\n",
       "      <th>a239e59d-575a-4609-a892-796f908a8ff5</th>\n",
       "      <td>1.0</td>\n",
       "      <td>0.197532</td>\n",
       "      <td>0</td>\n",
       "      <td>19.75</td>\n",
       "    </tr>\n",
       "    <tr>\n",
       "      <th>e3a1ba17-f42a-4617-aed9-ae87af386e78</th>\n",
       "      <td>0.0</td>\n",
       "      <td>0.197532</td>\n",
       "      <td>0</td>\n",
       "      <td>19.75</td>\n",
       "    </tr>\n",
       "    <tr>\n",
       "      <th>4dd2c291-f7bb-4d96-856a-3732fe126b73</th>\n",
       "      <td>0.0</td>\n",
       "      <td>0.360333</td>\n",
       "      <td>1</td>\n",
       "      <td>36.03</td>\n",
       "    </tr>\n",
       "    <tr>\n",
       "      <th>50fa9f12-424e-4885-8e98-34ff7aa37d4d</th>\n",
       "      <td>1.0</td>\n",
       "      <td>0.933986</td>\n",
       "      <td>1</td>\n",
       "      <td>93.40</td>\n",
       "    </tr>\n",
       "    <tr>\n",
       "      <th>89235290-d22f-4273-a0c0-6705fbaaad9d</th>\n",
       "      <td>0.0</td>\n",
       "      <td>0.335240</td>\n",
       "      <td>0</td>\n",
       "      <td>33.52</td>\n",
       "    </tr>\n",
       "  </tbody>\n",
       "</table>\n",
       "</div>"
      ],
      "text/plain": [
       "                                      Converted  Converted_prob  \\\n",
       "Prospect ID                                                       \n",
       "2f3b20c1-fdd4-4455-95de-55e455d25413        0.0        0.049456   \n",
       "1b4cfa2d-fbb8-4ff8-8c99-fd9aed1c0ddc        0.0        0.067471   \n",
       "fdb72c0d-49fd-489f-b635-321dbe6a93cb        0.0        0.203602   \n",
       "415165bd-caff-408b-84be-2d4206f81ac9        1.0        0.654749   \n",
       "96da1864-e1ae-40cb-9e5c-6b92ee1557b6        0.0        0.327620   \n",
       "a239e59d-575a-4609-a892-796f908a8ff5        1.0        0.197532   \n",
       "e3a1ba17-f42a-4617-aed9-ae87af386e78        0.0        0.197532   \n",
       "4dd2c291-f7bb-4d96-856a-3732fe126b73        0.0        0.360333   \n",
       "50fa9f12-424e-4885-8e98-34ff7aa37d4d        1.0        0.933986   \n",
       "89235290-d22f-4273-a0c0-6705fbaaad9d        0.0        0.335240   \n",
       "\n",
       "                                      final_predicted  Lead_Score  \n",
       "Prospect ID                                                        \n",
       "2f3b20c1-fdd4-4455-95de-55e455d25413                0        4.95  \n",
       "1b4cfa2d-fbb8-4ff8-8c99-fd9aed1c0ddc                0        6.75  \n",
       "fdb72c0d-49fd-489f-b635-321dbe6a93cb                0       20.36  \n",
       "415165bd-caff-408b-84be-2d4206f81ac9                1       65.47  \n",
       "96da1864-e1ae-40cb-9e5c-6b92ee1557b6                0       32.76  \n",
       "a239e59d-575a-4609-a892-796f908a8ff5                0       19.75  \n",
       "e3a1ba17-f42a-4617-aed9-ae87af386e78                0       19.75  \n",
       "4dd2c291-f7bb-4d96-856a-3732fe126b73                1       36.03  \n",
       "50fa9f12-424e-4885-8e98-34ff7aa37d4d                1       93.40  \n",
       "89235290-d22f-4273-a0c0-6705fbaaad9d                0       33.52  "
      ]
     },
     "execution_count": 327,
     "metadata": {},
     "output_type": "execute_result"
    }
   ],
   "source": [
    "# Assigning Lead Score\n",
    "y_pred_final['Lead_Score'] = y_pred_final.Converted_prob.map( lambda x: round((x*100),2))\n",
    "y_pred_final.head(10)"
   ]
  },
  {
   "cell_type": "markdown",
   "metadata": {},
   "source": [
    "## Precision and Recall"
   ]
  },
  {
   "cell_type": "markdown",
   "metadata": {},
   "source": [
    "#### Using Confusion Matrix "
   ]
  },
  {
   "cell_type": "code",
   "execution_count": 328,
   "metadata": {},
   "outputs": [
    {
     "data": {
      "text/plain": [
       "array([[1386,  325],\n",
       "       [ 215,  797]], dtype=int64)"
      ]
     },
     "execution_count": 328,
     "metadata": {},
     "output_type": "execute_result"
    }
   ],
   "source": [
    "confusion = metrics.confusion_matrix(y_pred_final.Converted, y_pred_final.final_predicted )\n",
    "confusion"
   ]
  },
  {
   "cell_type": "markdown",
   "metadata": {},
   "source": [
    "##### Precision\n",
    "TP / TP + FP"
   ]
  },
  {
   "cell_type": "code",
   "execution_count": 329,
   "metadata": {},
   "outputs": [
    {
     "data": {
      "text/plain": [
       "0.7103386809269162"
      ]
     },
     "execution_count": 329,
     "metadata": {},
     "output_type": "execute_result"
    }
   ],
   "source": [
    "confusion[1,1]/(confusion[0,1]+confusion[1,1])"
   ]
  },
  {
   "cell_type": "markdown",
   "metadata": {},
   "source": [
    "##### Recall\n",
    "TP / TP + FN"
   ]
  },
  {
   "cell_type": "code",
   "execution_count": 330,
   "metadata": {},
   "outputs": [
    {
     "data": {
      "text/plain": [
       "0.7875494071146245"
      ]
     },
     "execution_count": 330,
     "metadata": {},
     "output_type": "execute_result"
    }
   ],
   "source": [
    "confusion[1,1]/(confusion[1,0]+confusion[1,1])"
   ]
  },
  {
   "cell_type": "markdown",
   "metadata": {},
   "source": [
    "#### Using sklearn utilities for the same"
   ]
  },
  {
   "cell_type": "code",
   "execution_count": 331,
   "metadata": {},
   "outputs": [],
   "source": [
    "recall_test = recall_score(y_pred_final.Converted, y_pred_final.final_predicted )\n",
    "precision_test = precision_score(y_pred_final.Converted, y_pred_final.final_predicted )\n",
    "F1_score_test =  (2* precision_test * recall_test)/(precision_test + recall_test)"
   ]
  },
  {
   "cell_type": "code",
   "execution_count": 332,
   "metadata": {},
   "outputs": [
    {
     "name": "stdout",
     "output_type": "stream",
     "text": [
      "Printing Precision and Recall of test data\n",
      "\n",
      "Test Data Precision:    0.7103 \n",
      "Test Data Recall:       0.7875 \n",
      "Test Data F1 Score:     0.747 \n"
     ]
    }
   ],
   "source": [
    "print(\"Printing Precision and Recall of test data\\n\")\n",
    "print(\"Test Data Precision:    {} \".format(round(precision_test,4)))\n",
    "print(\"Test Data Recall:       {} \".format(round(recall_test,4)))\n",
    "print(\"Test Data F1 Score:     {} \".format(round(F1_score_test,4)))"
   ]
  },
  {
   "cell_type": "markdown",
   "metadata": {},
   "source": [
    "# Final Result"
   ]
  },
  {
   "cell_type": "markdown",
   "metadata": {},
   "source": [
    "###  Train data result"
   ]
  },
  {
   "cell_type": "code",
   "execution_count": 333,
   "metadata": {},
   "outputs": [
    {
     "name": "stdout",
     "output_type": "stream",
     "text": [
      "Printing Results of Train Data\n",
      "\n",
      "Train Data Accuracy:     0.8033 \n",
      "Train Data Sensitivity:  0.8015 \n",
      "Train Data Specificity:  0.8045 \n",
      "Train Data Precision:    0.8015 \n",
      "Train Data Recall:       0.6517 \n",
      "Train Data F1 Score:     0.7189 \n"
     ]
    }
   ],
   "source": [
    "print(\"Printing Results of Train Data\\n\")\n",
    "print(\"Train Data Accuracy:     {} \".format(round(accuracy_train,4)))\n",
    "print(\"Train Data Sensitivity:  {} \".format(round(sensitivity_train,4)))\n",
    "print(\"Train Data Specificity:  {} \".format(round(specificity_train,4)))\n",
    "print(\"Train Data Precision:    {} \".format(round(precision_train,4)))\n",
    "print(\"Train Data Recall:       {} \".format(round(recall_train,4)))\n",
    "print(\"Train Data F1 Score:     {} \".format(round(F1_score_train,4)))"
   ]
  },
  {
   "cell_type": "code",
   "execution_count": 334,
   "metadata": {},
   "outputs": [
    {
     "data": {
      "text/html": [
       "<div>\n",
       "<style scoped>\n",
       "    .dataframe tbody tr th:only-of-type {\n",
       "        vertical-align: middle;\n",
       "    }\n",
       "\n",
       "    .dataframe tbody tr th {\n",
       "        vertical-align: top;\n",
       "    }\n",
       "\n",
       "    .dataframe thead th {\n",
       "        text-align: right;\n",
       "    }\n",
       "</style>\n",
       "<table border=\"1\" class=\"dataframe\">\n",
       "  <thead>\n",
       "    <tr style=\"text-align: right;\">\n",
       "      <th></th>\n",
       "      <th>Prospect ID</th>\n",
       "      <th>Lead_Score</th>\n",
       "    </tr>\n",
       "  </thead>\n",
       "  <tbody>\n",
       "    <tr>\n",
       "      <th>0</th>\n",
       "      <td>22b1f1dc-97ad-4477-b123-579e9194a128</td>\n",
       "      <td>9.19</td>\n",
       "    </tr>\n",
       "    <tr>\n",
       "      <th>1</th>\n",
       "      <td>525bc35d-8098-42fb-836b-4389cef11f14</td>\n",
       "      <td>25.36</td>\n",
       "    </tr>\n",
       "    <tr>\n",
       "      <th>2</th>\n",
       "      <td>0f468d47-c064-455e-b8bc-74843b6a2c6a</td>\n",
       "      <td>46.24</td>\n",
       "    </tr>\n",
       "    <tr>\n",
       "      <th>3</th>\n",
       "      <td>9b6d6cb4-d943-47cd-b708-e09083a76f94</td>\n",
       "      <td>42.28</td>\n",
       "    </tr>\n",
       "    <tr>\n",
       "      <th>4</th>\n",
       "      <td>493597b0-14bf-446b-b11b-3f0e38c424ae</td>\n",
       "      <td>41.88</td>\n",
       "    </tr>\n",
       "  </tbody>\n",
       "</table>\n",
       "</div>"
      ],
      "text/plain": [
       "                            Prospect ID  Lead_Score\n",
       "0  22b1f1dc-97ad-4477-b123-579e9194a128        9.19\n",
       "1  525bc35d-8098-42fb-836b-4389cef11f14       25.36\n",
       "2  0f468d47-c064-455e-b8bc-74843b6a2c6a       46.24\n",
       "3  9b6d6cb4-d943-47cd-b708-e09083a76f94       42.28\n",
       "4  493597b0-14bf-446b-b11b-3f0e38c424ae       41.88"
      ]
     },
     "execution_count": 334,
     "metadata": {},
     "output_type": "execute_result"
    }
   ],
   "source": [
    "Lead_train = y_train_pred_final.copy()\n",
    "Lead_train.drop([\"Converted\",\"Converted_prob\",\"Predicted\",0.0, 0.1, 0.2, 0.3, 0.4, 0.5, 0.6, 0.7, 0.8, 0.9, \n",
    "                 \"final_predicted\"], 1, inplace = True)\n",
    "Lead_train.reset_index(inplace=True)\n",
    "Lead_train.head()"
   ]
  },
  {
   "cell_type": "markdown",
   "metadata": {},
   "source": [
    "### Test data Result"
   ]
  },
  {
   "cell_type": "code",
   "execution_count": 335,
   "metadata": {},
   "outputs": [
    {
     "name": "stdout",
     "output_type": "stream",
     "text": [
      "Printing Results of Test Data \n",
      "\n",
      "Test Data Accuracy:     0.8017 \n",
      "Test Data Sensitivity:  0.7875 \n",
      "Test Data Specificity:  0.8101 \n",
      "Test Data Precision:    0.7103 \n",
      "Test Data Recall:       0.7875 \n",
      "Test Data F1 Score:     0.747 \n"
     ]
    }
   ],
   "source": [
    "print(\"Printing Results of Test Data \\n\")\n",
    "print(\"Test Data Accuracy:     {} \".format(round(accuracy_test,4)))\n",
    "print(\"Test Data Sensitivity:  {} \".format(round(sensitivity_test,4)))\n",
    "print(\"Test Data Specificity:  {} \".format(round(specificity_test,4)))\n",
    "print(\"Test Data Precision:    {} \".format(round(precision_test,4)))\n",
    "print(\"Test Data Recall:       {} \".format(round(recall_test,4)))\n",
    "print(\"Test Data F1 Score:     {} \".format(round(F1_score_test,4)))"
   ]
  },
  {
   "cell_type": "code",
   "execution_count": 336,
   "metadata": {},
   "outputs": [
    {
     "data": {
      "text/html": [
       "<div>\n",
       "<style scoped>\n",
       "    .dataframe tbody tr th:only-of-type {\n",
       "        vertical-align: middle;\n",
       "    }\n",
       "\n",
       "    .dataframe tbody tr th {\n",
       "        vertical-align: top;\n",
       "    }\n",
       "\n",
       "    .dataframe thead th {\n",
       "        text-align: right;\n",
       "    }\n",
       "</style>\n",
       "<table border=\"1\" class=\"dataframe\">\n",
       "  <thead>\n",
       "    <tr style=\"text-align: right;\">\n",
       "      <th></th>\n",
       "      <th>Prospect ID</th>\n",
       "      <th>Lead_Score</th>\n",
       "    </tr>\n",
       "  </thead>\n",
       "  <tbody>\n",
       "    <tr>\n",
       "      <th>0</th>\n",
       "      <td>2f3b20c1-fdd4-4455-95de-55e455d25413</td>\n",
       "      <td>4.95</td>\n",
       "    </tr>\n",
       "    <tr>\n",
       "      <th>1</th>\n",
       "      <td>1b4cfa2d-fbb8-4ff8-8c99-fd9aed1c0ddc</td>\n",
       "      <td>6.75</td>\n",
       "    </tr>\n",
       "    <tr>\n",
       "      <th>2</th>\n",
       "      <td>fdb72c0d-49fd-489f-b635-321dbe6a93cb</td>\n",
       "      <td>20.36</td>\n",
       "    </tr>\n",
       "    <tr>\n",
       "      <th>3</th>\n",
       "      <td>415165bd-caff-408b-84be-2d4206f81ac9</td>\n",
       "      <td>65.47</td>\n",
       "    </tr>\n",
       "    <tr>\n",
       "      <th>4</th>\n",
       "      <td>96da1864-e1ae-40cb-9e5c-6b92ee1557b6</td>\n",
       "      <td>32.76</td>\n",
       "    </tr>\n",
       "  </tbody>\n",
       "</table>\n",
       "</div>"
      ],
      "text/plain": [
       "                            Prospect ID  Lead_Score\n",
       "0  2f3b20c1-fdd4-4455-95de-55e455d25413        4.95\n",
       "1  1b4cfa2d-fbb8-4ff8-8c99-fd9aed1c0ddc        6.75\n",
       "2  fdb72c0d-49fd-489f-b635-321dbe6a93cb       20.36\n",
       "3  415165bd-caff-408b-84be-2d4206f81ac9       65.47\n",
       "4  96da1864-e1ae-40cb-9e5c-6b92ee1557b6       32.76"
      ]
     },
     "execution_count": 336,
     "metadata": {},
     "output_type": "execute_result"
    }
   ],
   "source": [
    "Lead_test = y_pred_final.copy()\n",
    "Lead_test.drop(['Converted', 'Converted_prob', 'final_predicted'], 1, inplace = True)\n",
    "Lead_test.reset_index(inplace=True)\n",
    "Lead_test.head()"
   ]
  },
  {
   "cell_type": "code",
   "execution_count": null,
   "metadata": {},
   "outputs": [],
   "source": []
  }
 ],
 "metadata": {
  "kernelspec": {
   "display_name": "Python 3",
   "language": "python",
   "name": "python3"
  },
  "language_info": {
   "codemirror_mode": {
    "name": "ipython",
    "version": 3
   },
   "file_extension": ".py",
   "mimetype": "text/x-python",
   "name": "python",
   "nbconvert_exporter": "python",
   "pygments_lexer": "ipython3",
   "version": "3.7.3"
  }
 },
 "nbformat": 4,
 "nbformat_minor": 4
}
